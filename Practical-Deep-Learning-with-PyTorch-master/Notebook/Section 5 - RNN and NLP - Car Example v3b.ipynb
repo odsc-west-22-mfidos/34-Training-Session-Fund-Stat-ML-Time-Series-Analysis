{
 "cells": [
  {
   "cell_type": "markdown",
   "metadata": {},
   "source": [
    "<div class=\"alert alert-block alert-info\">\n",
    "<font size=\"5\"><b><center> Section 5</font></center>\n",
    "<br>\n",
    "<font size=\"5\"><b><center>Recurrent Neural Network in PyTorch with an Introduction to Natural Language Processing</font></center>\n",
    "</div>"
   ]
  },
  {
   "cell_type": "markdown",
   "metadata": {},
   "source": [
    "# Simple Text Processing"
   ]
  },
  {
   "cell_type": "markdown",
   "metadata": {},
   "source": [
    "## Typically Data Preprocessing Steps before Modeling Training for NLP Applications\n",
    "\n",
    "* Read the data from disk\n",
    "* Tokenize the text\n",
    "* Create a mapping from word to a unique integer\n",
    "* Convert the text into lists of integers\n",
    "* Load the data in whatever format your deep learning framework requires\n",
    "* Pad the text so that all the sequences are the same length, so you can process them in batch"
   ]
  },
  {
   "cell_type": "code",
   "execution_count": null,
   "metadata": {
    "ExecuteTime": {
     "end_time": "2019-04-10T04:19:16.728755Z",
     "start_time": "2019-04-10T04:19:16.725073Z"
    }
   },
   "outputs": [],
   "source": [
    "thor_review = \"the action scenes were top notch in this movie. Thor has never been this epic in the MCU. He does some pretty epic sh*t in this movie and he is definitely not under-powered anymore. Thor in unleashed in this, I love that.\""
   ]
  },
  {
   "cell_type": "code",
   "execution_count": null,
   "metadata": {
    "ExecuteTime": {
     "end_time": "2019-04-10T04:19:16.978922Z",
     "start_time": "2019-04-10T04:19:16.974913Z"
    }
   },
   "outputs": [],
   "source": [
    "word_embedding = \"word embeddings are a representation of the *semantics* of a word, efficiently encoding semantic information that might be relevant to the task at hand\""
   ]
  },
  {
   "cell_type": "code",
   "execution_count": null,
   "metadata": {
    "ExecuteTime": {
     "end_time": "2019-04-10T04:19:17.275145Z",
     "start_time": "2019-04-10T04:19:17.269739Z"
    }
   },
   "outputs": [],
   "source": [
    "print(list(word_embedding))"
   ]
  },
  {
   "cell_type": "markdown",
   "metadata": {},
   "source": [
    "## Converting text into words"
   ]
  },
  {
   "cell_type": "code",
   "execution_count": null,
   "metadata": {
    "ExecuteTime": {
     "end_time": "2019-04-10T04:19:18.395402Z",
     "start_time": "2019-04-10T04:19:18.390771Z"
    }
   },
   "outputs": [],
   "source": [
    "print(word_embedding.split())"
   ]
  },
  {
   "cell_type": "markdown",
   "metadata": {},
   "source": [
    "## N-grams and NLTK"
   ]
  },
  {
   "cell_type": "code",
   "execution_count": null,
   "metadata": {
    "ExecuteTime": {
     "end_time": "2019-04-10T04:19:23.156009Z",
     "start_time": "2019-04-10T04:19:21.456912Z"
    }
   },
   "outputs": [],
   "source": [
    "from nltk import ngrams"
   ]
  },
  {
   "cell_type": "code",
   "execution_count": null,
   "metadata": {
    "ExecuteTime": {
     "end_time": "2019-04-10T04:19:25.511795Z",
     "start_time": "2019-04-10T04:19:25.507313Z"
    }
   },
   "outputs": [],
   "source": [
    "print(list(ngrams(word_embedding.split(),2)))"
   ]
  },
  {
   "cell_type": "markdown",
   "metadata": {},
   "source": [
    "- `n-grams` is used in many supervised machine learning models, such as Naive Bayes, to improve feature space. \n",
    "\n",
    "- `n-grams` are also used for spelling correction and text-summarization tasks.\n",
    "\n",
    "- Limitation of `n-grams` representation: it loses the sequential nature of text"
   ]
  },
  {
   "cell_type": "markdown",
   "metadata": {},
   "source": [
    "**Do one-hot encoding using canned functions**"
   ]
  },
  {
   "cell_type": "markdown",
   "metadata": {},
   "source": [
    "A major limitation of the one-hot representation is that the data is too sparse, because the size of the vector quickly grows as the number of unique words in the vocabulary increases. As such, this representation is not typically used in deep learning."
   ]
  },
  {
   "cell_type": "markdown",
   "metadata": {},
   "source": [
    "## Word Embedding"
   ]
  },
  {
   "cell_type": "markdown",
   "metadata": {},
   "source": [
    "Word embedding is a very popular way of representing text data in problems that are solved by deep learning algorithms\n",
    "\n",
    "Word embedding provides a dense representation of a word filled with floating numbers. \n",
    "\n",
    "It drastically reduces the dimension of the dictionary\n",
    "\n"
   ]
  },
  {
   "cell_type": "markdown",
   "metadata": {
    "heading_collapsed": true
   },
   "source": [
    "###  `Torchtext` and Training word embedding by building a sentiment classifier"
   ]
  },
  {
   "cell_type": "markdown",
   "metadata": {
    "hidden": true
   },
   "source": [
    "Torchtext takes a declarative approach to loading its data: \n",
    "\n",
    "  * you tell torchtext how you want the data to look like, and torchtext handles it for you\n",
    "  \n",
    "  * Declaring a Field: The Field specifies how you want a certain field to be processed\n",
    "  \n",
    "The `Field` class is a fundamental component of torchtext and is what makes preprocessing very easy\n",
    "\n"
   ]
  },
  {
   "cell_type": "markdown",
   "metadata": {},
   "source": [
    "### Load  Car Review into `torchtext.data`"
   ]
  },
  {
   "cell_type": "code",
   "execution_count": 1,
   "metadata": {
    "ExecuteTime": {
     "end_time": "2019-04-10T05:00:23.724216Z",
     "start_time": "2019-04-10T05:00:20.720079Z"
    }
   },
   "outputs": [],
   "source": [
    "# pip install torchtext\n",
    "from torchtext import data, datasets\n",
    "from torchtext.vocab import GloVe,FastText,CharNGram\n",
    "\n",
    "import pandas as pd\n",
    "import numpy as np\n",
    "import re\n",
    "import string\n",
    "from IPython.core.interactiveshell import InteractiveShell\n",
    "InteractiveShell.ast_node_interactivity = \"all\"\n",
    "\n",
    "from nltk.tokenize import word_tokenize\n",
    "\n",
    "import torch.nn as nn\n",
    "import torch.optim as optim\n",
    "import torch.nn.functional as F\n",
    "from torch.autograd import Variable\n",
    "\n",
    "import torch"
   ]
  },
  {
   "cell_type": "markdown",
   "metadata": {},
   "source": [
    "* Define two `Field` objects for the actual texts and the labels.\n",
    "\n",
    "* For the actual texts, `torchtext` will lowercase, tokenize, and trim the text to a maximum length of 20. We could change the maximum length of the text to other numbers."
   ]
  },
  {
   "cell_type": "code",
   "execution_count": 2,
   "metadata": {
    "ExecuteTime": {
     "end_time": "2019-04-10T05:00:25.200147Z",
     "start_time": "2019-04-10T05:00:25.181790Z"
    }
   },
   "outputs": [],
   "source": [
    "#Load Subaru data\n",
    "review_df = pd.read_csv(\"data/Section5/car_review.csv\")"
   ]
  },
  {
   "cell_type": "code",
   "execution_count": 3,
   "metadata": {
    "ExecuteTime": {
     "end_time": "2019-04-10T05:00:25.832632Z",
     "start_time": "2019-04-10T05:00:25.812622Z"
    }
   },
   "outputs": [
    {
     "data": {
      "text/plain": [
       "<bound method DataFrame.info of                                             review_text label\n",
       "0     Just bot a 2018 Forester with cvt transmission...   neg\n",
       "1     This is the noisiest car I  have ever owned.  ...   neg\n",
       "2     Hello. My name is Steve and I recently purchas...   neg\n",
       "3     Subaru prominently displays, on the console sc...   neg\n",
       "4     My wife leased a 2016 model and within 6 mths ...   neg\n",
       "5     I ordered a toyota RAV4 but got a Forrester fr...   neg\n",
       "6     I purchased this vehicle because of Subaru's r...   neg\n",
       "7     My 2017 Forester XT Touring model has been one...   neg\n",
       "8     This is our 4th Subaru. Previously owned Impre...   neg\n",
       "9     Drives [non-permissible content removed] in cr...   neg\n",
       "10    Purchased 2017 Forester in October of 2016 at ...   neg\n",
       "11    2017 Forester 2.0 XT- I have had the radio in ...   neg\n",
       "12    The CVT transmission makes for a driving exper...   neg\n",
       "13    Updated 10k mile review                       ...   neg\n",
       "14    This is my second Forester. Last one was an '0...   neg\n",
       "15    2017 and the first month was great..then came ...   neg\n",
       "16    I purchased a 2017 Forrester after owning 2 VW...   neg\n",
       "17    Dear 2017 Forester owners. I desperately need ...   neg\n",
       "18    We bought the car based on all the hype of bei...   neg\n",
       "19    I had it 5 days & brought it back to the deale...   neg\n",
       "20    Went and bought my wife a brand new 2017 Fores...   neg\n",
       "21    After Purchasing and owning  several new GM an...   neg\n",
       "22    The Subaru Forester my wife and I own is a 201...   neg\n",
       "23    Bought this car for my wife, mostly because it...   neg\n",
       "24    If you enjoy a vehicle that rides like a buckb...   neg\n",
       "25    The paint quality is is terrible. The paint is...   neg\n",
       "26    We've always owned Honda...for the majority of...   neg\n",
       "27    Stiff and awkward.  poor visibility out back s...   neg\n",
       "28    Not only was I taken on the lease, I am shocke...   neg\n",
       "29    This 2015 Subaru Forester was my first new veh...   neg\n",
       "...                                                 ...   ...\n",
       "1494  I've only had the car for 3 weeks, but I love ...   pos\n",
       "1495  I needed to have a smaller SUV and my Forester...   pos\n",
       "1496  I had a 2014 and it saved my life so went back...   pos\n",
       "1497  as a poor snowy road driver, my forester gets ...   pos\n",
       "1498  This car is amazing. Peace of mind is what I h...   pos\n",
       "1499  So we live in like the Bermuda Triangle of hor...   pos\n",
       "1500  This is my third Forester I font even test dri...   pos\n",
       "1501  I just purchased new Subaru Forester.  I love ...   pos\n",
       "1502  Meets all my needs,lots of light, easy on gas,...   pos\n",
       "1503  Fits all of our needs as busy retirees!  Has r...   pos\n",
       "1504  Very comfortable car to drive.  Drives well on...   pos\n",
       "1505  My 2018 Subaru is an exceptional vehicle. It h...   pos\n",
       "1506  This car does meet all of my needs. The only t...   pos\n",
       "1507  This car is very useful for us when we go on t...   pos\n",
       "1508  I leased a 2015 Subaru Forester and recently p...   pos\n",
       "1509  I just bought a brand new Subaru Forester last...   pos\n",
       "1510  I was very impressed with the vehicle. For an ...   pos\n",
       "1511  This car meets our needs.  it has the visibili...   pos\n",
       "1512  This is the perfect for road trips! I drove th...   pos\n",
       "1513  Subaru Forester, meets all my needs. It handle...   pos\n",
       "1514  After looking for almost 6 years to replace my...   pos\n",
       "1515  Awesome automated safety features, eyesight al...   pos\n",
       "1516  I have had this car for less then a week and i...   pos\n",
       "1517  Had to get a new car when my beloved 2006 Suba...   pos\n",
       "1518  I had done research before I test drove the Fo...   pos\n",
       "1519  This vehicle meets our needs for traveling, an...   pos\n",
       "1520  Me and my two new knees love this car!!!  New,...   pos\n",
       "1521  My new 2018 Subaru Forester  is just fantastic...   pos\n",
       "1522  I am 5’1” and needed to replace my SUV.  I loo...   pos\n",
       "1523  This car meets all my needs. Great styling, co...   pos\n",
       "\n",
       "[1524 rows x 2 columns]>"
      ]
     },
     "execution_count": 3,
     "metadata": {},
     "output_type": "execute_result"
    }
   ],
   "source": [
    "review_df.info"
   ]
  },
  {
   "cell_type": "code",
   "execution_count": 4,
   "metadata": {
    "ExecuteTime": {
     "end_time": "2019-04-10T05:00:26.361261Z",
     "start_time": "2019-04-10T05:00:26.348610Z"
    }
   },
   "outputs": [
    {
     "data": {
      "text/html": [
       "<div>\n",
       "<style>\n",
       "    .dataframe thead tr:only-child th {\n",
       "        text-align: right;\n",
       "    }\n",
       "\n",
       "    .dataframe thead th {\n",
       "        text-align: left;\n",
       "    }\n",
       "\n",
       "    .dataframe tbody tr th {\n",
       "        vertical-align: top;\n",
       "    }\n",
       "</style>\n",
       "<table border=\"1\" class=\"dataframe\">\n",
       "  <thead>\n",
       "    <tr style=\"text-align: right;\">\n",
       "      <th></th>\n",
       "      <th>review_text</th>\n",
       "      <th>label</th>\n",
       "    </tr>\n",
       "  </thead>\n",
       "  <tbody>\n",
       "    <tr>\n",
       "      <th>0</th>\n",
       "      <td>Just bot a 2018 Forester with cvt transmission...</td>\n",
       "      <td>neg</td>\n",
       "    </tr>\n",
       "    <tr>\n",
       "      <th>1</th>\n",
       "      <td>This is the noisiest car I  have ever owned.  ...</td>\n",
       "      <td>neg</td>\n",
       "    </tr>\n",
       "    <tr>\n",
       "      <th>2</th>\n",
       "      <td>Hello. My name is Steve and I recently purchas...</td>\n",
       "      <td>neg</td>\n",
       "    </tr>\n",
       "    <tr>\n",
       "      <th>3</th>\n",
       "      <td>Subaru prominently displays, on the console sc...</td>\n",
       "      <td>neg</td>\n",
       "    </tr>\n",
       "    <tr>\n",
       "      <th>4</th>\n",
       "      <td>My wife leased a 2016 model and within 6 mths ...</td>\n",
       "      <td>neg</td>\n",
       "    </tr>\n",
       "  </tbody>\n",
       "</table>\n",
       "</div>"
      ],
      "text/plain": [
       "                                         review_text label\n",
       "0  Just bot a 2018 Forester with cvt transmission...   neg\n",
       "1  This is the noisiest car I  have ever owned.  ...   neg\n",
       "2  Hello. My name is Steve and I recently purchas...   neg\n",
       "3  Subaru prominently displays, on the console sc...   neg\n",
       "4  My wife leased a 2016 model and within 6 mths ...   neg"
      ]
     },
     "execution_count": 4,
     "metadata": {},
     "output_type": "execute_result"
    },
    {
     "data": {
      "text/plain": [
       "(1524, 2)"
      ]
     },
     "execution_count": 4,
     "metadata": {},
     "output_type": "execute_result"
    }
   ],
   "source": [
    "review_df.head()\n",
    "review_df.shape"
   ]
  },
  {
   "cell_type": "code",
   "execution_count": 5,
   "metadata": {
    "ExecuteTime": {
     "end_time": "2019-04-10T05:00:27.183034Z",
     "start_time": "2019-04-10T05:00:27.170920Z"
    }
   },
   "outputs": [
    {
     "data": {
      "text/plain": [
       "count    1524.000000\n",
       "mean      734.421260\n",
       "std       780.839384\n",
       "min         9.000000\n",
       "25%       227.750000\n",
       "50%       493.000000\n",
       "75%       956.500000\n",
       "max      5817.000000\n",
       "Name: review_text, dtype: float64"
      ]
     },
     "execution_count": 5,
     "metadata": {},
     "output_type": "execute_result"
    }
   ],
   "source": [
    "#Word count describe stats for review text\n",
    "review_df.review_text.apply(lambda x: len(x)).describe()"
   ]
  },
  {
   "cell_type": "code",
   "execution_count": 6,
   "metadata": {
    "ExecuteTime": {
     "end_time": "2019-04-10T05:00:27.870465Z",
     "start_time": "2019-04-10T05:00:27.857812Z"
    }
   },
   "outputs": [],
   "source": [
    "#Split DF csv to training and testing data\n",
    "\n",
    "def prepare_csv(df_file, text_clm, label_clm, test_ratio, seed):\n",
    "    \"\"\"\n",
    "    Split review_df to training and testing sets as csv \n",
    "    \n",
    "    Arguments:\n",
    "    df_file, the full dataset csv about to be split\n",
    "    text_clm, the column name of the text in csv\n",
    "    label_clm, the column name of the label in csv\n",
    "    val_ration, validation set ratio to the overall data\n",
    "    seed, randmoization seed\n",
    "    \n",
    "    Return:\n",
    "    save train and test csv files under data/Section5/cache folder\n",
    "    \"\"\"\n",
    "    \n",
    "    #Read file\n",
    "    full_df = pd.read_csv(df_file)\n",
    "    \n",
    "    #shuffle index\n",
    "    idx = np.arange(full_df.shape[0])\n",
    "    np.random.seed(seed)\n",
    "    np.random.shuffle(idx)\n",
    "    \n",
    "    #test set size\n",
    "    test_size = int(len(idx) * test_ratio)\n",
    "    \n",
    "    #Save train and test csv under cache folder\n",
    "    full_df.iloc[idx[test_size:], :].to_csv(\"data/Section5/cache/training.csv\", index = False)\n",
    "    full_df.iloc[idx[:test_size], :].to_csv(\"data/Section5/cache/testing.csv\", index = False)\n",
    "    \n",
    "    #Print size of trainig and testing data\n",
    "    print(\"training set size: \" + str(len(idx[test_size:])))\n",
    "    print(\"testing set size: \" + str(len(idx[:test_size]))) "
   ]
  },
  {
   "cell_type": "code",
   "execution_count": 7,
   "metadata": {
    "ExecuteTime": {
     "end_time": "2019-04-10T05:00:28.553678Z",
     "start_time": "2019-04-10T05:00:28.543885Z"
    }
   },
   "outputs": [],
   "source": [
    "#Define tokenizer function for the Text data field\n",
    "def tokenizer(comment):\n",
    "    \"\"\"\n",
    "    Tokenize reviews without punctuation and non-text signs\n",
    "    \n",
    "    Arguments:\n",
    "    String text\n",
    "    \n",
    "    Returns:\n",
    "    Tokenized clean words\n",
    "    \n",
    "    \"\"\"\n",
    "    comment = re.sub(r\"[\\*\\\"“”\\n\\\\…\\+\\-\\/\\=\\(\\)‘•:\\[\\]\\|’\\!;]\", \" \", str(comment))\n",
    "    comment = re.sub(r\"[ ]+\", \" \", comment)\n",
    "    comment = re.sub(r\"\\!+\", \"!\", comment)\n",
    "    comment = re.sub(r\"\\,+\", \",\", comment)\n",
    "    comment = re.sub(r\"\\?+\", \"?\", comment)\n",
    "    \n",
    "    return [x for x in word_tokenize(comment) if x not in string.punctuation]"
   ]
  },
  {
   "cell_type": "markdown",
   "metadata": {},
   "source": [
    "## Build Train and Text `torch.data.TabularDataset`"
   ]
  },
  {
   "cell_type": "code",
   "execution_count": 9,
   "metadata": {
    "ExecuteTime": {
     "end_time": "2019-04-10T05:00:36.487790Z",
     "start_time": "2019-04-10T05:00:34.254559Z"
    }
   },
   "outputs": [
    {
     "name": "stdout",
     "output_type": "stream",
     "text": [
      "training set size: 1067\n",
      "testing set size: 457\n"
     ]
    }
   ],
   "source": [
    "#Split Train and Test\n",
    "prepare_csv(\"data/Section5/car_review.csv\", \"review_text\", \"label\", 0.3, 42)\n",
    "\n",
    "#construct field\n",
    "TEXT = data.Field(sequential=True, fix_length=300, tokenize=tokenizer, pad_first=True,\n",
    "    #tensor_type=torch.cuda.LongTensor, \n",
    "                  lower=True, batch_first = True)\n",
    "\n",
    "LABEL = data.Field(sequential = False)\n",
    "\n",
    "#Build training and testing datasets\n",
    "train = data.TabularDataset(path='data/Section5/cache/training.csv', format='csv', skip_header=True,\n",
    "    fields=[('review_text', TEXT),\n",
    "        ('label', LABEL),\n",
    "    ])\n",
    "test = data.TabularDataset(path='data/Section5/cache/testing.csv', format='csv', skip_header=True,\n",
    "    fields=[('review_text', TEXT),\n",
    "        ('label', LABEL),\n",
    "    ])"
   ]
  },
  {
   "cell_type": "markdown",
   "metadata": {},
   "source": [
    "- **Read in car_review.csv and split it ito train and test datasets**\n",
    "\n",
    "- The following command abstracts away all the complexity involved in downloading, tokenizing, and splitting the database into train and test datasets\n",
    "\n",
    "- Torch comes with datasets to play with; e.g. IMDB datasets. `torch.datasets` come with many datasets, such as `IMDB` for sentiment analysis, `TREC` for question classification, `WikiText-2` for language modeling, etc.\n",
    "\n",
    "- For tokenization, `NLTK` can also be specified"
   ]
  },
  {
   "cell_type": "code",
   "execution_count": 10,
   "metadata": {
    "ExecuteTime": {
     "end_time": "2019-04-10T05:00:44.119664Z",
     "start_time": "2019-04-10T05:00:44.114318Z"
    }
   },
   "outputs": [
    {
     "data": {
      "text/plain": [
       "(1067, 457)"
      ]
     },
     "execution_count": 10,
     "metadata": {},
     "output_type": "execute_result"
    }
   ],
   "source": [
    "#Number of training and testing reviews\n",
    "len(train), len(test)"
   ]
  },
  {
   "cell_type": "code",
   "execution_count": 11,
   "metadata": {
    "ExecuteTime": {
     "end_time": "2019-04-10T05:00:44.595337Z",
     "start_time": "2019-04-10T05:00:44.588943Z"
    }
   },
   "outputs": [
    {
     "data": {
      "text/plain": [
       "<torchtext.data.field.Field at 0x1105d1d68>"
      ]
     },
     "execution_count": 11,
     "metadata": {},
     "output_type": "execute_result"
    }
   ],
   "source": [
    "train.fields['review_text']"
   ]
  },
  {
   "cell_type": "markdown",
   "metadata": {},
   "source": [
    "`train.fields` contains a dictionary where `TEXT` is the key and the `value` LABEL"
   ]
  },
  {
   "cell_type": "code",
   "execution_count": 12,
   "metadata": {
    "ExecuteTime": {
     "end_time": "2019-04-10T05:00:45.378664Z",
     "start_time": "2019-04-10T05:00:45.372867Z"
    }
   },
   "outputs": [
    {
     "data": {
      "text/plain": [
       "dict"
      ]
     },
     "execution_count": 12,
     "metadata": {},
     "output_type": "execute_result"
    }
   ],
   "source": [
    "type(train.fields)"
   ]
  },
  {
   "cell_type": "code",
   "execution_count": 13,
   "metadata": {
    "ExecuteTime": {
     "end_time": "2019-04-10T05:00:45.889972Z",
     "start_time": "2019-04-10T05:00:45.884862Z"
    }
   },
   "outputs": [
    {
     "name": "stdout",
     "output_type": "stream",
     "text": [
      "train.fields {'review_text': <torchtext.data.field.Field object at 0x1105d1d68>, 'label': <torchtext.data.field.Field object at 0x1105d1e48>}\n"
     ]
    }
   ],
   "source": [
    "print('train.fields', train.fields)"
   ]
  },
  {
   "cell_type": "code",
   "execution_count": 14,
   "metadata": {
    "ExecuteTime": {
     "end_time": "2019-04-10T05:00:46.307387Z",
     "start_time": "2019-04-10T05:00:46.301676Z"
    }
   },
   "outputs": [
    {
     "data": {
      "text/plain": [
       "dict_keys(['review_text', 'label'])"
      ]
     },
     "execution_count": 14,
     "metadata": {},
     "output_type": "execute_result"
    }
   ],
   "source": [
    "train.fields.keys()"
   ]
  },
  {
   "cell_type": "code",
   "execution_count": 15,
   "metadata": {
    "ExecuteTime": {
     "end_time": "2019-04-10T05:00:46.935792Z",
     "start_time": "2019-04-10T05:00:46.929332Z"
    }
   },
   "outputs": [
    {
     "data": {
      "text/plain": [
       "2"
      ]
     },
     "execution_count": 15,
     "metadata": {},
     "output_type": "execute_result"
    }
   ],
   "source": [
    "len(train.fields)"
   ]
  },
  {
   "cell_type": "code",
   "execution_count": 16,
   "metadata": {
    "ExecuteTime": {
     "end_time": "2019-04-10T05:00:47.581718Z",
     "start_time": "2019-04-10T05:00:47.575238Z"
    }
   },
   "outputs": [
    {
     "data": {
      "text/plain": [
       "dict_values([<torchtext.data.field.Field object at 0x1105d1d68>, <torchtext.data.field.Field object at 0x1105d1e48>])"
      ]
     },
     "execution_count": 16,
     "metadata": {},
     "output_type": "execute_result"
    }
   ],
   "source": [
    "train.fields.values()"
   ]
  },
  {
   "cell_type": "code",
   "execution_count": 17,
   "metadata": {
    "ExecuteTime": {
     "end_time": "2019-04-10T05:00:47.870826Z",
     "start_time": "2019-04-10T05:00:47.865089Z"
    }
   },
   "outputs": [
    {
     "data": {
      "text/plain": [
       "dict_items([('review_text', <torchtext.data.field.Field object at 0x1105d1d68>), ('label', <torchtext.data.field.Field object at 0x1105d1e48>)])"
      ]
     },
     "execution_count": 17,
     "metadata": {},
     "output_type": "execute_result"
    }
   ],
   "source": [
    "train.fields.items()"
   ]
  },
  {
   "cell_type": "code",
   "execution_count": 18,
   "metadata": {
    "ExecuteTime": {
     "end_time": "2019-04-10T05:00:48.051949Z",
     "start_time": "2019-04-10T05:00:48.046031Z"
    }
   },
   "outputs": [
    {
     "data": {
      "text/plain": [
       "torchtext.data.dataset.TabularDataset"
      ]
     },
     "execution_count": 18,
     "metadata": {},
     "output_type": "execute_result"
    }
   ],
   "source": [
    "type(train)"
   ]
  },
  {
   "cell_type": "code",
   "execution_count": 19,
   "metadata": {
    "ExecuteTime": {
     "end_time": "2019-04-10T05:00:48.433873Z",
     "start_time": "2019-04-10T05:00:48.416027Z"
    }
   },
   "outputs": [
    {
     "data": {
      "text/plain": [
       "(27,)"
      ]
     },
     "execution_count": 19,
     "metadata": {},
     "output_type": "execute_result"
    },
    {
     "data": {
      "text/plain": [
       "{'label': 'pos',\n",
       " 'review_text': ['fair',\n",
       "  'warning',\n",
       "  'this',\n",
       "  'review',\n",
       "  'is',\n",
       "  'long',\n",
       "  'intended',\n",
       "  'to',\n",
       "  'provide',\n",
       "  'the',\n",
       "  'kind',\n",
       "  'of',\n",
       "  'consumer',\n",
       "  'details',\n",
       "  'that',\n",
       "  'professional',\n",
       "  'reviewers',\n",
       "  'won',\n",
       "  't',\n",
       "  'notice',\n",
       "  'in',\n",
       "  'their',\n",
       "  'few',\n",
       "  'hours',\n",
       "  'with',\n",
       "  'a',\n",
       "  'car',\n",
       "  'i',\n",
       "  'generally',\n",
       "  'agree',\n",
       "  'with',\n",
       "  'the',\n",
       "  'professional',\n",
       "  'reviews',\n",
       "  'and',\n",
       "  'if',\n",
       "  'only',\n",
       "  'looking',\n",
       "  'for',\n",
       "  'a',\n",
       "  '30',\n",
       "  'second',\n",
       "  'summary',\n",
       "  'my',\n",
       "  'review',\n",
       "  'is',\n",
       "  'not',\n",
       "  'for',\n",
       "  'you',\n",
       "  'we',\n",
       "  've',\n",
       "  'owned',\n",
       "  'our',\n",
       "  '2018',\n",
       "  'highlander',\n",
       "  'hybrid',\n",
       "  'awd',\n",
       "  'limited',\n",
       "  'platinum',\n",
       "  'about',\n",
       "  'a',\n",
       "  'month',\n",
       "  'now',\n",
       "  'other',\n",
       "  'contenders',\n",
       "  'included',\n",
       "  'a',\n",
       "  'lexus',\n",
       "  'rxl',\n",
       "  'audi',\n",
       "  'q7',\n",
       "  'acura',\n",
       "  'mdx',\n",
       "  'and',\n",
       "  'honda',\n",
       "  'pilot',\n",
       "  'while',\n",
       "  'never',\n",
       "  'unimportant',\n",
       "  'price',\n",
       "  'was',\n",
       "  'not',\n",
       "  'the',\n",
       "  'top',\n",
       "  'concern',\n",
       "  'and',\n",
       "  'we',\n",
       "  'bought',\n",
       "  'which',\n",
       "  'one',\n",
       "  'we',\n",
       "  'like',\n",
       "  'the',\n",
       "  'best',\n",
       "  'that',\n",
       "  'was',\n",
       "  'the',\n",
       "  'highlander',\n",
       "  'including',\n",
       "  'over',\n",
       "  'the',\n",
       "  'luxury',\n",
       "  'brands',\n",
       "  'listed',\n",
       "  'because',\n",
       "  'we',\n",
       "  'were',\n",
       "  'comparing',\n",
       "  'to',\n",
       "  'and',\n",
       "  'shopping',\n",
       "  'the',\n",
       "  'luxury',\n",
       "  'brands',\n",
       "  'we',\n",
       "  'ended',\n",
       "  'up',\n",
       "  'at',\n",
       "  'the',\n",
       "  'very',\n",
       "  'top',\n",
       "  'trim',\n",
       "  'level',\n",
       "  'possible',\n",
       "  'comments',\n",
       "  'we',\n",
       "  've',\n",
       "  'been',\n",
       "  'getting',\n",
       "  'about',\n",
       "  '25',\n",
       "  'mpg',\n",
       "  'while',\n",
       "  'not',\n",
       "  'the',\n",
       "  'epa',\n",
       "  'rating',\n",
       "  'the',\n",
       "  'epa',\n",
       "  'doesn',\n",
       "  't',\n",
       "  'drive',\n",
       "  '75',\n",
       "  'mph',\n",
       "  'either',\n",
       "  'for',\n",
       "  'a',\n",
       "  '4500',\n",
       "  'pound',\n",
       "  'vehicle',\n",
       "  'with',\n",
       "  'over',\n",
       "  '300',\n",
       "  'hp',\n",
       "  'i',\n",
       "  'm',\n",
       "  'hugely',\n",
       "  'satisfied',\n",
       "  'with',\n",
       "  'the',\n",
       "  'mpg',\n",
       "  'while',\n",
       "  'many',\n",
       "  'reviews',\n",
       "  'single',\n",
       "  'out',\n",
       "  'the',\n",
       "  'infotainment',\n",
       "  'center',\n",
       "  'as',\n",
       "  'a',\n",
       "  'con',\n",
       "  'it',\n",
       "  'was',\n",
       "  'a',\n",
       "  'huge',\n",
       "  'plus',\n",
       "  'and',\n",
       "  'primary',\n",
       "  'selling',\n",
       "  'point',\n",
       "  'for',\n",
       "  'us',\n",
       "  'i',\n",
       "  'hate',\n",
       "  'anything',\n",
       "  'that',\n",
       "  'looks',\n",
       "  'like',\n",
       "  'a',\n",
       "  'tablet',\n",
       "  'was',\n",
       "  'stuck',\n",
       "  'to',\n",
       "  'the',\n",
       "  'dash',\n",
       "  'or',\n",
       "  'involves',\n",
       "  'a',\n",
       "  'mouse',\n",
       "  'joystick',\n",
       "  'wheel',\n",
       "  'or',\n",
       "  'any',\n",
       "  'other',\n",
       "  'weird',\n",
       "  'input',\n",
       "  'method',\n",
       "  'the',\n",
       "  'highlander',\n",
       "  'uses',\n",
       "  'a',\n",
       "  'touch',\n",
       "  'screen',\n",
       "  'flush',\n",
       "  'mounted',\n",
       "  'in',\n",
       "  'dash',\n",
       "  'as',\n",
       "  'it',\n",
       "  'should',\n",
       "  'be',\n",
       "  'regarding',\n",
       "  'device',\n",
       "  'connectivity',\n",
       "  'you',\n",
       "  'can',\n",
       "  'connect',\n",
       "  'both',\n",
       "  'a',\n",
       "  'phone',\n",
       "  'and',\n",
       "  'another',\n",
       "  'device',\n",
       "  'for',\n",
       "  'music',\n",
       "  'like',\n",
       "  'another',\n",
       "  'phone',\n",
       "  'at',\n",
       "  'the',\n",
       "  'same',\n",
       "  'time',\n",
       "  'if',\n",
       "  'you',\n",
       "  'want',\n",
       "  'convenient',\n",
       "  'to',\n",
       "  'have',\n",
       "  'the',\n",
       "  'kids',\n",
       "  'dj',\n",
       "  'from',\n",
       "  'the',\n",
       "  'back',\n",
       "  'seat',\n",
       "  'while',\n",
       "  'still',\n",
       "  'keeping',\n",
       "  'my',\n",
       "  'phone',\n",
       "  'connected',\n",
       "  'the',\n",
       "  'system',\n",
       "  'downloads',\n",
       "  'all',\n",
       "  'contacts',\n",
       "  'can',\n",
       "  'directly',\n",
       "  'control',\n",
       "  'device',\n",
       "  'music',\n",
       "  'reads',\n",
       "  'your',\n",
       "  'incoming',\n",
       "  'texts',\n",
       "  'aloud',\n",
       "  'streams',\n",
       "  'pandora',\n",
       "  'or',\n",
       "  'other',\n",
       "  'content',\n",
       "  'from',\n",
       "  'a',\n",
       "  'device',\n",
       "  'ok',\n",
       "  'it',\n",
       "  's',\n",
       "  'not',\n",
       "  'carplay',\n",
       "  'but',\n",
       "  'i',\n",
       "  'think',\n",
       "  'it',\n",
       "  's',\n",
       "  'better',\n",
       "  'takes',\n",
       "  'about',\n",
       "  'a',\n",
       "  'day',\n",
       "  'to',\n",
       "  'learn',\n",
       "  'but',\n",
       "  'awesome',\n",
       "  'after',\n",
       "  'that',\n",
       "  'toyota',\n",
       "  'don',\n",
       "  't',\n",
       "  'change',\n",
       "  'a',\n",
       "  'thing',\n",
       "  'the',\n",
       "  '5',\n",
       "  'usb',\n",
       "  'power',\n",
       "  'ports',\n",
       "  '2',\n",
       "  'in',\n",
       "  'front',\n",
       "  '3',\n",
       "  'in',\n",
       "  'back',\n",
       "  'are',\n",
       "  'a',\n",
       "  'big',\n",
       "  'deal',\n",
       "  'and',\n",
       "  'a',\n",
       "  'must',\n",
       "  'have',\n",
       "  'for',\n",
       "  'our',\n",
       "  'family',\n",
       "  'not',\n",
       "  'all',\n",
       "  'competitors',\n",
       "  'had',\n",
       "  'this',\n",
       "  'the',\n",
       "  '110',\n",
       "  'ac',\n",
       "  'household',\n",
       "  'plug',\n",
       "  'is',\n",
       "  'nice',\n",
       "  'too',\n",
       "  '.already',\n",
       "  'used',\n",
       "  'it',\n",
       "  'to',\n",
       "  'keep',\n",
       "  'the',\n",
       "  'crockpot',\n",
       "  'plugged',\n",
       "  'in',\n",
       "  'and',\n",
       "  'warm',\n",
       "  'enroute',\n",
       "  'a',\n",
       "  'super',\n",
       "  'bowl',\n",
       "  'party',\n",
       "  'at',\n",
       "  'the',\n",
       "  'higher',\n",
       "  'trim',\n",
       "  'levels',\n",
       "  'the',\n",
       "  'interior',\n",
       "  'is',\n",
       "  'luxury',\n",
       "  'level',\n",
       "  'on',\n",
       "  'par',\n",
       "  'with',\n",
       "  'the',\n",
       "  'lexus',\n",
       "  'rx',\n",
       "  'better',\n",
       "  'than',\n",
       "  'the',\n",
       "  'acura',\n",
       "  'mdx',\n",
       "  'in',\n",
       "  'our',\n",
       "  'opinion',\n",
       "  'as',\n",
       "  'professional',\n",
       "  'reviewers',\n",
       "  'have',\n",
       "  'noted',\n",
       "  'the',\n",
       "  'seat',\n",
       "  'comfort',\n",
       "  'is',\n",
       "  'world',\n",
       "  'class',\n",
       "  'by',\n",
       "  'far',\n",
       "  'the',\n",
       "  'best',\n",
       "  'of',\n",
       "  'any',\n",
       "  'comparable',\n",
       "  'vehicle',\n",
       "  'we',\n",
       "  'looked',\n",
       "  'at',\n",
       "  'while',\n",
       "  'i',\n",
       "  'can',\n",
       "  't',\n",
       "  'disagree',\n",
       "  'with',\n",
       "  'the',\n",
       "  'professional',\n",
       "  'reviews',\n",
       "  'that',\n",
       "  'xle',\n",
       "  'is',\n",
       "  'the',\n",
       "  'value',\n",
       "  'trim',\n",
       "  'level',\n",
       "  'it',\n",
       "  's',\n",
       "  'not',\n",
       "  'ridiculously',\n",
       "  'more',\n",
       "  'to',\n",
       "  'move',\n",
       "  'up',\n",
       "  'limited',\n",
       "  'adds',\n",
       "  '3k',\n",
       "  'then',\n",
       "  'limited',\n",
       "  'platinum',\n",
       "  'adds',\n",
       "  'another',\n",
       "  '3k',\n",
       "  'for',\n",
       "  'perspective',\n",
       "  'each',\n",
       "  'is',\n",
       "  'well',\n",
       "  'less',\n",
       "  'than',\n",
       "  '10',\n",
       "  'of',\n",
       "  'the',\n",
       "  'vehicle',\n",
       "  'price',\n",
       "  'or',\n",
       "  'collectively',\n",
       "  'about',\n",
       "  '15',\n",
       "  'for',\n",
       "  'that',\n",
       "  'you',\n",
       "  'get',\n",
       "  'the',\n",
       "  'following',\n",
       "  'upgraded',\n",
       "  'wheels',\n",
       "  'upgraded',\n",
       "  'audio',\n",
       "  'panoramic',\n",
       "  'moonroof',\n",
       "  'surround',\n",
       "  'view',\n",
       "  'cameras',\n",
       "  'front',\n",
       "  'and',\n",
       "  'rear',\n",
       "  'parking',\n",
       "  'sonar',\n",
       "  '2',\n",
       "  'person',\n",
       "  'memory',\n",
       "  'driver',\n",
       "  's',\n",
       "  'seat',\n",
       "  'power',\n",
       "  'passenger',\n",
       "  'seat',\n",
       "  'led',\n",
       "  'daytime',\n",
       "  'running',\n",
       "  'lights',\n",
       "  'heated',\n",
       "  '2nd',\n",
       "  'row',\n",
       "  'seats',\n",
       "  'heated',\n",
       "  'steering',\n",
       "  'wheel',\n",
       "  'heated',\n",
       "  'mirrors',\n",
       "  'air',\n",
       "  'conditioned',\n",
       "  'front',\n",
       "  'seats',\n",
       "  'rain',\n",
       "  'sensing',\n",
       "  'wipers',\n",
       "  'cargo',\n",
       "  'cover',\n",
       "  'to',\n",
       "  'us',\n",
       "  'it',\n",
       "  'seemed',\n",
       "  'very',\n",
       "  'worth',\n",
       "  'it',\n",
       "  'especially',\n",
       "  'if',\n",
       "  'comparing',\n",
       "  'to',\n",
       "  'and',\n",
       "  'considering',\n",
       "  'luxury',\n",
       "  'brands',\n",
       "  'on',\n",
       "  'the',\n",
       "  'luxury',\n",
       "  'brands',\n",
       "  'the',\n",
       "  'option',\n",
       "  'packages',\n",
       "  'cost',\n",
       "  'more',\n",
       "  'than',\n",
       "  'that',\n",
       "  'and',\n",
       "  'often',\n",
       "  'don',\n",
       "  't',\n",
       "  'even',\n",
       "  'deliver',\n",
       "  'nearly',\n",
       "  'as',\n",
       "  'much',\n",
       "  'while',\n",
       "  'not',\n",
       "  'required',\n",
       "  'many',\n",
       "  'of',\n",
       "  'these',\n",
       "  'options',\n",
       "  'are',\n",
       "  'a',\n",
       "  'big',\n",
       "  'deal',\n",
       "  'to',\n",
       "  'us',\n",
       "  'and',\n",
       "  'certainly',\n",
       "  'worth',\n",
       "  'paying',\n",
       "  'for',\n",
       "  'we',\n",
       "  'use',\n",
       "  'them',\n",
       "  'all',\n",
       "  'the',\n",
       "  'time',\n",
       "  'heated',\n",
       "  'second',\n",
       "  '2nd',\n",
       "  'row',\n",
       "  'seats',\n",
       "  'our',\n",
       "  'teenagers',\n",
       "  'love',\n",
       "  'em',\n",
       "  'surround',\n",
       "  'view',\n",
       "  'cameras',\n",
       "  'and',\n",
       "  'parking',\n",
       "  'sonar',\n",
       "  'tremendously',\n",
       "  'helpful',\n",
       "  'driver',\n",
       "  'memory',\n",
       "  'seats',\n",
       "  '–',\n",
       "  'needed',\n",
       "  'for',\n",
       "  'a',\n",
       "  'family',\n",
       "  'vehicle',\n",
       "  'where',\n",
       "  'more',\n",
       "  'than',\n",
       "  'one',\n",
       "  'person',\n",
       "  'drives',\n",
       "  'panoramic',\n",
       "  'moonroof',\n",
       "  'that',\n",
       "  'extends',\n",
       "  'all',\n",
       "  'the',\n",
       "  'way',\n",
       "  'over',\n",
       "  'the',\n",
       "  '2nd',\n",
       "  'row',\n",
       "  '–',\n",
       "  'kids',\n",
       "  'love',\n",
       "  'that',\n",
       "  'too',\n",
       "  'these',\n",
       "  'are',\n",
       "  'great',\n",
       "  'family',\n",
       "  'vehicle',\n",
       "  'options',\n",
       "  'which',\n",
       "  'is',\n",
       "  'exactly',\n",
       "  'what',\n",
       "  'the',\n",
       "  'highlander',\n",
       "  'is',\n",
       "  'drivewise',\n",
       "  'the',\n",
       "  'ride',\n",
       "  'is',\n",
       "  'mini',\n",
       "  'van',\n",
       "  'esque',\n",
       "  'which',\n",
       "  'is',\n",
       "  'a',\n",
       "  'good',\n",
       "  'thing',\n",
       "  'doesn',\n",
       "  't',\n",
       "  'drive',\n",
       "  'like',\n",
       "  'a',\n",
       "  'truck',\n",
       "  'nothing',\n",
       "  'exciting',\n",
       "  'but',\n",
       "  'pretty',\n",
       "  'much',\n",
       "  'what',\n",
       "  'you',\n",
       "  'want',\n",
       "  'in',\n",
       "  'a',\n",
       "  'family',\n",
       "  'hauler',\n",
       "  'while',\n",
       "  'i',\n",
       "  'wouldn',\n",
       "  't',\n",
       "  'call',\n",
       "  'it',\n",
       "  'an',\n",
       "  'everyday',\n",
       "  '3rd',\n",
       "  'row',\n",
       "  'the',\n",
       "  '3rd',\n",
       "  'row',\n",
       "  'is',\n",
       "  'very',\n",
       "  'serviceable',\n",
       "  'for',\n",
       "  'occasional',\n",
       "  'use',\n",
       "  'and',\n",
       "  'more',\n",
       "  'than',\n",
       "  'met',\n",
       "  'our',\n",
       "  'expectations',\n",
       "  'when',\n",
       "  'folded',\n",
       "  'it',\n",
       "  'also',\n",
       "  'looks',\n",
       "  'neat',\n",
       "  'and',\n",
       "  'flush',\n",
       "  'some',\n",
       "  'of',\n",
       "  'the',\n",
       "  'competitors',\n",
       "  'didn',\n",
       "  't.',\n",
       "  'in',\n",
       "  'summary',\n",
       "  'the',\n",
       "  'family',\n",
       "  'features',\n",
       "  'are',\n",
       "  'what',\n",
       "  'make',\n",
       "  'this',\n",
       "  'car',\n",
       "  'specifically',\n",
       "  'all',\n",
       "  'the',\n",
       "  'usb',\n",
       "  'power',\n",
       "  'ports',\n",
       "  'the',\n",
       "  'panoramic',\n",
       "  'moonroof',\n",
       "  'the',\n",
       "  'heated',\n",
       "  'seats',\n",
       "  'for',\n",
       "  'everybody',\n",
       "  'the',\n",
       "  'adequate',\n",
       "  '3rd',\n",
       "  'row',\n",
       "  'the',\n",
       "  'driver',\n",
       "  'memory',\n",
       "  'seat',\n",
       "  'passenger',\n",
       "  'power',\n",
       "  'seat',\n",
       "  'the',\n",
       "  'ability',\n",
       "  'to',\n",
       "  'connect',\n",
       "  'multiple',\n",
       "  'bluetooth',\n",
       "  'devices',\n",
       "  'simultaneously',\n",
       "  'most',\n",
       "  'vehicles',\n",
       "  'just',\n",
       "  'focus',\n",
       "  'on',\n",
       "  'the',\n",
       "  'driver',\n",
       "  'the',\n",
       "  'highlander',\n",
       "  'focuses',\n",
       "  'on',\n",
       "  'the',\n",
       "  'whole',\n",
       "  'family',\n",
       "  'especially',\n",
       "  'at',\n",
       "  'the',\n",
       "  'higher',\n",
       "  'trim',\n",
       "  'levels',\n",
       "  'which',\n",
       "  'is',\n",
       "  'exactly',\n",
       "  'why',\n",
       "  'we',\n",
       "  'bought',\n",
       "  'it',\n",
       "  'a',\n",
       "  'month',\n",
       "  'later',\n",
       "  'we',\n",
       "  're',\n",
       "  'still',\n",
       "  'loving',\n",
       "  'it',\n",
       "  'and',\n",
       "  'are',\n",
       "  '100',\n",
       "  'convinced',\n",
       "  'we',\n",
       "  'bought',\n",
       "  'the',\n",
       "  'right',\n",
       "  'vehicle']}"
      ]
     },
     "execution_count": 19,
     "metadata": {},
     "output_type": "execute_result"
    }
   ],
   "source": [
    "len(train[0].review_text),\n",
    "vars(train[120])"
   ]
  },
  {
   "cell_type": "markdown",
   "metadata": {},
   "source": [
    "## Buidling a vocabulary"
   ]
  },
  {
   "cell_type": "markdown",
   "metadata": {},
   "source": [
    "The `torchtext` facilitate the creation of a dictionary from a corpus of text. Once a dataset is loaded, we can call `build_vocab` and pass the necessary arguments that will handle building the vocabulary for the data. \n",
    "\n",
    "For instance, in the code below, we can initialize vectors with `pretrained embeddings of dimensions 300`"
   ]
  },
  {
   "cell_type": "code",
   "execution_count": 20,
   "metadata": {
    "ExecuteTime": {
     "end_time": "2019-04-10T05:00:55.240806Z",
     "start_time": "2019-04-10T05:00:54.637875Z"
    }
   },
   "outputs": [],
   "source": [
    "#Build Vocabulary with Glove\n",
    "TEXT.build_vocab(train, vectors=GloVe(name='6B', dim=300),max_size=10000,min_freq=5)\n",
    "LABEL.build_vocab(train,)"
   ]
  },
  {
   "cell_type": "markdown",
   "metadata": {},
   "source": [
    "Once the vocabulary is built, we can obtain different values such as \n",
    "    * frequency\n",
    "    * word index\n",
    "    * vector representation for each word"
   ]
  },
  {
   "cell_type": "code",
   "execution_count": 21,
   "metadata": {
    "ExecuteTime": {
     "end_time": "2019-04-10T05:01:01.297071Z",
     "start_time": "2019-04-10T05:01:01.290354Z"
    }
   },
   "outputs": [
    {
     "name": "stdout",
     "output_type": "stream",
     "text": [
      "tensor([[ 0.0000,  0.0000,  0.0000,  ...,  0.0000,  0.0000,  0.0000],\n",
      "        [ 0.0000,  0.0000,  0.0000,  ...,  0.0000,  0.0000,  0.0000],\n",
      "        [ 0.0466,  0.2132, -0.0074,  ...,  0.0091, -0.2099,  0.0539],\n",
      "        ...,\n",
      "        [ 0.2170,  0.1269,  0.0100,  ..., -0.1150,  0.1451,  0.2490],\n",
      "        [-0.3212,  0.0243, -0.4958,  ...,  0.3266, -0.1780,  0.0385],\n",
      "        [-0.4707, -0.1889,  0.4442,  ...,  0.1091,  0.0852, -0.3858]])\n"
     ]
    }
   ],
   "source": [
    "print(TEXT.vocab.vectors)"
   ]
  },
  {
   "cell_type": "code",
   "execution_count": 22,
   "metadata": {
    "ExecuteTime": {
     "end_time": "2019-04-10T05:01:02.182518Z",
     "start_time": "2019-04-10T05:01:02.176529Z"
    }
   },
   "outputs": [
    {
     "data": {
      "text/plain": [
       "torch.Size([2308, 300])"
      ]
     },
     "execution_count": 22,
     "metadata": {},
     "output_type": "execute_result"
    }
   ],
   "source": [
    "TEXT.vocab.vectors.shape"
   ]
  },
  {
   "cell_type": "code",
   "execution_count": 23,
   "metadata": {
    "ExecuteTime": {
     "end_time": "2019-04-10T05:01:02.866255Z",
     "start_time": "2019-04-10T05:01:02.860474Z"
    }
   },
   "outputs": [
    {
     "data": {
      "text/plain": [
       "torch.Size([300])"
      ]
     },
     "execution_count": 23,
     "metadata": {},
     "output_type": "execute_result"
    }
   ],
   "source": [
    "TEXT.vocab.vectors[3].shape"
   ]
  },
  {
   "cell_type": "code",
   "execution_count": 24,
   "metadata": {
    "ExecuteTime": {
     "end_time": "2019-04-10T05:01:03.977276Z",
     "start_time": "2019-04-10T05:01:03.966242Z"
    }
   },
   "outputs": [
    {
     "data": {
      "text/plain": [
       "tensor([-4.0578e-01,  1.9104e-01, -4.4478e-02, -3.7596e-01, -5.2203e-02,\n",
       "         1.5818e-01, -2.1864e-01, -4.9750e-01,  1.6392e-01, -1.1630e+00,\n",
       "        -1.3035e-01,  1.4735e-03,  2.0038e-01,  8.1595e-02, -1.8067e-01,\n",
       "         3.2417e-01, -1.6932e-01, -1.2512e-01, -1.8244e-01, -2.7191e-02,\n",
       "         4.8280e-02,  2.4737e-01,  3.1848e-02,  4.9044e-03,  5.5381e-02,\n",
       "        -8.6290e-02,  3.9594e-01, -2.7219e-01,  2.3002e-01, -4.9137e-02,\n",
       "         6.0252e-02,  6.1103e-03, -3.0469e-01,  2.3875e-01, -9.8352e-01,\n",
       "         6.5970e-01, -2.6383e-01, -2.2272e-02, -4.1187e-01, -4.6430e-01,\n",
       "        -4.8265e-01, -1.9175e-01, -3.0197e-01,  2.2805e-01,  3.1041e-01,\n",
       "         2.0822e-01,  3.7355e-01, -5.6587e-02, -4.2424e-01, -2.0329e-01,\n",
       "         8.1730e-02, -2.4428e-01, -2.6057e-01, -2.6239e-01,  4.2559e-02,\n",
       "        -2.3757e-01, -2.7585e-01,  2.7059e-01,  2.4546e-01, -1.9692e-03,\n",
       "         1.6270e-01, -2.5354e-01,  3.6625e-01,  4.2124e-01, -1.9516e-02,\n",
       "        -7.6441e-01,  3.1708e-01, -4.8911e-01, -2.1920e-01, -2.2186e-01,\n",
       "        -3.0402e-01, -1.0049e-01,  4.4467e-02, -6.1383e-02, -1.7727e-02,\n",
       "         2.1276e-01,  7.1684e-02, -1.9953e-01,  9.1876e-02, -5.6628e-01,\n",
       "         2.7088e-01,  1.0559e-01, -3.1081e-01,  2.3686e-01,  2.6217e-01,\n",
       "        -2.2548e-01, -3.8458e-01, -1.2598e-01, -1.0547e-01, -7.0672e-03,\n",
       "         6.6508e-02,  8.8867e-02, -2.0492e-01,  4.7065e-01,  1.0902e-01,\n",
       "        -4.3425e-02,  2.4017e-01, -4.2267e-01,  4.8152e-01, -5.9708e-01,\n",
       "        -1.5311e-01,  9.1817e-03, -3.7091e-01, -4.6008e-01, -1.5525e-01,\n",
       "        -1.1145e-01,  3.6268e-01,  2.3367e-01, -1.7910e-01,  7.3941e-01,\n",
       "        -6.8665e-01,  9.5767e-02,  1.0535e-01,  2.8499e-01, -4.7826e-01,\n",
       "         3.1118e-01, -2.9880e-01,  1.5578e-01, -4.8104e-01, -6.7311e-02,\n",
       "        -3.5551e-03,  8.7797e-02, -1.8596e-01,  1.5793e-01, -9.0814e-02,\n",
       "        -2.6759e-01, -3.2816e-01, -4.2573e-01,  3.7047e-01,  1.2440e-01,\n",
       "         2.7559e-01,  8.6299e-02, -1.2875e-01, -2.2529e-01,  3.9215e-01,\n",
       "         1.6849e-01, -1.1664e-01, -2.1574e-01, -4.6897e-01, -8.8279e-02,\n",
       "        -3.2670e-02,  8.3664e-03,  3.7006e-02,  5.0867e-01, -6.1207e-01,\n",
       "        -3.3978e-01,  3.6356e-01, -9.9990e-02,  4.8395e-02,  5.1169e-02,\n",
       "        -2.4042e-01,  5.4183e-01, -6.4666e-02, -1.4674e-01,  1.0298e-01,\n",
       "         3.2094e-01,  9.5879e-02,  3.9349e-01, -3.1268e-01, -9.8046e-02,\n",
       "         5.1230e-01, -6.5949e-02,  3.9904e-01, -2.2827e-01,  5.0887e-01,\n",
       "         3.6833e-01, -1.8533e-01,  3.0744e-01,  1.4330e-01,  4.8289e-01,\n",
       "        -2.8257e-01,  3.9570e-01, -1.0178e-01, -2.0598e-01, -4.4645e-01,\n",
       "         6.2242e-02, -2.8467e-01,  6.5400e-01,  4.1337e-01, -4.8004e-01,\n",
       "         2.5548e-01, -2.2389e-03,  6.2917e-02, -8.1127e-02, -2.8613e-01,\n",
       "        -1.4627e-01,  6.8629e-01,  6.1349e-01, -2.3699e-02,  3.3547e-01,\n",
       "         6.4942e-01,  2.0527e-01, -2.0200e-01, -3.4244e-01, -1.0421e-02,\n",
       "         2.1595e-02, -5.6015e-01,  7.4173e-01, -7.1273e-01, -5.6066e-02,\n",
       "         1.0528e+00, -3.1089e-01,  3.4046e-02,  3.2944e-02,  4.0505e-01,\n",
       "        -4.3233e-01, -4.8495e-02, -7.4860e-02, -2.7977e-01, -3.9664e-01,\n",
       "        -5.1834e-02, -1.6175e-02, -1.9384e-01, -3.5947e-01,  4.5110e-01,\n",
       "        -9.7100e-02, -6.3972e-02, -4.1063e-01, -2.9954e-02,  1.2422e-01,\n",
       "         2.2825e-01,  2.5225e-01, -1.4250e-01,  2.8600e-01, -3.2194e-01,\n",
       "         4.7659e-02, -3.5349e-01, -7.5997e-02,  1.1567e-02, -5.3865e-01,\n",
       "         1.6205e-02, -6.8373e-01,  2.3601e-01, -2.1040e-01,  4.8058e-01,\n",
       "        -2.4202e-01, -3.9290e-02,  1.7812e-01, -6.1675e-01, -2.7826e-02,\n",
       "         1.6428e-01,  8.2660e-02, -2.0948e-01,  8.8010e-01, -2.4847e-01,\n",
       "        -1.9363e-01,  7.5014e-02,  1.5430e-01, -6.3235e-01, -2.4470e-02,\n",
       "         3.3901e-01, -1.5857e-01,  2.4644e-01, -1.1607e-01,  6.7721e-02,\n",
       "         3.7604e-01,  4.6601e-02, -2.9704e-01,  8.5182e-01,  1.0861e-01,\n",
       "        -3.2120e-01, -5.4965e-01,  3.2463e-01, -1.9648e-01, -1.7514e-01,\n",
       "        -3.1283e-02, -4.1762e-02,  4.5938e-01, -5.7402e-02, -3.7284e-01,\n",
       "        -5.2779e-01, -2.8394e-01, -2.3428e-02, -1.7241e-01,  1.7685e-01,\n",
       "         1.6875e-01, -2.2721e+00,  9.1466e-01, -1.2009e-01, -1.2055e-01,\n",
       "        -6.4419e-01,  1.9383e-01, -5.1512e-03, -3.2539e-01,  6.9060e-01,\n",
       "         5.9840e-01, -5.9431e-01,  3.9075e-01, -4.1078e-01, -3.0613e-01,\n",
       "         1.9414e-01, -9.5906e-02, -4.2492e-01,  1.4192e-01, -3.5432e-02,\n",
       "        -1.1980e-01,  5.8361e-03, -4.3079e-02, -3.4068e-01,  4.9446e-01])"
      ]
     },
     "execution_count": 24,
     "metadata": {},
     "output_type": "execute_result"
    }
   ],
   "source": [
    "TEXT.vocab.vectors[234]"
   ]
  },
  {
   "cell_type": "code",
   "execution_count": 25,
   "metadata": {
    "ExecuteTime": {
     "end_time": "2019-04-10T05:01:08.005804Z",
     "start_time": "2019-04-10T05:01:07.995211Z"
    }
   },
   "outputs": [
    {
     "name": "stdout",
     "output_type": "stream",
     "text": [
      "defaultdict(<function _default_unk_index at 0x124f71d08>, {'<unk>': 0, '<pad>': 1, 'the': 2, 'i': 3, 'and': 4, 'a': 5, 'to': 6, 'it': 7, 'is': 8, 'in': 9, 'of': 10, 'car': 11, 'this': 12, 'for': 13, 'my': 14, 'have': 15, 'with': 16, 'on': 17, 'that': 18, 'not': 19, 'was': 20, 'but': 21, 'you': 22, 'we': 23, 'they': 24, \"n't\": 25, 'honda': 26, 'vehicle': 27, 'are': 28, 'at': 29, 'had': 30, 'has': 31, 'so': 32, \"'s\": 33, 'when': 34, 'as': 35, 'very': 36, 'be': 37, 'me': 38, 'do': 39, 'all': 40, 'new': 41, 'like': 42, 'transmission': 43, 'or': 44, 'great': 45, 'will': 46, 'from': 47, 'no': 48, 'get': 49, 'if': 50, 'out': 51, 'up': 52, 'would': 53, 'drive': 54, 'miles': 55, 'back': 56, 'one': 57, 'about': 58, 'can': 59, 'just': 60, 'there': 61, 'after': 62, 'an': 63, 'am': 64, 'driving': 65, 'than': 66, 'only': 67, 'been': 68, 'more': 69, 'time': 70, 'good': 71, 'jeep': 72, 'pilot': 73, 'dealer': 74, 'our': 75, 'also': 76, 'love': 77, 'which': 78, 'forester': 79, 'subaru': 80, 'did': 81, '...': 82, 'now': 83, 'what': 84, 'other': 85, 'problem': 86, 'bought': 87, 'engine': 88, 'because': 89, 'first': 90, 'off': 91, 'over': 92, 'really': 93, 'does': 94, 'issue': 95, 'system': 96, 'well': 97, 'dealership': 98, 'seat': 99, \"'m\": 100, 'even': 101, 'seats': 102, 'its': 103, 'still': 104, 'highlander': 105, 'much': 106, 'issues': 107, 'suv': 108, 'service': 109, 'better': 110, 'road': 111, 'buy': 112, '3': 113, 'could': 114, 'toyota': 115, '2015': 116, 'by': 117, 'were': 118, '2': 119, 'some': 120, 'got': 121, 'down': 122, \"'ve\": 123, 'while': 124, 'then': 125, 'into': 126, 'comfortable': 127, 'gas': 128, 'features': 129, 'going': 130, 'test': 131, 'too': 132, 'go': 133, 'years': 134, 'ride': 135, 'your': 136, 'never': 137, 'owned': 138, 'vibration': 139, 'front': 140, 'said': 141, '2016': 142, 'interior': 143, 'them': 144, 'know': 145, 'told': 146, 'crv': 147, 'same': 148, 'fix': 149, 'how': 150, 'model': 151, 'problems': 152, 'safety': 153, 'since': 154, 'feel': 155, 'purchased': 156, '4': 157, 'again': 158, 'speed': 159, 'many': 160, 'two': 161, 'cherokee': 162, 'far': 163, 'year': 164, 'months': 165, 'every': 166, 'mileage': 167, 'take': 168, 'times': 169, 'another': 170, 'any': 171, 'around': 172, 'mpg': 173, 'should': 174, 'their': 175, '2017': 176, 'rear': 177, 'getting': 178, 'ca': 179, 'drove': 180, 'last': 181, 'noise': 182, 'stop': 183, 'radio': 184, 'start': 185, 'highway': 186, 'lot': 187, 'say': 188, 'want': 189, 'way': 190, 'use': 191, 'need': 192, 'see': 193, 'work': 194, 'before': 195, 'day': 196, 'little': 197, 'nice': 198, 'oil': 199, 'power': 200, 'row': 201, 'long': 202, 'wheel': 203, '1': 204, 'steering': 205, 'took': 206, '6': 207, 'make': 208, 'best': 209, 'days': 210, 'ever': 211, 'screen': 212, 'cars': 213, 'smooth': 214, 'looking': 215, 'most': 216, 'quality': 217, 'awd': 218, 'nothing': 219, 'thing': 220, 'having': 221, 'find': 222, 'old': 223, 'side': 224, 'purchase': 225, 'right': 226, 'something': 227, 'update': 228, '5': 229, 'put': 230, 'went': 231, 'control': 232, 'high': 233, 'room': 234, 'these': 235, 'light': 236, 'made': 237, 'wife': 238, 'think': 239, 'brand': 240, 'snow': 241, 'who': 242, 'easy': 243, 'look': 244, 'few': 245, 'gear': 246, 'he': 247, 'keep': 248, 'vehicles': 249, 'used': 250, 'driver': 251, 'less': 252, 'touring': 253, 'bad': 254, 'chrysler': 255, 'overall': 256, 'price': 257, 'recommend': 258, 'replaced': 259, 'lane': 260, 'us': 261, 'without': 262, '9': 263, 'may': 264, 'second': 265, 'thought': 266, 'disappointed': 267, 'hard': 268, 'makes': 269, 'small': 270, 'space': 271, 'traffic': 272, 'week': 273, 'come': 274, 'enough': 275, 'limited': 276, 'people': 277, 'trips': 278, 'weeks': 279, 'through': 280, 'always': 281, 'looks': 282, 'anything': 283, 'big': 284, 'sound': 285, 'turn': 286, 'change': 287, 'fuel': 288, 'normal': 289, 'wanted': 290, 'where': 291, 'design': 292, 'happy': 293, 'things': 294, 'v': 295, 'value': 296, 'why': 297, '10': 298, 'family': 299, 'warranty': 300, 'buying': 301, 'cargo': 302, 'month': 303, 'reliable': 304, 'almost': 305, 'end': 306, 'however': 307, 'plenty': 308, 'quiet': 309, 'under': 310, 'acceleration': 311, 'both': 312, 'especially': 313, 'feels': 314, 'phone': 315, 'shop': 316, 'sure': 317, 'everything': 318, 'later': 319, 'next': 320, 'passenger': 321, 'several': 322, 'being': 323, 'cr': 324, 'drives': 325, 'low': 326, 'models': 327, 'once': 328, 'reliability': 329, 's': 330, 'traded': 331, 'until': 332, '2014': 333, 'money': 334, 't': 335, 'different': 336, 'done': 337, 'navigation': 338, 'reviews': 339, 'wrong': 340, 'comfort': 341, 'idle': 342, 'left': 343, 'needed': 344, 'safe': 345, 'technology': 346, 'deal': 347, 'home': 348, 'own': 349, 'review': 350, 'wish': 351, 'yet': 352, 'found': 353, 'mode': 354, 'pretty': 355, 'roads': 356, 'tell': 357, 'third': 358, \"'ll\": 359, '30': 360, 'away': 361, 'bluetooth': 362, 'came': 363, 'city': 364, 'started': 365, 'tires': 366, 'visibility': 367, \"'re\": 368, 'excellent': 369, 'grand': 370, 'seems': 371, 'blind': 372, 'feature': 373, 'forward': 374, 'leather': 375, 'read': 376, 'trip': 377, 'auto': 378, 'camera': 379, 'care': 380, 'cvt': 381, 'though': 382, '3rd': 383, 'decided': 384, 'experience': 385, 'fixed': 386, 'handling': 387, 'lots': 388, 'point': 389, 'spot': 390, 'bit': 391, 'felt': 392, 'gets': 393, 'software': 394, 'those': 395, 'cruise': 396, 'driven': 397, 'due': 398, 'lights': 399, 'call': 400, 'lemon': 401, 'let': 402, 'options': 403, 'replace': 404, 'roof': 405, 'top': 406, 'touch': 407, 'actually': 408, 'comes': 409, 'during': 410, 'ex': 411, 'winter': 412, 'works': 413, 'worst': 414, 'ago': 415, 'called': 416, 'case': 417, 'coming': 418, 'customer': 419, 'handles': 420, 'heated': 421, 'horrible': 422, 'quite': 423, 'trade': 424, '8': 425, 'already': 426, 'door': 427, 'finally': 428, 'inside': 429, 'least': 430, 'live': 431, 'mph': 432, 'air': 433, 'anyone': 434, 'center': 435, 'each': 436, 'fine': 437, 'sometimes': 438, 'speeds': 439, 'three': 440, 'working': 441, 'body': 442, 'needs': 443, 'part': 444, 'poor': 445, 'she': 446, 'such': 447, 'terrible': 448, 'computer': 449, 'lower': 450, 'others': 451, 'plus': 452, 'short': 453, 'size': 454, 'trim': 455, 'elite': 456, 'etc': 457, 'head': 458, 'here': 459, 'lease': 460, 'probably': 461, 'able': 462, 'absolutely': 463, 'between': 464, 'controls': 465, 'help': 466, 'ok': 467, 'stopped': 468, 'turbo': 469, 'close': 470, 'loved': 471, 'manager': 472, 'shifting': 473, 'trying': 474, '20': 475, '2nd': 476, 'believe': 477, 'check': 478, 'dash': 479, 'large': 480, 'storage': 481, 'takes': 482, 'warning': 483, 'worth': 484, '2018': 485, 'area': 486, 'brake': 487, 'button': 488, 'completely': 489, 'else': 490, 'give': 491, 'life': 492, 'must': 493, 'purchasing': 494, 'complaints': 495, 'hit': 496, 'luxury': 497, 'noticed': 498, 'perfect': 499, 'solid': 500, 'view': 501, 'wait': 502, 'weather': 503, 'choice': 504, 'cost': 505, 'either': 506, 'extremely': 507, 'repair': 508, 'slow': 509, 'tried': 510, 'worse': 511, '7': 512, 'feeling': 513, 'line': 514, 'real': 515, 'stuck': 516, 'town': 517, 'using': 518, \"'d\": 519, 'annoying': 520, 'cheap': 521, 'couple': 522, 'fit': 523, 'higher': 524, 'hope': 525, 'major': 526, 'manual': 527, 'open': 528, 'option': 529, 'please': 530, 'shift': 531, 'sitting': 532, 'someone': 533, 'sport': 534, 'turning': 535, 'vibrations': 536, 'xt': 537, 'audio': 538, 'awesome': 539, 'brought': 540, 'constantly': 541, 'drivers': 542, 'ford': 543, 'four': 544, 'heard': 545, 'kids': 546, 'making': 547, 'package': 548, 'says': 549, 'tech': 550, 'window': 551, 'windows': 552, 'wo': 553, 'figure': 554, 'guess': 555, 'impressed': 556, 'leg': 557, 'mile': 558, 'style': 559, 'suspension': 560, 'taken': 561, 'uncomfortable': 562, 'accelerate': 563, 'amazing': 564, 'average': 565, 'compared': 566, 'decision': 567, 'doing': 568, 'expensive': 569, 'fun': 570, 'goes': 571, 'huge': 572, 'parking': 573, 'pay': 574, 'rough': 575, 'running': 576, 'try': 577, 'within': 578, '15': 579, 'assist': 580, 'department': 581, 'dont': 582, 'instead': 583, 'level': 584, 'outback': 585, 'paid': 586, 'place': 587, 'pleased': 588, 'premium': 589, 'response': 590, 'soon': 591, 'taking': 592, 'v6': 593, 'whole': 594, 'xle': 595, 'although': 596, 'behind': 597, 'console': 598, 'easily': 599, 'full': 600, 'headlights': 601, 'hours': 602, 'liked': 603, 'local': 604, 'maintenance': 605, 'notice': 606, 'owning': 607, 'past': 608, 'performance': 609, 'previous': 610, 'roomy': 611, 'today': 612, 'add': 613, 'asked': 614, 'brakes': 615, 'bring': 616, 'economy': 617, 'expected': 618, 'fact': 619, 'floor': 620, 'hill': 621, 'longer': 622, 'minutes': 623, 'parts': 624, 'seem': 625, 'sounds': 626, 'truck': 627, 'automatic': 628, 'cylinder': 629, 'designed': 630, 'eyesight': 631, 'gears': 632, 'hate': 633, 'infotainment': 634, 'kind': 635, 'lexus': 636, 'might': 637, 'owners': 638, 'person': 639, 'rav4': 640, 'research': 641, 'rpm': 642, 'selling': 643, 'unless': 644, 'along': 645, 'class': 646, 'company': 647, 'consider': 648, 'doors': 649, 'entire': 650, 'expect': 651, 'given': 652, 'hour': 653, 'l': 654, 'shut': 655, 'stay': 656, '25': 657, 'above': 658, 'ac': 659, 'available': 660, 'considering': 661, 'handle': 662, 'happened': 663, 'including': 664, 'looked': 665, 'lost': 666, 'mirrors': 667, 'mistake': 668, 'move': 669, 'recall': 670, 'recently': 671, 'seating': 672, 'usb': 673, 'braking': 674, 'entertainment': 675, 'failed': 676, 'hear': 677, 'heavy': 678, 'her': 679, 'husband': 680, 'kept': 681, 'market': 682, 'owner': 683, 'plastic': 684, 'reason': 685, 'received': 686, 'red': 687, 'saying': 688, 'smaller': 689, 'turned': 690, 'volume': 691, 'yes': 692, '60': 693, 'acura': 694, 'audi': 695, 'customers': 696, 'departure': 697, 'extra': 698, 'fast': 699, 'improved': 700, 'law': 701, 'leased': 702, 'paint': 703, 'product': 704, 'shifts': 705, 'standard': 706, 'stated': 707, 'stereo': 708, 'support': 709, 'turns': 710, 'updates': 711, 'below': 712, 'cant': 713, 'changed': 714, 'corporate': 715, 'course': 716, 'currently': 717, 'display': 718, 'fantastic': 719, 'gave': 720, 'half': 721, 'heat': 722, 'hills': 723, 'mind': 724, 'motor': 725, 'park': 726, 'pedal': 727, 'responsive': 728, 'rid': 729, 'suvs': 730, 'twice': 731, 'version': 732, 'black': 733, 'bumper': 734, 'calls': 735, 'collision': 736, 'exterior': 737, 'foot': 738, 'garage': 739, 'glad': 740, 'mercedes': 741, 'mid': 742, 'middle': 743, 'mine': 744, 'mostly': 745, 'often': 746, 'pull': 747, 'remote': 748, 'rides': 749, 'sell': 750, 'switch': 751, 'vibrates': 752, 'water': 753, '100': 754, '40': 755, '70': 756, 'adaptive': 757, 'battery': 758, 'biggest': 759, 'cabin': 760, 'changes': 761, 'conditions': 762, 'edition': 763, 'except': 764, 'fan': 765, 'hands': 766, 'highly': 767, 'job': 768, 'lack': 769, 'materials': 770, 'maybe': 771, 'mountain': 772, 'nav': 773, 'non': 774, 'number': 775, 'order': 776, 'pick': 777, 'push': 778, 'ready': 779, 'sales': 780, 'satisfied': 781, 'set': 782, 'show': 783, 'starting': 784, 'sunroof': 785, 'tank': 786, 'unit': 787, 'video': 788, 'voice': 789, '5000': 790, 'basically': 791, 'blue': 792, 'country': 793, 'daily': 794, 'disappointment': 795, 'electronics': 796, 'ended': 797, 'enjoy': 798, 'extended': 799, 'free': 800, 'hold': 801, 'immediately': 802, 'important': 803, 'knew': 804, 'led': 805, 'loud': 806, 'miss': 807, 'multiple': 808, 'nissan': 809, 'play': 810, 'quickly': 811, 'range': 812, 'recalls': 813, 'rental': 814, 'rest': 815, 'seconds': 816, 'single': 817, 'state': 818, 'station': 819, 'styling': 820, 'sun': 821, 'tire': 822, 'trailhawk': 823, 'trouble': 824, '17': 825, '4wd': 826, 'based': 827, 'built': 828, 'clearance': 829, 'cold': 830, 'color': 831, 'complaint': 832, 'considered': 833, 'consumption': 834, 'covered': 835, 'crazy': 836, 'dealers': 837, 'definitely': 838, 'difference': 839, 'eco': 840, 'freeway': 841, 'glass': 842, 'gone': 843, 'ground': 844, 'hand': 845, 'his': 846, 'ice': 847, 'keeping': 848, 'list': 849, 'm': 850, 'mazda': 851, 'music': 852, 'myself': 853, 'numerous': 854, 're': 855, 'resale': 856, 'saw': 857, 'seen': 858, 'serious': 859, 'seriously': 860, 'simply': 861, 'sit': 862, 'summer': 863, 'systems': 864, 'thinking': 865, 'totally': 866, 'trading': 867, 'unable': 868, 'unfortunately': 869, 'waiting': 870, 'wind': 871, 'wonderful': 872, '2012': 873, '4th': 874, 'accident': 875, 'adjust': 876, 'avoid': 877, 'aware': 878, 'bottom': 879, 'cool': 880, 'dangerous': 881, 'daughter': 882, 'difficult': 883, 'explorer': 884, 'flat': 885, 'function': 886, 'known': 887, 'leak': 888, 'main': 889, 'mountains': 890, 'ordered': 891, 'position': 892, 'quick': 893, 'repairs': 894, 'replacement': 895, 'run': 896, 'sensing': 897, 'similar': 898, 'step': 899, 'super': 900, 'usually': 901, 've': 902, 'weird': 903, '12': 904, '2010': 905, 'amount': 906, 'awful': 907, 'base': 908, 'break': 909, 'chairs': 910, 'chose': 911, 'consumer': 912, 'cover': 913, 'cross': 914, 'current': 915, 'dealerships': 916, 'experienced': 917, 'factory': 918, 'failure': 919, 'finish': 920, 'friends': 921, 'future': 922, 'gps': 923, 'happens': 924, 'hot': 925, 'installed': 926, 'jerking': 927, 'larger': 928, 'matter': 929, 'mention': 930, 'mirror': 931, 'moon': 932, 'nearly': 933, 'night': 934, 'ownership': 935, 'per': 936, 'poorly': 937, 'regret': 938, 'runs': 939, 'seemed': 940, 'shifter': 941, 'sold': 942, 'spend': 943, 'stuff': 944, 'tight': 945, 'tow': 946, 'true': 947, 'upgrade': 948, 'zero': 949, '1st': 950, '2007': 951, '2013': 952, '4runner': 953, '50': 954, 'accelerating': 955, 'access': 956, 'added': 957, 'allow': 958, 'anymore': 959, 'averaging': 960, 'beautiful': 961, 'block': 962, 'causing': 963, 'clean': 964, 'climate': 965, 'cx': 966, 'decent': 967, 'dirt': 968, 'favorite': 969, 'guy': 970, 'hatch': 971, 'him': 972, 'hoping': 973, 'iphone': 974, 'items': 975, 'itself': 976, 'loaded': 977, 'mdx': 978, 'nightmare': 979, 'noticeable': 980, 'opinion': 981, 'passengers': 982, 'paying': 983, 'pickup': 984, 'pressure': 985, 'properly': 986, 'rain': 987, 'rattle': 988, 'rpms': 989, 'sharp': 990, 'smoothly': 991, 'tall': 992, 'towing': 993, 'travel': 994, 'vibrating': 995, 'windshield': 996, '24': 997, 'accelerator': 998, 'accord': 999, 'adequate': 1000, 'apple': 1001, 'appointment': 1002, 'averaged': 1003, 'began': 1004, 'carplay': 1005, 'carry': 1006, 'caused': 1007, 'children': 1008, 'combined': 1009, 'concerned': 1010, 'confidence': 1011, 'constant': 1012, 'crap': 1013, 'fair': 1014, 'gives': 1015, 'giving': 1016, 'google': 1017, 'handled': 1018, 'happen': 1019, 'included': 1020, 'joke': 1021, 'junk': 1022, 'knows': 1023, 'leaking': 1024, 'loaner': 1025, 'manufacturer': 1026, 'means': 1027, 'mechanic': 1028, 'morning': 1029, 'name': 1030, 'negative': 1031, 'older': 1032, 'online': 1033, 'otherwise': 1034, 'panoramic': 1035, 'picked': 1036, 'previously': 1037, 'rather': 1038, 'rattles': 1039, 'regular': 1040, 'reverse': 1041, 'sent': 1042, 'spent': 1043, 'steep': 1044, 'total': 1045, 'trans': 1046, 'understand': 1047, 'various': 1048, 'weekend': 1049, 'wheels': 1050, 'worked': 1051, '18': 1052, '2006': 1053, '2011': 1054, '28': 1055, 'additional': 1056, 'against': 1057, 'agree': 1058, 'american': 1059, 'android': 1060, 'anywhere': 1061, 'beep': 1062, 'bmw': 1063, 'buyer': 1064, 'changing': 1065, 'competitors': 1066, 'complain': 1067, 'concern': 1068, 'd': 1069, 'dashboard': 1070, 'december': 1071, 'disappointing': 1072, 'distance': 1073, 'driveway': 1074, 'ease': 1075, 'following': 1076, 'helpful': 1077, 'le': 1078, 'leave': 1079, 'lock': 1080, 'lx': 1081, 'mean': 1082, 'minor': 1083, 'moving': 1084, 'noisy': 1085, 'offered': 1086, 'onto': 1087, 'opted': 1088, 'outside': 1089, 'plan': 1090, 'platinum': 1091, 'prefer': 1092, 'pulling': 1093, 'putting': 1094, 'rated': 1095, 'reading': 1096, 'replacing': 1097, 'resolution': 1098, 'september': 1099, 'shaking': 1100, 'spacious': 1101, 'starts': 1102, 'telling': 1103, 'tells': 1104, 'thousand': 1105, 'throttle': 1106, 'torque': 1107, 'trust': 1108, 'wants': 1109, 'warm': 1110, 'yourself': 1111, '13': 1112, '14': 1113, '2009': 1114, 'addition': 1115, 'automatically': 1116, 'capacity': 1117, 'characteristic': 1118, 'clear': 1119, 'comparison': 1120, 'cons': 1121, 'cut': 1122, 'dog': 1123, 'earlier': 1124, 'electronic': 1125, 'everyone': 1126, 'excited': 1127, 'fairly': 1128, 'fancy': 1129, 'fluid': 1130, 'helps': 1131, 'hondas': 1132, 'idea': 1133, 'imagine': 1134, 'inches': 1135, 'intermittent': 1136, 'keeps': 1137, 'lose': 1138, 'loyal': 1139, 'memory': 1140, 'n': 1141, 'operate': 1142, 'pilots': 1143, 'prior': 1144, 'products': 1145, 'quieter': 1146, 'radar': 1147, 'removed': 1148, 'reputation': 1149, 'seeing': 1150, 'setting': 1151, 'signal': 1152, 'slight': 1153, 'solution': 1154, 'sorry': 1155, 'speakers': 1156, 'spots': 1157, 'talk': 1158, 'temperature': 1159, 'thanks': 1160, 'ton': 1161, 'towed': 1162, 'unsafe': 1163, 'user': 1164, 'van': 1165, 'vibrate': 1166, 'whether': 1167, 'whistles': 1168, '11': 1169, '2.5i': 1170, '35': 1171, '4x4': 1172, 'america': 1173, 'apparently': 1174, 'appears': 1175, 'appreciate': 1176, 'barely': 1177, 'bells': 1178, 'bigger': 1179, 'brands': 1180, 'buttons': 1181, 'common': 1182, 'compact': 1183, 'continues': 1184, 'corners': 1185, 'delivery': 1186, 'drop': 1187, 'easier': 1188, 'edge': 1189, 'efficient': 1190, 'electrical': 1191, 'exactly': 1192, 'experiencing': 1193, 'face': 1194, 'fca': 1195, 'feedback': 1196, 'fits': 1197, 'frequently': 1198, 'frustrating': 1199, 'further': 1200, 'general': 1201, 'gotten': 1202, 'headrest': 1203, 'highways': 1204, 'hitting': 1205, 'holding': 1206, 'initially': 1207, 'jerky': 1208, 'loss': 1209, 'loves': 1210, 'loving': 1211, 'mats': 1212, 'minivan': 1213, 'monitoring': 1214, 'none': 1215, 'note': 1216, 'outstanding': 1217, 'pain': 1218, 'pandora': 1219, 'phones': 1220, 'post': 1221, 'powerful': 1222, 'reasonable': 1223, 'recommended': 1224, 'refused': 1225, 'reported': 1226, 'reset': 1227, 'resolved': 1228, 'returned': 1229, 'search': 1230, 'sequoia': 1231, 'sight': 1232, 'significant': 1233, 'situation': 1234, 'soft': 1235, 'son': 1236, 'spending': 1237, 'sporty': 1238, 'stopping': 1239, 'stranded': 1240, 'stylish': 1241, 'tailgate': 1242, 'tough': 1243, 'unacceptable': 1244, 'upset': 1245, 'vw': 1246, 'w': 1247, 'weak': 1248, 'won': 1249, '200': 1250, 'ability': 1251, 'adjustment': 1252, 'adults': 1253, 'answer': 1254, 'april': 1255, 'bags': 1256, 'beat': 1257, 'become': 1258, 'beginning': 1259, 'belt': 1260, 'box': 1261, 'breaks': 1262, 'broken': 1263, 'choices': 1264, 'clock': 1265, 'commute': 1266, 'connect': 1267, 'crossover': 1268, 'damage': 1269, 'dark': 1270, 'didn': 1271, 'died': 1272, 'doesnt': 1273, 'don': 1274, 'dream': 1275, 'drops': 1276, 'early': 1277, 'entune': 1278, 'everywhere': 1279, 'exl': 1280, 'expectations': 1281, 'eye': 1282, 'faulty': 1283, 'fixes': 1284, 'fully': 1285, 'gc': 1286, 'honestly': 1287, 'hopefully': 1288, 'im': 1289, 'impressions': 1290, 'internet': 1291, 'interstate': 1292, 'key': 1293, 'kia': 1294, 'listen': 1295, 'living': 1296, 'locked': 1297, 'machine': 1298, 'manually': 1299, 'march': 1300, 'mentioned': 1301, 'mini': 1302, 'mud': 1303, 'near': 1304, 'nor': 1305, 'obviously': 1306, 'october': 1307, 'offer': 1308, 'piece': 1309, 'rack': 1310, 'ran': 1311, 'rating': 1312, 'realized': 1313, 'regarding': 1314, 'release': 1315, 'researching': 1316, 'ridiculous': 1317, 'rock': 1318, 'safely': 1319, 'sensitive': 1320, 'sensor': 1321, 'shopping': 1322, 'simple': 1323, 'slightly': 1324, 'speak': 1325, 'special': 1326, 'superb': 1327, 'superior': 1328, 'traction': 1329, 'trailer': 1330, 'tranny': 1331, 'transmissions': 1332, 'truly': 1333, 'trunk': 1334, 'updated': 1335, 'upgraded': 1336, 'weight': 1337, 'wide': 1338, 'word': 1339, 'wow': 1340, '0': 1341, '2000': 1342, '2004': 1343, '2005': 1344, '26': 1345, '45': 1346, '500': 1347, '50k': 1348, '75': 1349, '80': 1350, 'admit': 1351, 'advertised': 1352, 'aggressive': 1353, 'ahead': 1354, 'app': 1355, 'arm': 1356, 'avoidance': 1357, 'backing': 1358, 'build': 1359, 'busy': 1360, 'buyers': 1361, 'buzzing': 1362, 'c': 1363, 'cd': 1364, 'cell': 1365, 'chevy': 1366, 'choose': 1367, 'civic': 1368, 'claimed': 1369, 'comment': 1370, 'comments': 1371, 'comparable': 1372, 'complained': 1373, 'consistently': 1374, 'costs': 1375, 'deep': 1376, 'dept': 1377, 'device': 1378, 'dodge': 1379, 'dogs': 1380, 'duplicate': 1381, 'engineering': 1382, 'enjoying': 1383, 'excessive': 1384, 'filed': 1385, 'fixing': 1386, 'forest': 1387, 'fourth': 1388, 'frame': 1389, 'gate': 1390, 'gm': 1391, 'happier': 1392, 'hauling': 1393, 'hood': 1394, 'improvement': 1395, 'incredible': 1396, 'incredibly': 1397, 'info': 1398, 'initial': 1399, 'insurance': 1400, 'intuitive': 1401, 'late': 1402, 'latitude': 1403, 'levels': 1404, 'loose': 1405, 'mechanical': 1406, 'nicely': 1407, 'noises': 1408, 'pass': 1409, 'passing': 1410, 'planning': 1411, 'player': 1412, 'ports': 1413, 'possible': 1414, 'practical': 1415, 'process': 1416, 'pros': 1417, 'provides': 1418, 'pulled': 1419, 'rate': 1420, 'rav': 1421, 'remember': 1422, 'reports': 1423, 'roll': 1424, 'rows': 1425, 'sedan': 1426, 'shame': 1427, 'shelf': 1428, 'shows': 1429, 'six': 1430, 'sized': 1431, 'somewhat': 1432, 'sports': 1433, 'surprised': 1434, 'term': 1435, 'thank': 1436, 'trail': 1437, 'type': 1438, 'u': 1439, 'uconnect': 1440, 'uses': 1441, '1000': 1442, '2008': 1443, '23': 1444, '250': 1445, '32': 1446, '34': 1447, '400': 1448, '5th': 1449, 'according': 1450, 'active': 1451, 'adds': 1452, 'advise': 1453, 'allows': 1454, 'alone': 1455, 'ample': 1456, 'approx': 1457, 'ask': 1458, 'badly': 1459, 'beware': 1460, 'broke': 1461, 'bumps': 1462, 'business': 1463, 'captain': 1464, 'captains': 1465, 'cause': 1466, 'certain': 1467, 'cheaper': 1468, 'chips': 1469, 'compatible': 1470, 'confident': 1471, 'connected': 1472, 'consumers': 1473, 'crash': 1474, 'cup': 1475, 'cyl': 1476, 'defect': 1477, 'details': 1478, 'discovered': 1479, 'error': 1480, 'escape': 1481, 'faster': 1482, 'final': 1483, 'five': 1484, 'flaw': 1485, 'florida': 1486, 'fm': 1487, 'fold': 1488, 'folded': 1489, 'forums': 1490, 'gallon': 1491, 'generally': 1492, 'guys': 1493, 'hearing': 1494, 'height': 1495, 'hwy': 1496, 'hyundai': 1497, 'impossible': 1498, 'impressive': 1499, 'informed': 1500, 'jbl': 1501, 'jeeps': 1502, 'knowing': 1503, 'lanes': 1504, 'lift': 1505, 'likely': 1506, 'lines': 1507, 'losing': 1508, 'minimal': 1509, 'mixed': 1510, 'needless': 1511, 'normally': 1512, 'north': 1513, 'obvious': 1514, 'odyssey': 1515, 'office': 1516, 'oh': 1517, 'performed': 1518, 'performs': 1519, 'plug': 1520, 'radius': 1521, 'reach': 1522, 'return': 1523, 'salesman': 1524, 'sat': 1525, 'sense': 1526, 'shuts': 1527, 'sirius': 1528, 'sits': 1529, 'slowly': 1530, 'spare': 1531, 'stand': 1532, 'stations': 1533, 'stops': 1534, 'story': 1535, 'subarus': 1536, 'sucks': 1537, 'supposed': 1538, 'talking': 1539, 'ten': 1540, 'terms': 1541, 'thin': 1542, 'ugly': 1543, 'unreliable': 1544, 'vision': 1545, 'visit': 1546, 'waited': 1547, 'washington': 1548, 'white': 1549, 'wipers': 1550, 'wise': 1551, 'wrote': 1552, 'youtube': 1553, '10,000': 1554, '16': 1555, '2.0': 1556, '2003': 1557, '22': 1558, '27': 1559, '3000': 1560, '30k': 1561, 'across': 1562, 'action': 1563, 'advice': 1564, 'advisor': 1565, 'apps': 1566, 'assistance': 1567, 'awhile': 1568, 'backup': 1569, 'basic': 1570, 'board': 1571, 'book': 1572, 'buick': 1573, 'camry': 1574, 'cap': 1575, 'certainly': 1576, 'closer': 1577, 'combination': 1578, 'comfortably': 1579, 'compare': 1580, 'competition': 1581, 'condenser': 1582, 'content': 1583, 'corporation': 1584, 'correct': 1585, 'dead': 1586, 'deciding': 1587, 'distracting': 1588, 'effort': 1589, 'emergency': 1590, 'engineers': 1591, 'exit': 1592, 'fall': 1593, 'feet': 1594, 'fell': 1595, 'follow': 1596, 'forrester': 1597, 'forth': 1598, 'friendly': 1599, 'functions': 1600, 'generation': 1601, 'gmc': 1602, 'hesitation': 1603, 'hits': 1604, 'idling': 1605, 'inch': 1606, 'include': 1607, 'information': 1608, 'interface': 1609, 'jump': 1610, 'june': 1611, 'knob': 1612, 'leaks': 1613, 'lighting': 1614, 'link': 1615, 'listed': 1616, 'luck': 1617, 'luckily': 1618, 'luxurious': 1619, 'material': 1620, 'mechanics': 1621, 'met': 1622, 'metal': 1623, 'mold': 1624, 'mom': 1625, 'motion': 1626, 'occurred': 1627, 'odd': 1628, 'offers': 1629, 'ones': 1630, 'opened': 1631, 'original': 1632, 'overland': 1633, 'panel': 1634, 'panels': 1635, 'parked': 1636, 'particularly': 1637, 'passed': 1638, 'payment': 1639, 'peppy': 1640, 'perfectly': 1641, 'period': 1642, 'pleasure': 1643, 'potential': 1644, 'provided': 1645, 'randomly': 1646, 'recent': 1647, 'repaired': 1648, 'report': 1649, 'required': 1650, 'requires': 1651, 'resolve': 1652, 'reviewers': 1653, 'riding': 1654, 'rotors': 1655, 'runner': 1656, 'save': 1657, 'saved': 1658, 'shakes': 1659, 'share': 1660, 'slower': 1661, 'stage': 1662, 'stalled': 1663, 'states': 1664, 'store': 1665, 'straight': 1666, 'strong': 1667, 'strongly': 1668, 'sudden': 1669, 'suggested': 1670, 'supposedly': 1671, 'synthetic': 1672, 'terrain': 1673, 'tested': 1674, 'thinks': 1675, 'thousands': 1676, 'throughout': 1677, 'thus': 1678, 'together': 1679, 'tons': 1680, 'trails': 1681, 'utility': 1682, 'via': 1683, 'watch': 1684, 'wear': 1685, 'wont': 1686, 'world': 1687, 'wrangler': 1688, 'young': 1689, '1.5': 1690, '1200': 1691, '1500': 1692, '2.5': 1693, '30,000': 1694, '300': 1695, '35k': 1696, '3k': 1697, '40,000': 1698, '4000': 1699, '40k': 1700, '55': 1701, '6k': 1702, 'accelerates': 1703, 'acceptable': 1704, 'actual': 1705, 'adding': 1706, 'adjustable': 1707, 'adjustments': 1708, 'alarm': 1709, 'alert': 1710, 'altitude': 1711, 'among': 1712, 'anyway': 1713, 'apply': 1714, 'arbitration': 1715, 'bag': 1716, 'beach': 1717, 'bump': 1718, 'carpet': 1719, 'checked': 1720, 'child': 1721, 'claim': 1722, 'claims': 1723, 'competitive': 1724, 'complete': 1725, 'concerns': 1726, 'connection': 1727, 'connectivity': 1728, 'contact': 1729, 'corner': 1730, 'couldnt': 1731, 'creaking': 1732, 'digital': 1733, 'directly': 1734, 'downhill': 1735, 'dropped': 1736, 'dvd': 1737, 'enjoyed': 1738, 'enter': 1739, 'envoy': 1740, 'equipped': 1741, 'eyes': 1742, 'fail': 1743, 'favor': 1744, 'fiat': 1745, 'financing': 1746, 'firm': 1747, 'ft': 1748, 'fwd': 1749, 'growing': 1750, 'habits': 1751, 'happening': 1752, 'hated': 1753, 'hesitates': 1754, 'homework': 1755, 'hybrid': 1756, 'improvements': 1757, 'increase': 1758, 'increased': 1759, 'infiniti': 1760, 'install': 1761, 'intersection': 1762, 'january': 1763, 'jerks': 1764, 'july': 1765, 'kardon': 1766, 'keyless': 1767, 'lacking': 1768, 'latest': 1769, 'leaves': 1770, 'leaving': 1771, 'limits': 1772, 'll': 1773, 'locking': 1774, 'mess': 1775, 'minute': 1776, 'mitigation': 1777, 'nature': 1778, 'neither': 1779, 'noted': 1780, 'november': 1781, 'occasions': 1782, 'okay': 1783, 'operating': 1784, 'pathfinder': 1785, 'personally': 1786, 'port': 1787, 'quart': 1788, 'rattling': 1789, 'reasons': 1790, 'res': 1791, 'restart': 1792, 'rev': 1793, 'roomier': 1794, 'round': 1795, 'sale': 1796, 'seatbelt': 1797, 'sensors': 1798, 'settled': 1799, 'shoulder': 1800, 'showed': 1801, 'shuddering': 1802, 'sign': 1803, 'sluggish': 1804, 'stock': 1805, 'street': 1806, 'stupid': 1807, 'suit': 1808, 'summary': 1809, 'summit': 1810, 'tacoma': 1811, 'temp': 1812, 'testing': 1813, 'tests': 1814, 'tiny': 1815, 'totaled': 1816, 'train': 1817, 'tsb': 1818, 'useless': 1819, 'wagon': 1820, 'walk': 1821, 'ways': 1822, 'whatever': 1823, 'wondering': 1824, 'words': 1825, 'worry': 1826, 'written': 1827, '–': 1828, '150': 1829, '19': 1830, '2001': 1831, '2002': 1832, '21': 1833, '29': 1834, '3500': 1835, '36': 1836, '4k': 1837, '65': 1838, '90': 1839, 'accidents': 1840, 'additionally': 1841, 'adjusted': 1842, 'adjusting': 1843, 'advanced': 1844, 'appearance': 1845, 'attempt': 1846, 'attempts': 1847, 'attention': 1848, 'attractive': 1849, 'beyond': 1850, 'blank': 1851, 'blown': 1852, 'blows': 1853, 'bother': 1854, 'breaking': 1855, 'bright': 1856, 'bringing': 1857, 'brown': 1858, 'calling': 1859, 'capability': 1860, 'causes': 1861, 'climb': 1862, 'cloth': 1863, 'codes': 1864, 'colorado': 1865, 'combo': 1866, 'command': 1867, 'commands': 1868, 'compartment': 1869, 'complaining': 1870, 'condition': 1871, 'conditioning': 1872, 'confusing': 1873, 'continued': 1874, 'convenient': 1875, 'conversation': 1876, 'cooler': 1877, 'cooling': 1878, 'correctly': 1879, 'count': 1880, 'crosstrek': 1881, 'cutting': 1882, 'dealing': 1883, 'deceleration': 1884, 'decide': 1885, 'degree': 1886, 'delay': 1887, 'delayed': 1888, 'despite': 1889, 'determined': 1890, 'diesel': 1891, 'dim': 1892, 'direct': 1893, 'direction': 1894, 'disabled': 1895, 'dollars': 1896, 'dump': 1897, 'efficiency': 1898, 'effortless': 1899, 'elsewhere': 1900, 'engage': 1901, 'errors': 1902, 'eventually': 1903, 'example': 1904, 'exception': 1905, 'exists': 1906, 'expecting': 1907, 'february': 1908, 'fighting': 1909, 'file': 1910, 'fingerprints': 1911, 'flash': 1912, 'flush': 1913, 'fob': 1914, 'forever': 1915, 'functional': 1916, 'functionality': 1917, 'garbage': 1918, 'green': 1919, 'headache': 1920, 'headroom': 1921, 'heart': 1922, 'hemi': 1923, 'hitch': 1924, 'holders': 1925, 'holds': 1926, 'http': 1927, 'icy': 1928, 'intermittently': 1929, 'jgc': 1930, 'laid': 1931, 'latch': 1932, 'lawyer': 1933, 'learned': 1934, 'leasing': 1935, 'legroom': 1936, 'legs': 1937, 'length': 1938, 'lets': 1939, 'lever': 1940, 'lifetime': 1941, 'likes': 1942, 'load': 1943, 'located': 1944, 'location': 1945, 'luggage': 1946, 'maintain': 1947, 'manufacturers': 1948, 'marks': 1949, 'meet': 1950, 'meets': 1951, 'merging': 1952, 'message': 1953, 'michelin': 1954, 'mild': 1955, 'missed': 1956, 'moonroof': 1957, 'occurs': 1958, 'oncoming': 1959, 'ours': 1960, 'outlet': 1961, 'payments': 1962, 'pedals': 1963, 'popping': 1964, 'positive': 1965, 'pre': 1966, 'press': 1967, 'professional': 1968, 'program': 1969, 'pulls': 1970, 'pump': 1971, 'pushing': 1972, 'qx60': 1973, 'ratings': 1974, 'reception': 1975, 'refuses': 1976, 'regional': 1977, 'remove': 1978, 'rep': 1979, 'respond': 1980, 'rests': 1981, 'returning': 1982, 'ridgeline': 1983, 'rode': 1984, 'ruined': 1985, 'rx': 1986, 'safer': 1987, 'samsung': 1988, 'san': 1989, 'scared': 1990, 'scheduled': 1991, 'segment': 1992, 'serviced': 1993, 'settings': 1994, 'shake': 1995, 'shocked': 1996, 'shopped': 1997, 'showing': 1998, 'shudders': 1999, 'sides': 2000, 'sienna': 2001, 'silver': 2002, 'ski': 2003, 'sleek': 2004, 'slide': 2005, 'slowing': 2006, 'sometime': 2007, 'standards': 2008, 'starlink': 2009, 'steer': 2010, 'stick': 2011, 'sunglasses': 2012, 'suppose': 2013, 'surprisingly': 2014, 'talked': 2015, 'taller': 2016, 'tear': 2017, 'terribly': 2018, 'thankfully': 2019, 'toyotas': 2020, 'traveling': 2021, 'trims': 2022, 'unlike': 2023, 'unlimited': 2024, 'updating': 2025, 'upgrades': 2026, 'upon': 2027, 'useful': 2028, 'warn': 2029, 'warnings': 2030, 'wash': 2031, 'waste': 2032, 'width': 2033, 'win': 2034, 'winters': 2035, 'x': 2036, \"'14\": 2037, '..': 2038, '1,000': 2039, '12k': 2040, '20k': 2041, '22k': 2042, '3,000': 2043, '31': 2044, '36,000': 2045, '4cyl': 2046, '5,000': 2047, \"6'4\": 2048, '600': 2049, '6000': 2050, '6th': 2051, 'acadia': 2052, 'advised': 2053, 'alignment': 2054, 'angle': 2055, 'applied': 2056, 'areas': 2057, 'aspect': 2058, 'baby': 2059, 'backwards': 2060, 'bang': 2061, 'beam': 2062, 'became': 2063, 'becomes': 2064, 'beeps': 2065, 'begin': 2066, 'behavior': 2067, 'bench': 2068, 'bend': 2069, 'bike': 2070, 'bill': 2071, 'blow': 2072, 'boards': 2073, 'breaker': 2074, 'brother': 2075, 'buck': 2076, 'burning': 2077, 'california': 2078, 'camping': 2079, 'capabilities': 2080, 'capable': 2081, 'carrying': 2082, 'chance': 2083, 'classy': 2084, 'comparing': 2085, 'completed': 2086, 'compressor': 2087, 'compromises': 2088, 'con': 2089, 'contacted': 2090, 'continue': 2091, 'convenience': 2092, 'corrected': 2093, 'crank': 2094, 'crashes': 2095, 'curves': 2096, 'curvy': 2097, 'data': 2098, 'date': 2099, 'daylight': 2100, 'dc': 2101, 'dealt': 2102, 'defective': 2103, 'defrost': 2104, 'describe': 2105, 'developed': 2106, 'dimming': 2107, 'dirty': 2108, 'disable': 2109, 'disaster': 2110, 'doubt': 2111, 'duplicated': 2112, 'dynamics': 2113, 'earned': 2114, 'electric': 2115, 'engaged': 2116, 'engineer': 2117, 'entering': 2118, 'epa': 2119, 'equipment': 2120, 'evident': 2121, 'exact': 2122, 'exceptional': 2123, 'experiences': 2124, 'fight': 2125, 'filter': 2126, 'finger': 2127, 'flaws': 2128, 'flip': 2129, 'fog': 2130, 'forced': 2131, 'foresters': 2132, 'forget': 2133, 'forum': 2134, 'freezing': 2135, 'frequent': 2136, 'friday': 2137, 'friend': 2138, 'frustrated': 2139, 'frustration': 2140, 'gadgets': 2141, 'german': 2142, 'glance': 2143, 'god': 2144, 'government': 2145, 'grill': 2146, 'handy': 2147, 'headaches': 2148, 'headrests': 2149, 'helped': 2150, 'history': 2151, 'hopes': 2152, 'horn': 2153, 'hp': 2154, 'hype': 2155, 'i.e': 2156, 'impact': 2157, 'indeed': 2158, 'instrument': 2159, 'interest': 2160, 'interested': 2161, 'journey': 2162, 'kick': 2163, 'knobs': 2164, 'lacks': 2165, 'lag': 2166, 'lead': 2167, 'leaked': 2168, 'learning': 2169, 'listening': 2170, 'literally': 2171, 'lucky': 2172, 'lurch': 2173, 'man': 2174, 'management': 2175, 'maps': 2176, 'match': 2177, 'meant': 2178, 'medium': 2179, 'milage': 2180, 'minimum': 2181, 'missing': 2182, 'modern': 2183, 'moment': 2184, 'monday': 2185, 'monitor': 2186, 'motors': 2187, 'moved': 2188, 'na': 2189, 'national': 2190, 'neutral': 2191, 'nine': 2192, 'nobody': 2193, 'notch': 2194, 'offering': 2195, 'pcm': 2196, 'peace': 2197, 'pearl': 2198, 'permissible': 2199, 'personal': 2200, 'placement': 2201, 'places': 2202, 'played': 2203, 'posted': 2204, 'practicality': 2205, 'pressing': 2206, 'prius': 2207, 'protector': 2208, 'provide': 2209, 'purse': 2210, 'pushed': 2211, 'q7': 2212, 'quietness': 2213, 'radiator': 2214, 'rains': 2215, 'random': 2216, 'reached': 2217, 'realize': 2218, 'recognition': 2219, 'recommendation': 2220, 'records': 2221, 'refined': 2222, 'released': 2223, 'reminds': 2224, 'rent': 2225, 'respect': 2226, 'responsible': 2227, 'result': 2228, 'roading': 2229, 'route': 2230, 'routine': 2231, 'rubber': 2232, 'sad': 2233, 'sand': 2234, 'saving': 2235, 'scary': 2236, 'school': 2237, 'self': 2238, 'separate': 2239, 'setup': 2240, 'shades': 2241, 'shifted': 2242, 'shortly': 2243, 'shutting': 2244, 'sick': 2245, 'signs': 2246, 'slick': 2247, 'slipping': 2248, 'slips': 2249, 'slows': 2250, 'smell': 2251, 'smoother': 2252, 'solve': 2253, 'somewhere': 2254, 'south': 2255, 'southern': 2256, 'speaking': 2257, 'speedometer': 2258, 'split': 2259, 'spring': 2260, 'squeak': 2261, 'stability': 2262, 'stating': 2263, 'stayed': 2264, 'stays': 2265, 'sticker': 2266, 'stiff': 2267, 'strange': 2268, 'streets': 2269, 'struggling': 2270, 'sturdy': 2271, 'surgery': 2272, 'surprising': 2273, 'sway': 2274, 'tahoe': 2275, 'technical': 2276, 'technician': 2277, 'tends': 2278, 'texas': 2279, 'thats': 2280, 'tilt': 2281, 'towards': 2282, 'track': 2283, 'transition': 2284, 'traverse': 2285, 'trucks': 2286, 'tuned': 2287, 'underpowered': 2288, 'unhappy': 2289, 'usa': 2290, 'utilitarian': 2291, 'v.': 2292, 'vacation': 2293, 'versatility': 2294, 'videos': 2295, 'virtually': 2296, 'warms': 2297, 'wasn': 2298, 'website': 2299, 'wet': 2300, 'whatsoever': 2301, 'whenever': 2302, 'whining': 2303, 'willing': 2304, 'wonder': 2305, 'write': 2306, 'xm': 2307})\n"
     ]
    }
   ],
   "source": [
    "print(TEXT.vocab.stoi)"
   ]
  },
  {
   "cell_type": "markdown",
   "metadata": {},
   "source": [
    "### Batching"
   ]
  },
  {
   "cell_type": "markdown",
   "metadata": {},
   "source": [
    "`Torchtext` provides `BucketIterator`, which helps in batching all the text and replacing the words with the index number of the words.\n",
    "\n",
    "* The `BucketIterator` instance comes with a lot of useful parameters like `batch_size`, `device` (GPU or CPU), and `shuffle`."
   ]
  },
  {
   "cell_type": "code",
   "execution_count": 26,
   "metadata": {
    "ExecuteTime": {
     "end_time": "2019-04-10T05:01:13.387828Z",
     "start_time": "2019-04-10T05:01:13.380275Z"
    }
   },
   "outputs": [
    {
     "name": "stderr",
     "output_type": "stream",
     "text": [
      "The `device` argument should be set by using `torch.device` or passing a string as an argument. This behavior will be deprecated soon and currently defaults to cpu.\n",
      "The `device` argument should be set by using `torch.device` or passing a string as an argument. This behavior will be deprecated soon and currently defaults to cpu.\n"
     ]
    }
   ],
   "source": [
    "train_iter, test_iter = data.BucketIterator.splits((train, test), batch_size=128, device=-1,shuffle=True)"
   ]
  },
  {
   "cell_type": "markdown",
   "metadata": {},
   "source": [
    "**Create a batch**"
   ]
  },
  {
   "cell_type": "code",
   "execution_count": 27,
   "metadata": {
    "ExecuteTime": {
     "end_time": "2019-04-10T05:01:18.357210Z",
     "start_time": "2019-04-10T05:01:18.327842Z"
    }
   },
   "outputs": [
    {
     "name": "stdout",
     "output_type": "stream",
     "text": [
      "torch.Size([128, 300])\n",
      "torch.Size([128])\n"
     ]
    },
    {
     "data": {
      "text/plain": [
       "tensor([[   3,  100,    5,  ...,  308,   10,  200],\n",
       "        [   1,    1,    1,  ..., 1729, 1608, 1148],\n",
       "        [   1,    1,    1,  ...,    5,    0,   96],\n",
       "        ...,\n",
       "        [   1,    1,    1,  ...,    5,    0,    0],\n",
       "        [   1,    1,    1,  ...,  255, 1584,  158],\n",
       "        [   1,    1,    1,  ...,  172,    0, 1009]])"
      ]
     },
     "execution_count": 27,
     "metadata": {},
     "output_type": "execute_result"
    },
    {
     "data": {
      "text/plain": [
       "tensor([2, 2, 2, 2, 2, 1, 2, 1, 1, 1, 2, 2, 1, 1, 1, 1, 1, 2, 1, 1, 1, 2, 2, 1,\n",
       "        1, 2, 2, 1, 1, 2, 1, 1, 2, 1, 2, 2, 1, 1, 1, 2, 2, 2, 1, 2, 2, 1, 2, 2,\n",
       "        1, 1, 1, 2, 2, 2, 1, 1, 2, 1, 2, 2, 2, 2, 1, 1, 1, 1, 1, 2, 1, 2, 2, 2,\n",
       "        2, 2, 2, 2, 1, 2, 1, 1, 1, 2, 2, 1, 1, 1, 1, 2, 2, 1, 2, 1, 1, 2, 2, 2,\n",
       "        2, 1, 1, 2, 1, 2, 1, 1, 1, 1, 2, 1, 1, 2, 2, 1, 1, 1, 1, 1, 2, 1, 1, 2,\n",
       "        1, 2, 2, 2, 2, 2, 1, 2])"
      ]
     },
     "execution_count": 27,
     "metadata": {},
     "output_type": "execute_result"
    }
   ],
   "source": [
    "batch = next(iter(train_iter))\n",
    "print(batch.review_text.shape)\n",
    "print(batch.label.shape)\n",
    "\n",
    "# batch_size x fix_len\n",
    "batch.review_text\n",
    "batch.label"
   ]
  },
  {
   "cell_type": "markdown",
   "metadata": {},
   "source": [
    "## Create a network with Word Embedding"
   ]
  },
  {
   "cell_type": "markdown",
   "metadata": {},
   "source": [
    "# Use LSTM for Sentiment Classification"
   ]
  },
  {
   "cell_type": "markdown",
   "metadata": {},
   "source": [
    "1. Preparing the data (previous steps)\n",
    "2. Creating the batches \n",
    "3. Creating the network \n",
    "4. Training the model"
   ]
  },
  {
   "cell_type": "code",
   "execution_count": 28,
   "metadata": {
    "ExecuteTime": {
     "end_time": "2019-04-10T05:01:48.031913Z",
     "start_time": "2019-04-10T05:01:45.401226Z"
    }
   },
   "outputs": [
    {
     "name": "stdout",
     "output_type": "stream",
     "text": [
      "training set size: 1067\n",
      "testing set size: 457\n"
     ]
    }
   ],
   "source": [
    "#Split Train and Test\n",
    "prepare_csv(\"data/Section5/car_review.csv\", \"review_text\", \"label\", 0.3, 42)\n",
    "\n",
    "#construct field\n",
    "TEXT = data.Field(sequential=True, fix_length=200, tokenize=tokenizer,# pad_first=True,\n",
    "                  lower=True, batch_first = False)\n",
    "\n",
    "LABEL = data.Field(sequential = False,)\n",
    "\n",
    "#Build training and testing datasets\n",
    "train = data.TabularDataset(path='data/Section5/cache/training.csv', format='csv', skip_header=True,\n",
    "    fields=[('review_text', TEXT),\n",
    "        ('label', LABEL),\n",
    "    ])\n",
    "test = data.TabularDataset(path='data/Section5/cache/testing.csv', format='csv', skip_header=True,\n",
    "    fields=[('review_text', TEXT),\n",
    "        ('label', LABEL),\n",
    "    ])\n",
    "\n",
    "#Build dictionary \n",
    "TEXT.build_vocab(train, vectors=GloVe(name='6B', dim=300),max_size=10000, min_freq=5)\n",
    "LABEL.build_vocab(train,)"
   ]
  },
  {
   "cell_type": "code",
   "execution_count": 29,
   "metadata": {
    "ExecuteTime": {
     "end_time": "2019-04-10T05:01:56.690515Z",
     "start_time": "2019-04-10T05:01:56.680600Z"
    }
   },
   "outputs": [
    {
     "name": "stderr",
     "output_type": "stream",
     "text": [
      "The `device` argument should be set by using `torch.device` or passing a string as an argument. This behavior will be deprecated soon and currently defaults to cpu.\n",
      "The `device` argument should be set by using `torch.device` or passing a string as an argument. This behavior will be deprecated soon and currently defaults to cpu.\n"
     ]
    }
   ],
   "source": [
    "#Break train, test data into batches(size 32)\n",
    "train_iter, test_iter = data.BucketIterator.splits((train, test), batch_size=32, device=-1, sort_key = lambda x: len(x.review_text), sort_within_batch = False)\n",
    "train_iter.repeat = False\n",
    "test_iter.repeat = False"
   ]
  },
  {
   "cell_type": "code",
   "execution_count": 30,
   "metadata": {
    "ExecuteTime": {
     "end_time": "2019-04-10T05:02:04.410830Z",
     "start_time": "2019-04-10T05:02:04.395876Z"
    }
   },
   "outputs": [],
   "source": [
    "class IMDBRnn(nn.Module):\n",
    "    \n",
    "    def __init__(self,vocab,hidden_size,n_cat,bs=1,nl=2):\n",
    "        super().__init__()\n",
    "        self.hidden_size = hidden_size\n",
    "        self.bs = bs\n",
    "        self.nl = nl\n",
    "        self.e = nn.Embedding(n_vocab,hidden_size)\n",
    "        self.rnn = nn.LSTM(hidden_size,hidden_size,nl)\n",
    "        self.fc2 = nn.Linear(hidden_size,n_cat)\n",
    "        self.softmax = nn.LogSoftmax(dim=-1)\n",
    "\n",
    "    def forward(self,inp):\n",
    "        bs = inp.size()[1]\n",
    "        if bs != self.bs:\n",
    "            self.bs = bs\n",
    "        e_out = self.e(inp)\n",
    "        h0 = c0 = Variable(e_out.data.new(*(self.nl,self.bs,self.hidden_size)).zero_())\n",
    "        rnn_o,_ = self.rnn(e_out,(h0,c0))\n",
    "        rnn_o = rnn_o[-1]\n",
    "        fc = F.dropout(self.fc2(rnn_o),p=0.50)\n",
    "        return self.softmax(fc)"
   ]
  },
  {
   "cell_type": "code",
   "execution_count": 36,
   "metadata": {
    "ExecuteTime": {
     "end_time": "2019-04-10T09:53:30.765399Z",
     "start_time": "2019-04-10T09:53:30.753458Z"
    }
   },
   "outputs": [],
   "source": [
    "n_vocab = len(TEXT.vocab)\n",
    "n_hidden = 64"
   ]
  },
  {
   "cell_type": "code",
   "execution_count": 37,
   "metadata": {
    "ExecuteTime": {
     "end_time": "2019-04-10T09:53:31.442417Z",
     "start_time": "2019-04-10T09:53:31.406950Z"
    },
    "code_folding": []
   },
   "outputs": [],
   "source": [
    "model = IMDBRnn(n_vocab,n_hidden,3,bs=32)\n",
    "#model = model.cuda()\n",
    "\n",
    "optimizer = optim.Adam(model.parameters(),lr=1e-3)\n",
    "\n",
    "def fit(epoch,model,data_loader,phase='training',volatile=False):\n",
    "    if phase == 'training':\n",
    "        model.train()\n",
    "    if phase == 'validation':\n",
    "        model.eval()\n",
    "        volatile=True\n",
    "    running_loss = 0.0\n",
    "    running_correct = 0\n",
    "    for batch_idx , batch in enumerate(data_loader):\n",
    "        text,target = batch.review_text , batch.label\n",
    "#         if is_cuda:\n",
    "#             text,target = text.cuda(),target.cuda()\n",
    "        \n",
    "        if phase == 'training':\n",
    "            optimizer.zero_grad()\n",
    "        output = model(text)\n",
    "        \n",
    "        loss = F.nll_loss(output, target)\n",
    "        \n",
    "        running_loss += F.nll_loss(output,target,size_average=False).data\n",
    "        preds = output.data.max(dim=1,keepdim=True)[1]\n",
    "        running_correct += preds.eq(target.data.view_as(preds)).cpu().sum()\n",
    "        if phase == 'training':\n",
    "            loss.backward()\n",
    "            optimizer.step()\n",
    "    \n",
    "    loss = running_loss/len(data_loader.dataset)\n",
    "    accuracy = 100. * running_correct/len(data_loader.dataset)\n",
    "    print(\"loss: \", loss, \"accuracy: \", accuracy)\n",
    "    #print(f'{phase} loss is {loss:{5}.{2}} and {phase} accuracy is {running_correct}/{len(data_loader.dataset)}{accuracy:{10}.{4}}')\n",
    "    return loss,accuracy"
   ]
  },
  {
   "cell_type": "code",
   "execution_count": 38,
   "metadata": {
    "ExecuteTime": {
     "end_time": "2019-04-10T09:57:25.363963Z",
     "start_time": "2019-04-10T09:53:33.113814Z"
    },
    "scrolled": false
   },
   "outputs": [
    {
     "name": "stdout",
     "output_type": "stream",
     "text": [
      "epoch:1\n"
     ]
    },
    {
     "name": "stderr",
     "output_type": "stream",
     "text": [
      "/Users/jeffrey/anaconda2/envs/dl/lib/python3.6/site-packages/torch/nn/_reduction.py:49: UserWarning: size_average and reduce args will be deprecated, please use reduction='sum' instead.\n",
      "  warnings.warn(warning.format(ret))\n"
     ]
    },
    {
     "name": "stdout",
     "output_type": "stream",
     "text": [
      "loss:  tensor(0.9465) accuracy:  tensor(50)\n",
      "loss:  tensor(0.8939) accuracy:  tensor(52)\n",
      "epoch:2\n",
      "loss:  tensor(0.9036) accuracy:  tensor(47)\n",
      "loss:  tensor(0.8881) accuracy:  tensor(49)\n",
      "epoch:3\n",
      "loss:  tensor(0.8735) accuracy:  tensor(48)\n",
      "loss:  tensor(0.8664) accuracy:  tensor(55)\n",
      "epoch:4\n",
      "loss:  tensor(0.8713) accuracy:  tensor(50)\n",
      "loss:  tensor(0.8808) accuracy:  tensor(54)\n",
      "epoch:5\n",
      "loss:  tensor(0.8759) accuracy:  tensor(52)\n",
      "loss:  tensor(0.8356) accuracy:  tensor(55)\n",
      "epoch:6\n",
      "loss:  tensor(0.8558) accuracy:  tensor(51)\n",
      "loss:  tensor(0.8734) accuracy:  tensor(52)\n",
      "epoch:7\n",
      "loss:  tensor(0.8403) accuracy:  tensor(54)\n",
      "loss:  tensor(0.8702) accuracy:  tensor(52)\n",
      "epoch:8\n",
      "loss:  tensor(0.8190) accuracy:  tensor(57)\n",
      "loss:  tensor(0.8740) accuracy:  tensor(54)\n",
      "epoch:9\n",
      "loss:  tensor(0.8165) accuracy:  tensor(55)\n",
      "loss:  tensor(0.9051) accuracy:  tensor(48)\n",
      "epoch:10\n",
      "loss:  tensor(0.7985) accuracy:  tensor(57)\n",
      "loss:  tensor(0.8988) accuracy:  tensor(50)\n",
      "epoch:11\n",
      "loss:  tensor(0.7897) accuracy:  tensor(56)\n",
      "loss:  tensor(0.9145) accuracy:  tensor(57)\n",
      "epoch:12\n",
      "loss:  tensor(0.7699) accuracy:  tensor(58)\n",
      "loss:  tensor(0.9425) accuracy:  tensor(52)\n",
      "epoch:13\n",
      "loss:  tensor(0.7851) accuracy:  tensor(55)\n",
      "loss:  tensor(0.8872) accuracy:  tensor(54)\n",
      "epoch:14\n",
      "loss:  tensor(0.7735) accuracy:  tensor(58)\n",
      "loss:  tensor(0.9045) accuracy:  tensor(57)\n",
      "epoch:15\n",
      "loss:  tensor(0.7699) accuracy:  tensor(60)\n",
      "loss:  tensor(0.9274) accuracy:  tensor(58)\n",
      "epoch:16\n",
      "loss:  tensor(0.7441) accuracy:  tensor(58)\n",
      "loss:  tensor(0.9223) accuracy:  tensor(56)\n",
      "epoch:17\n",
      "loss:  tensor(0.7642) accuracy:  tensor(57)\n",
      "loss:  tensor(1.0440) accuracy:  tensor(49)\n",
      "epoch:18\n",
      "loss:  tensor(0.7652) accuracy:  tensor(56)\n",
      "loss:  tensor(0.9278) accuracy:  tensor(55)\n",
      "epoch:19\n",
      "loss:  tensor(0.7334) accuracy:  tensor(60)\n",
      "loss:  tensor(0.9754) accuracy:  tensor(56)\n",
      "epoch:20\n",
      "loss:  tensor(0.7733) accuracy:  tensor(57)\n",
      "loss:  tensor(0.9519) accuracy:  tensor(57)\n",
      "epoch:21\n",
      "loss:  tensor(0.6788) accuracy:  tensor(68)\n",
      "loss:  tensor(0.9104) accuracy:  tensor(68)\n",
      "epoch:22\n",
      "loss:  tensor(0.6628) accuracy:  tensor(69)\n",
      "loss:  tensor(0.7907) accuracy:  tensor(69)\n",
      "epoch:23\n",
      "loss:  tensor(0.6458) accuracy:  tensor(75)\n",
      "loss:  tensor(0.8964) accuracy:  tensor(68)\n",
      "epoch:24\n",
      "loss:  tensor(0.6150) accuracy:  tensor(74)\n",
      "loss:  tensor(0.8600) accuracy:  tensor(67)\n",
      "3.8706443667411805\n",
      "Execution Time:  3.9 minutes\n"
     ]
    }
   ],
   "source": [
    "import time\n",
    "start = time.time()\n",
    "\n",
    "train_losses , train_accuracy = [],[]\n",
    "val_losses , val_accuracy = [],[]\n",
    "\n",
    "for epoch in range(1,25):\n",
    "    print(\"epoch:\" + str(epoch) )\n",
    "    epoch_loss, epoch_accuracy = fit(epoch,model,train_iter,phase='training')\n",
    "    val_epoch_loss, val_epoch_accuracy = fit(epoch,model,test_iter,phase='validation')\n",
    "    train_losses.append(epoch_loss)\n",
    "    train_accuracy.append(epoch_accuracy)\n",
    "    val_losses.append(val_epoch_loss)\n",
    "    val_accuracy.append(val_epoch_accuracy)\n",
    "    \n",
    "end = time.time()\n",
    "print((end-start)/60)\n",
    "print(\"Execution Time: \", round(((end-start)/60),1), \"minutes\")"
   ]
  },
  {
   "cell_type": "code",
   "execution_count": 39,
   "metadata": {
    "ExecuteTime": {
     "end_time": "2019-04-10T09:57:25.595950Z",
     "start_time": "2019-04-10T09:57:25.389752Z"
    }
   },
   "outputs": [
    {
     "data": {
      "text/plain": [
       "[<matplotlib.lines.Line2D at 0x1a2e81e128>]"
      ]
     },
     "execution_count": 39,
     "metadata": {},
     "output_type": "execute_result"
    },
    {
     "data": {
      "text/plain": [
       "[<matplotlib.lines.Line2D at 0x1a2e440e80>]"
      ]
     },
     "execution_count": 39,
     "metadata": {},
     "output_type": "execute_result"
    },
    {
     "data": {
      "text/plain": [
       "<matplotlib.legend.Legend at 0x1a2e81e518>"
      ]
     },
     "execution_count": 39,
     "metadata": {},
     "output_type": "execute_result"
    },
    {
     "data": {
      "image/png": "[encoded data removed]",
      "text/plain": [
       "<Figure size 432x288 with 1 Axes>"
      ]
     },
     "metadata": {},
     "output_type": "display_data"
    }
   ],
   "source": [
    "import matplotlib.pyplot as plt\n",
    "%matplotlib inline\n",
    "\n",
    "plt.plot(range(1,len(train_losses)+1),train_losses,'bo',label = 'training loss')\n",
    "plt.plot(range(1,len(val_losses)+1),val_losses,'r',label = 'validation loss')\n",
    "plt.legend()"
   ]
  },
  {
   "cell_type": "code",
   "execution_count": 40,
   "metadata": {
    "ExecuteTime": {
     "end_time": "2019-04-10T09:57:25.888774Z",
     "start_time": "2019-04-10T09:57:25.623298Z"
    }
   },
   "outputs": [
    {
     "data": {
      "text/plain": [
       "[<matplotlib.lines.Line2D at 0x1a2cee7780>]"
      ]
     },
     "execution_count": 40,
     "metadata": {},
     "output_type": "execute_result"
    },
    {
     "data": {
      "text/plain": [
       "[<matplotlib.lines.Line2D at 0x1a2ce92ac8>]"
      ]
     },
     "execution_count": 40,
     "metadata": {},
     "output_type": "execute_result"
    },
    {
     "data": {
      "text/plain": [
       "<matplotlib.legend.Legend at 0x1a2cee7ba8>"
      ]
     },
     "execution_count": 40,
     "metadata": {},
     "output_type": "execute_result"
    },
    {
     "data": {
      "image/png": "[encoded data removed]",
      "text/plain": [
       "<Figure size 432x288 with 1 Axes>"
      ]
     },
     "metadata": {},
     "output_type": "display_data"
    }
   ],
   "source": [
    "plt.plot(range(1,len(train_accuracy)+1),train_accuracy,'bo',label = 'train accuracy')\n",
    "plt.plot(range(1,len(val_accuracy)+1),val_accuracy,'r',label = 'val accuracy')\n",
    "plt.legend()"
   ]
  },
  {
   "cell_type": "code",
   "execution_count": null,
   "metadata": {},
   "outputs": [],
   "source": []
  },
  {
   "cell_type": "code",
   "execution_count": null,
   "metadata": {},
   "outputs": [],
   "source": []
  }
 ],
 "metadata": {
  "kernelspec": {
   "display_name": "Python [conda env:dl]",
   "language": "python",
   "name": "conda-env-dl-py"
  },
  "language_info": {
   "codemirror_mode": {
    "name": "ipython",
    "version": 3
   },
   "file_extension": ".py",
   "mimetype": "text/x-python",
   "name": "python",
   "nbconvert_exporter": "python",
   "pygments_lexer": "ipython3",
   "version": "3.6.7"
  },
  "toc": {
   "base_numbering": 1,
   "nav_menu": {},
   "number_sections": true,
   "sideBar": true,
   "skip_h1_title": false,
   "title_cell": "Table of Contents",
   "title_sidebar": "Contents",
   "toc_cell": false,
   "toc_position": {},
   "toc_section_display": true,
   "toc_window_display": false
  },
  "varInspector": {
   "cols": {
    "lenName": 16,
    "lenType": 16,
    "lenVar": 40
   },
   "kernels_config": {
    "python": {
     "delete_cmd_postfix": "",
     "delete_cmd_prefix": "del ",
     "library": "var_list.py",
     "varRefreshCmd": "print(var_dic_list())"
    },
    "r": {
     "delete_cmd_postfix": ") ",
     "delete_cmd_prefix": "rm(",
     "library": "var_list.r",
     "varRefreshCmd": "cat(var_dic_list()) "
    }
   },
   "types_to_exclude": [
    "module",
    "function",
    "builtin_function_or_method",
    "instance",
    "_Feature"
   ],
   "window_display": false
  }
 },
 "nbformat": 4,
 "nbformat_minor": 2
}
