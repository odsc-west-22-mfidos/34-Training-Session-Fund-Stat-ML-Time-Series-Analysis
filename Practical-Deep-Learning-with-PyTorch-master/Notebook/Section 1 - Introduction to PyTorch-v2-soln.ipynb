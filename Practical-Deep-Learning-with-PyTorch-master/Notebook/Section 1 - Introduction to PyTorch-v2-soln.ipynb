{
 "cells": [
  {
   "cell_type": "markdown",
   "metadata": {},
   "source": [
    "<div class=\"alert alert-block alert-info\">\n",
    "<font size=\"6\"><b><center> Section 1</font></center>\n",
    "<br>\n",
    "<font size=\"6\"><b><center> Introduction to PyTorch </font></center>\n",
    "</div>"
   ]
  },
  {
   "cell_type": "markdown",
   "metadata": {},
   "source": [
    "# Fundamental Building Blocks"
   ]
  },
  {
   "cell_type": "markdown",
   "metadata": {},
   "source": [
    "* Tensor and Tensor Operations\n",
    "\n",
    "* PyTorch’s Tensor Libraries\n",
    "\n",
    "* Computational Graph\n",
    "\n",
    "* Gradient Computation\n",
    "\n",
    "* Linear Mapping\n",
    "\n",
    "* PyTorch’s non-linear activation functions:\n",
    "    * Sigmoid, tanh, ReLU, Leaky ReLU\n",
    "\n",
    "* Loss Function\n",
    "\n",
    "* Optimization algorithms used in training deep learning models"
   ]
  },
  {
   "cell_type": "markdown",
   "metadata": {},
   "source": [
    "# A 2-Layer Feed-Forward Neural Network Architecture"
   ]
  },
  {
   "cell_type": "markdown",
   "metadata": {},
   "source": [
    "## Some notations on a simple feed-forward network"
   ]
  },
  {
   "cell_type": "markdown",
   "metadata": {},
   "source": [
    "$\\bar{\\mathbf{X}} = \\{X_1, X_2, \\dots, X_K, 1 \\}$ is a $n \\times K$ matrix of $K$ input features from $n$ training examples\n",
    "\n",
    "$X_k$ $ (k = 1,\\dots,K) $ is a $n \\times 1$ vector of n examples corresponding to feature $k$\n",
    "\n",
    "$\\bar{\\mathbf{W}}_{Xh} = \\{w_1, w_2 \\dots, w_p \\}$\n",
    "\n",
    "$\\bar{\\mathbf{W}}_{Xh}$ of size $PK$ \n",
    "\n",
    "where $P$ is the number of units in the hidden layer 1 \n",
    "\n",
    "and K is the number of input features\n",
    "\n",
    "$\\mathbf{b}$ bias\n",
    "\n"
   ]
  },
  {
   "cell_type": "markdown",
   "metadata": {},
   "source": [
    "## A Simple Neural Network Architeture"
   ]
  },
  {
   "cell_type": "markdown",
   "metadata": {},
   "source": [
    "The input layer contains $d$ nodes that transmit the $d$ features $\\mathbf{X} = \\{x_1, \\dots, x_d, 1 \\}$ with edges of weights $\\mathbf{W} = \\{w_1, \\dots, w_d, b \\}$ to an output node.\n",
    "\n",
    "Linear function (or linear mapping of data): $\\mathbf{W} \\cdot \\mathbf{X} + b = b + \\sum_{i=1}^d w_i x_i $\n",
    "\n",
    "$ y = b + \\sum_{i=1}^d w_i x_i $ where $w$'s and $b$ are parameters to be learned"
   ]
  },
  {
   "cell_type": "markdown",
   "metadata": {},
   "source": [
    "# Tensor and Tensor Operations"
   ]
  },
  {
   "cell_type": "markdown",
   "metadata": {},
   "source": [
    "There are many types of tensor operations, and we will not cover all of them in this introduction. We will focus on operations that can help us start developing deep learning models immediately.\n",
    "\n",
    "The official documentation provides a comprehensive list: [pytorch.org](https://pytorch.org/docs/stable/torch.html#tensors)\n",
    "\n",
    "\n",
    "  * Creation ops: functions for constructing a tensor, like ones and from_numpy \n",
    "  \n",
    "  * Indexing, slicing, joining, mutating ops: functions for changing the shape, stride or content a tensor, like transpose\n",
    "\n",
    "  * Math ops: functions for manipulating the content of the tensor through computations\n",
    "\n",
    "    * Pointwise ops: functions for obtaining a new tensor by applying a function to each element independently, like abs and cos\n",
    "\n",
    "    * Reduction ops: functions for computing aggregate values by iterating through tensors, like mean, std and norm\n",
    "\n",
    "    * Comparison ops: functions for evaluating numerical predicates over tensors, like equal and max\n",
    "\n",
    "    * Spectral ops: functions for transforming in and operating in the frequency domain, like stft and hamming_window\n",
    "\n",
    "    * Other operations: special functions operating on vectors, like cross, or matrices, like trace \n",
    "  \n",
    "    * BLAS and LAPACK operations: functions following the BLAS (Basic Linear Algebra Subprograms) specification for scalar, vector-vector, matrix-vector and matrix-matrix operations \n",
    "  \n",
    "  * Random sampling: functions for generating values by drawing randomly from probability distributions, like randn and normal\n",
    "\n",
    "  * Serialization: functions for saving and loading tensors, like load and save\n",
    "\n",
    "  * Parallelism: functions for controlling the number of threads for parallel CPU execution, like set_num_threads\n",
    "\n"
   ]
  },
  {
   "cell_type": "code",
   "execution_count": 1,
   "metadata": {
    "ExecuteTime": {
     "end_time": "2019-04-11T11:28:52.152700Z",
     "start_time": "2019-04-11T11:28:51.385850Z"
    }
   },
   "outputs": [
    {
     "data": {
      "text/plain": [
       "'1.0.1.post2'"
      ]
     },
     "execution_count": 1,
     "metadata": {},
     "output_type": "execute_result"
    }
   ],
   "source": [
    "# Import torch module\n",
    "import torch\n",
    "torch.version.__version__"
   ]
  },
  {
   "cell_type": "markdown",
   "metadata": {},
   "source": [
    "## Creating Tensors and Examining tensors"
   ]
  },
  {
   "cell_type": "markdown",
   "metadata": {},
   "source": [
    "* `rand()`\n",
    "\n",
    "* `randn()`\n",
    "\n",
    "* `zeros()`\n",
    "\n",
    "* `ones()`\n",
    "\n",
    "* using a `Python list`"
   ]
  },
  {
   "cell_type": "markdown",
   "metadata": {},
   "source": [
    "### Create a 1-D Tensor"
   ]
  },
  {
   "cell_type": "markdown",
   "metadata": {},
   "source": [
    "  - PyTorch provides methods to create random or zero-filled tensors\n",
    "  - Use case: to initialize weights and bias for a NN model"
   ]
  },
  {
   "cell_type": "code",
   "execution_count": 2,
   "metadata": {
    "ExecuteTime": {
     "end_time": "2019-04-11T11:28:52.161963Z",
     "start_time": "2019-04-11T11:28:52.156741Z"
    }
   },
   "outputs": [],
   "source": [
    "import torch"
   ]
  },
  {
   "cell_type": "markdown",
   "metadata": {
    "ExecuteTime": {
     "end_time": "2019-03-31T03:35:22.947948Z",
     "start_time": "2019-03-31T03:35:22.942129Z"
    }
   },
   "source": [
    "`torch.rand()` returns a tensor of random numbers from a uniform [0,1) distribution\n",
    "                                                                                                        \n",
    "[Source: Torch's random sampling](https://pytorch.org/docs/stable/torch.html#random-sampling)"
   ]
  },
  {
   "cell_type": "markdown",
   "metadata": {
    "ExecuteTime": {
     "end_time": "2019-03-31T03:26:56.247037Z",
     "start_time": "2019-03-31T03:26:56.242225Z"
    }
   },
   "source": [
    "Draw a sequence of 10 random numbers"
   ]
  },
  {
   "cell_type": "code",
   "execution_count": 3,
   "metadata": {
    "ExecuteTime": {
     "end_time": "2019-04-11T11:28:52.180623Z",
     "start_time": "2019-04-11T11:28:52.166231Z"
    }
   },
   "outputs": [],
   "source": [
    "x = torch.rand(10)"
   ]
  },
  {
   "cell_type": "code",
   "execution_count": 8,
   "metadata": {
    "ExecuteTime": {
     "end_time": "2019-04-11T11:29:20.484851Z",
     "start_time": "2019-04-11T11:29:20.477765Z"
    }
   },
   "outputs": [
    {
     "data": {
      "text/plain": [
       "torch.Tensor"
      ]
     },
     "execution_count": 8,
     "metadata": {},
     "output_type": "execute_result"
    }
   ],
   "source": [
    "type(x)"
   ]
  },
  {
   "cell_type": "code",
   "execution_count": 9,
   "metadata": {
    "ExecuteTime": {
     "end_time": "2019-04-11T11:29:31.796412Z",
     "start_time": "2019-04-11T11:29:31.789117Z"
    }
   },
   "outputs": [
    {
     "data": {
      "text/plain": [
       "torch.Size([10])"
      ]
     },
     "execution_count": 9,
     "metadata": {},
     "output_type": "execute_result"
    }
   ],
   "source": [
    "x.size()"
   ]
  },
  {
   "cell_type": "code",
   "execution_count": 10,
   "metadata": {
    "ExecuteTime": {
     "end_time": "2019-04-11T11:29:31.807956Z",
     "start_time": "2019-04-11T11:29:31.799520Z"
    }
   },
   "outputs": [
    {
     "name": "stdout",
     "output_type": "stream",
     "text": [
      "tensor(0.0729) tensor(0.9170) tensor(0.3932) tensor(0.2351)\n"
     ]
    }
   ],
   "source": [
    "print(x.min(), x.max(), x.mean(), x.std())"
   ]
  },
  {
   "cell_type": "markdown",
   "metadata": {
    "ExecuteTime": {
     "end_time": "2019-03-31T03:36:57.788977Z",
     "start_time": "2019-03-31T03:36:57.784137Z"
    }
   },
   "source": [
    "Draw a matrix of size (10,3) random numbers"
   ]
  },
  {
   "cell_type": "code",
   "execution_count": 11,
   "metadata": {
    "ExecuteTime": {
     "end_time": "2019-04-11T11:29:31.818489Z",
     "start_time": "2019-04-11T11:29:31.814964Z"
    }
   },
   "outputs": [],
   "source": [
    "W = torch.rand(10,3)"
   ]
  },
  {
   "cell_type": "code",
   "execution_count": 12,
   "metadata": {
    "ExecuteTime": {
     "end_time": "2019-04-11T11:29:31.829490Z",
     "start_time": "2019-04-11T11:29:31.821211Z"
    }
   },
   "outputs": [
    {
     "data": {
      "text/plain": [
       "torch.Tensor"
      ]
     },
     "execution_count": 12,
     "metadata": {},
     "output_type": "execute_result"
    }
   ],
   "source": [
    "type(W)"
   ]
  },
  {
   "cell_type": "code",
   "execution_count": 13,
   "metadata": {
    "ExecuteTime": {
     "end_time": "2019-04-11T11:29:31.840564Z",
     "start_time": "2019-04-11T11:29:31.832824Z"
    }
   },
   "outputs": [
    {
     "data": {
      "text/plain": [
       "torch.Size([10, 3])"
      ]
     },
     "execution_count": 13,
     "metadata": {},
     "output_type": "execute_result"
    }
   ],
   "source": [
    "W.size()"
   ]
  },
  {
   "cell_type": "code",
   "execution_count": 14,
   "metadata": {
    "ExecuteTime": {
     "end_time": "2019-04-11T11:29:31.856231Z",
     "start_time": "2019-04-11T11:29:31.846111Z"
    }
   },
   "outputs": [
    {
     "data": {
      "text/plain": [
       "tensor([[0.8917, 0.1977, 0.3027],\n",
       "        [0.7790, 0.1359, 0.5093],\n",
       "        [0.3162, 0.3543, 0.2875],\n",
       "        [0.2732, 0.8875, 0.0485],\n",
       "        [0.5236, 0.1412, 0.8217],\n",
       "        [0.2054, 0.9389, 0.0803],\n",
       "        [0.0826, 0.8874, 0.5198],\n",
       "        [0.0602, 0.3861, 0.6371],\n",
       "        [0.9931, 0.0961, 0.1665],\n",
       "        [0.6312, 0.5257, 0.5556]])"
      ]
     },
     "execution_count": 14,
     "metadata": {},
     "output_type": "execute_result"
    }
   ],
   "source": [
    "W"
   ]
  },
  {
   "cell_type": "markdown",
   "metadata": {},
   "source": [
    "Another common random sampling is to generate random number from the standard normal distribution"
   ]
  },
  {
   "cell_type": "markdown",
   "metadata": {},
   "source": [
    "`torch.randn()` returns a tensor of random numbers from a standard normal distribution (i.e. a normal distribution with mean 0 and variance 1)\n",
    "\n",
    "[Source: Torch's random sampling](https://pytorch.org/docs/stable/torch.html#random-sampling)"
   ]
  },
  {
   "cell_type": "code",
   "execution_count": 15,
   "metadata": {
    "ExecuteTime": {
     "end_time": "2019-04-11T11:29:31.871068Z",
     "start_time": "2019-04-11T11:29:31.864136Z"
    }
   },
   "outputs": [],
   "source": [
    "W2 = torch.randn(10,3)"
   ]
  },
  {
   "cell_type": "code",
   "execution_count": 16,
   "metadata": {
    "ExecuteTime": {
     "end_time": "2019-04-11T11:29:31.892000Z",
     "start_time": "2019-04-11T11:29:31.877612Z"
    }
   },
   "outputs": [
    {
     "data": {
      "text/plain": [
       "torch.Tensor"
      ]
     },
     "execution_count": 16,
     "metadata": {},
     "output_type": "execute_result"
    }
   ],
   "source": [
    "type(W2)"
   ]
  },
  {
   "cell_type": "code",
   "execution_count": 17,
   "metadata": {
    "ExecuteTime": {
     "end_time": "2019-04-11T11:29:31.911598Z",
     "start_time": "2019-04-11T11:29:31.901988Z"
    }
   },
   "outputs": [
    {
     "data": {
      "text/plain": [
       "torch.float32"
      ]
     },
     "execution_count": 17,
     "metadata": {},
     "output_type": "execute_result"
    }
   ],
   "source": [
    "W2.dtype"
   ]
  },
  {
   "cell_type": "code",
   "execution_count": 18,
   "metadata": {
    "ExecuteTime": {
     "end_time": "2019-04-11T11:29:31.923287Z",
     "start_time": "2019-04-11T11:29:31.917360Z"
    }
   },
   "outputs": [
    {
     "data": {
      "text/plain": [
       "torch.Size([10, 3])"
      ]
     },
     "execution_count": 18,
     "metadata": {},
     "output_type": "execute_result"
    }
   ],
   "source": [
    "W2.shape"
   ]
  },
  {
   "cell_type": "code",
   "execution_count": 19,
   "metadata": {
    "ExecuteTime": {
     "end_time": "2019-04-11T11:29:31.939455Z",
     "start_time": "2019-04-11T11:29:31.927364Z"
    }
   },
   "outputs": [
    {
     "data": {
      "text/plain": [
       "tensor([[ 1.0987, -0.2662,  1.4379],\n",
       "        [-0.5862,  0.7275,  0.3572],\n",
       "        [-0.3093,  1.0996,  0.7311],\n",
       "        [ 0.1942, -1.6024, -0.5596],\n",
       "        [-0.5025,  0.2974,  0.0411],\n",
       "        [-0.8179,  1.3647,  1.5407],\n",
       "        [-0.9724, -0.0149, -1.0674],\n",
       "        [-0.8422,  2.2364, -0.1224],\n",
       "        [-0.7517, -0.0303, -1.2309],\n",
       "        [ 1.0277,  0.4869,  0.1392]])"
      ]
     },
     "execution_count": 19,
     "metadata": {},
     "output_type": "execute_result"
    }
   ],
   "source": [
    "W2"
   ]
  },
  {
   "cell_type": "markdown",
   "metadata": {},
   "source": [
    "**Note: Though it looks like it is similar to a list of number objects, it is not. A tensor stores its data as unboxed numeric values, so they are not Python objects but C numeric types - 32-bit (4 bytes) float**"
   ]
  },
  {
   "cell_type": "markdown",
   "metadata": {},
   "source": [
    "`torch.zeros()` can be used to initialize the `bias`"
   ]
  },
  {
   "cell_type": "code",
   "execution_count": 20,
   "metadata": {
    "ExecuteTime": {
     "end_time": "2019-04-11T11:29:31.947763Z",
     "start_time": "2019-04-11T11:29:31.943938Z"
    }
   },
   "outputs": [],
   "source": [
    "b = torch.zeros(10)"
   ]
  },
  {
   "cell_type": "code",
   "execution_count": 21,
   "metadata": {
    "ExecuteTime": {
     "end_time": "2019-04-11T11:29:31.960049Z",
     "start_time": "2019-04-11T11:29:31.951600Z"
    }
   },
   "outputs": [
    {
     "data": {
      "text/plain": [
       "torch.Tensor"
      ]
     },
     "execution_count": 21,
     "metadata": {},
     "output_type": "execute_result"
    }
   ],
   "source": [
    "type(b)"
   ]
  },
  {
   "cell_type": "code",
   "execution_count": 22,
   "metadata": {
    "ExecuteTime": {
     "end_time": "2019-04-11T11:29:31.977541Z",
     "start_time": "2019-04-11T11:29:31.967524Z"
    }
   },
   "outputs": [
    {
     "data": {
      "text/plain": [
       "torch.Size([10])"
      ]
     },
     "execution_count": 22,
     "metadata": {},
     "output_type": "execute_result"
    }
   ],
   "source": [
    "b.shape"
   ]
  },
  {
   "cell_type": "code",
   "execution_count": 23,
   "metadata": {
    "ExecuteTime": {
     "end_time": "2019-04-11T11:29:31.991978Z",
     "start_time": "2019-04-11T11:29:31.983034Z"
    }
   },
   "outputs": [
    {
     "data": {
      "text/plain": [
       "tensor([0., 0., 0., 0., 0., 0., 0., 0., 0., 0.])"
      ]
     },
     "execution_count": 23,
     "metadata": {},
     "output_type": "execute_result"
    }
   ],
   "source": [
    "b"
   ]
  },
  {
   "cell_type": "markdown",
   "metadata": {},
   "source": [
    "Likewise, `torch.ones()` can be used to create a tensor filled with 1"
   ]
  },
  {
   "cell_type": "code",
   "execution_count": 24,
   "metadata": {
    "ExecuteTime": {
     "end_time": "2019-04-11T11:29:32.007767Z",
     "start_time": "2019-04-11T11:29:32.000392Z"
    }
   },
   "outputs": [],
   "source": [
    "a = torch.ones(3)"
   ]
  },
  {
   "cell_type": "code",
   "execution_count": 25,
   "metadata": {
    "ExecuteTime": {
     "end_time": "2019-04-11T11:29:32.020783Z",
     "start_time": "2019-04-11T11:29:32.010851Z"
    }
   },
   "outputs": [
    {
     "data": {
      "text/plain": [
       "torch.Tensor"
      ]
     },
     "execution_count": 25,
     "metadata": {},
     "output_type": "execute_result"
    }
   ],
   "source": [
    "type(a)"
   ]
  },
  {
   "cell_type": "code",
   "execution_count": 26,
   "metadata": {
    "ExecuteTime": {
     "end_time": "2019-04-11T11:29:32.034317Z",
     "start_time": "2019-04-11T11:29:32.026368Z"
    }
   },
   "outputs": [
    {
     "data": {
      "text/plain": [
       "torch.Size([3])"
      ]
     },
     "execution_count": 26,
     "metadata": {},
     "output_type": "execute_result"
    }
   ],
   "source": [
    "a.shape"
   ]
  },
  {
   "cell_type": "code",
   "execution_count": 27,
   "metadata": {
    "ExecuteTime": {
     "end_time": "2019-04-11T11:29:32.048008Z",
     "start_time": "2019-04-11T11:29:32.037772Z"
    }
   },
   "outputs": [
    {
     "data": {
      "text/plain": [
       "tensor([1., 1., 1.])"
      ]
     },
     "execution_count": 27,
     "metadata": {},
     "output_type": "execute_result"
    }
   ],
   "source": [
    "a"
   ]
  },
  {
   "cell_type": "code",
   "execution_count": 28,
   "metadata": {
    "ExecuteTime": {
     "end_time": "2019-04-11T11:29:32.057061Z",
     "start_time": "2019-04-11T11:29:32.051512Z"
    }
   },
   "outputs": [],
   "source": [
    "A = torch.ones((3,3,3))"
   ]
  },
  {
   "cell_type": "code",
   "execution_count": 29,
   "metadata": {
    "ExecuteTime": {
     "end_time": "2019-04-11T11:29:32.076408Z",
     "start_time": "2019-04-11T11:29:32.060116Z"
    }
   },
   "outputs": [
    {
     "data": {
      "text/plain": [
       "tensor([[[1., 1., 1.],\n",
       "         [1., 1., 1.],\n",
       "         [1., 1., 1.]],\n",
       "\n",
       "        [[1., 1., 1.],\n",
       "         [1., 1., 1.],\n",
       "         [1., 1., 1.]],\n",
       "\n",
       "        [[1., 1., 1.],\n",
       "         [1., 1., 1.],\n",
       "         [1., 1., 1.]]])"
      ]
     },
     "execution_count": 29,
     "metadata": {},
     "output_type": "execute_result"
    }
   ],
   "source": [
    "A"
   ]
  },
  {
   "cell_type": "markdown",
   "metadata": {},
   "source": [
    "Convert a Python list to a tensor"
   ]
  },
  {
   "cell_type": "code",
   "execution_count": 30,
   "metadata": {
    "ExecuteTime": {
     "end_time": "2019-04-11T11:29:32.091403Z",
     "start_time": "2019-04-11T11:29:32.081293Z"
    }
   },
   "outputs": [
    {
     "data": {
      "text/plain": [
       "torch.Size([3, 3, 3])"
      ]
     },
     "execution_count": 30,
     "metadata": {},
     "output_type": "execute_result"
    }
   ],
   "source": [
    "A.shape"
   ]
  },
  {
   "cell_type": "code",
   "execution_count": 31,
   "metadata": {
    "ExecuteTime": {
     "end_time": "2019-04-11T11:29:32.109866Z",
     "start_time": "2019-04-11T11:29:32.096085Z"
    }
   },
   "outputs": [
    {
     "data": {
      "text/plain": [
       "tensor([1., 4., 2., 1., 3., 5.])"
      ]
     },
     "execution_count": 31,
     "metadata": {},
     "output_type": "execute_result"
    }
   ],
   "source": [
    "l = [1.0, 4.0, 2.0, 1.0, 3.0, 5.0]\n",
    "torch.tensor(l)"
   ]
  },
  {
   "cell_type": "markdown",
   "metadata": {},
   "source": [
    "Subsetting a tensor: extract the first 2 elements of a 1-D tensor"
   ]
  },
  {
   "cell_type": "code",
   "execution_count": 32,
   "metadata": {
    "ExecuteTime": {
     "end_time": "2019-04-11T11:29:32.121430Z",
     "start_time": "2019-04-11T11:29:32.113005Z"
    }
   },
   "outputs": [
    {
     "data": {
      "text/plain": [
       "tensor([1., 4.])"
      ]
     },
     "execution_count": 32,
     "metadata": {},
     "output_type": "execute_result"
    }
   ],
   "source": [
    "torch.tensor([1.0, 4.0, 2.0, 1.0, 3.0, 5.0])[:2]"
   ]
  },
  {
   "cell_type": "markdown",
   "metadata": {},
   "source": [
    "### Create a 2-D Tensor"
   ]
  },
  {
   "cell_type": "code",
   "execution_count": 33,
   "metadata": {
    "ExecuteTime": {
     "end_time": "2019-04-11T11:29:32.131183Z",
     "start_time": "2019-04-11T11:29:32.125251Z"
    }
   },
   "outputs": [],
   "source": [
    "a = torch.ones(3,3)"
   ]
  },
  {
   "cell_type": "code",
   "execution_count": 34,
   "metadata": {
    "ExecuteTime": {
     "end_time": "2019-04-11T11:29:32.146720Z",
     "start_time": "2019-04-11T11:29:32.136288Z"
    }
   },
   "outputs": [
    {
     "data": {
      "text/plain": [
       "tensor([[1., 1., 1.],\n",
       "        [1., 1., 1.],\n",
       "        [1., 1., 1.]])"
      ]
     },
     "execution_count": 34,
     "metadata": {},
     "output_type": "execute_result"
    }
   ],
   "source": [
    "a"
   ]
  },
  {
   "cell_type": "code",
   "execution_count": 35,
   "metadata": {
    "ExecuteTime": {
     "end_time": "2019-04-11T11:29:32.157066Z",
     "start_time": "2019-04-11T11:29:32.150027Z"
    }
   },
   "outputs": [
    {
     "data": {
      "text/plain": [
       "torch.Size([3, 3])"
      ]
     },
     "execution_count": 35,
     "metadata": {},
     "output_type": "execute_result"
    }
   ],
   "source": [
    "a.size()"
   ]
  },
  {
   "cell_type": "code",
   "execution_count": 36,
   "metadata": {
    "ExecuteTime": {
     "end_time": "2019-04-11T11:29:32.166069Z",
     "start_time": "2019-04-11T11:29:32.160014Z"
    }
   },
   "outputs": [],
   "source": [
    "b = torch.ones(3,3)"
   ]
  },
  {
   "cell_type": "code",
   "execution_count": 37,
   "metadata": {
    "ExecuteTime": {
     "end_time": "2019-04-11T11:29:32.182006Z",
     "start_time": "2019-04-11T11:29:32.174224Z"
    }
   },
   "outputs": [
    {
     "data": {
      "text/plain": [
       "torch.Tensor"
      ]
     },
     "execution_count": 37,
     "metadata": {},
     "output_type": "execute_result"
    }
   ],
   "source": [
    "type(b)"
   ]
  },
  {
   "cell_type": "markdown",
   "metadata": {
    "ExecuteTime": {
     "end_time": "2019-03-02T22:16:09.851110Z",
     "start_time": "2019-03-02T22:16:09.844453Z"
    }
   },
   "source": [
    "Simple addition"
   ]
  },
  {
   "cell_type": "code",
   "execution_count": 38,
   "metadata": {
    "ExecuteTime": {
     "end_time": "2019-04-11T11:29:32.190853Z",
     "start_time": "2019-04-11T11:29:32.186229Z"
    }
   },
   "outputs": [],
   "source": [
    "c = a + b"
   ]
  },
  {
   "cell_type": "code",
   "execution_count": 39,
   "metadata": {
    "ExecuteTime": {
     "end_time": "2019-04-11T11:29:32.206624Z",
     "start_time": "2019-04-11T11:29:32.196762Z"
    }
   },
   "outputs": [
    {
     "data": {
      "text/plain": [
       "torch.Tensor"
      ]
     },
     "execution_count": 39,
     "metadata": {},
     "output_type": "execute_result"
    }
   ],
   "source": [
    "type(c)"
   ]
  },
  {
   "cell_type": "code",
   "execution_count": 40,
   "metadata": {
    "ExecuteTime": {
     "end_time": "2019-04-11T11:29:32.216601Z",
     "start_time": "2019-04-11T11:29:32.209836Z"
    }
   },
   "outputs": [
    {
     "data": {
      "text/plain": [
       "'torch.FloatTensor'"
      ]
     },
     "execution_count": 40,
     "metadata": {},
     "output_type": "execute_result"
    }
   ],
   "source": [
    "c.type()"
   ]
  },
  {
   "cell_type": "code",
   "execution_count": 41,
   "metadata": {
    "ExecuteTime": {
     "end_time": "2019-04-11T11:29:32.228543Z",
     "start_time": "2019-04-11T11:29:32.219746Z"
    }
   },
   "outputs": [
    {
     "data": {
      "text/plain": [
       "torch.Size([3, 3])"
      ]
     },
     "execution_count": 41,
     "metadata": {},
     "output_type": "execute_result"
    }
   ],
   "source": [
    "c.size()"
   ]
  },
  {
   "cell_type": "markdown",
   "metadata": {},
   "source": [
    "Create a 2-D tensor by passing a list of lists to the constructor"
   ]
  },
  {
   "cell_type": "code",
   "execution_count": 42,
   "metadata": {
    "ExecuteTime": {
     "end_time": "2019-04-11T11:29:32.244176Z",
     "start_time": "2019-04-11T11:29:32.235755Z"
    }
   },
   "outputs": [],
   "source": [
    "d = torch.tensor([[1.0, 4.0], [2.0, 1.0], [3.0, 5.0]])"
   ]
  },
  {
   "cell_type": "code",
   "execution_count": 43,
   "metadata": {
    "ExecuteTime": {
     "end_time": "2019-04-11T11:29:32.255631Z",
     "start_time": "2019-04-11T11:29:32.247799Z"
    }
   },
   "outputs": [
    {
     "data": {
      "text/plain": [
       "tensor([[1., 4.],\n",
       "        [2., 1.],\n",
       "        [3., 5.]])"
      ]
     },
     "execution_count": 43,
     "metadata": {},
     "output_type": "execute_result"
    }
   ],
   "source": [
    "d"
   ]
  },
  {
   "cell_type": "code",
   "execution_count": 44,
   "metadata": {
    "ExecuteTime": {
     "end_time": "2019-04-11T11:29:32.268592Z",
     "start_time": "2019-04-11T11:29:32.259536Z"
    }
   },
   "outputs": [
    {
     "data": {
      "text/plain": [
       "torch.Size([3, 2])"
      ]
     },
     "execution_count": 44,
     "metadata": {},
     "output_type": "execute_result"
    }
   ],
   "source": [
    "d.size()"
   ]
  },
  {
   "cell_type": "code",
   "execution_count": 45,
   "metadata": {
    "ExecuteTime": {
     "end_time": "2019-04-11T11:29:32.281424Z",
     "start_time": "2019-04-11T11:29:32.274952Z"
    }
   },
   "outputs": [
    {
     "data": {
      "text/plain": [
       "torch.Size([3, 2])"
      ]
     },
     "execution_count": 45,
     "metadata": {},
     "output_type": "execute_result"
    }
   ],
   "source": [
    "# We will obtain the same result by using `shape`\n",
    "d.shape"
   ]
  },
  {
   "cell_type": "markdown",
   "metadata": {},
   "source": [
    "$[3,2]$ indicates the size of the tensor along each of its 2 dimensions"
   ]
  },
  {
   "cell_type": "code",
   "execution_count": 46,
   "metadata": {
    "ExecuteTime": {
     "end_time": "2019-04-11T11:29:32.291958Z",
     "start_time": "2019-04-11T11:29:32.285329Z"
    }
   },
   "outputs": [
    {
     "data": {
      "text/plain": [
       "tensor([1., 4.])"
      ]
     },
     "execution_count": 46,
     "metadata": {},
     "output_type": "execute_result"
    }
   ],
   "source": [
    "# Using the 0th-dimension index to get the 1st dimension of the 2-D tensor. \n",
    "# Note that this is not a new tensor; this is just a different (partial) view of the original tensor\n",
    "d[0]"
   ]
  },
  {
   "cell_type": "code",
   "execution_count": 47,
   "metadata": {
    "ExecuteTime": {
     "end_time": "2019-04-11T11:29:32.309339Z",
     "start_time": "2019-04-11T11:29:32.296295Z"
    }
   },
   "outputs": [
    {
     "data": {
      "text/plain": [
       "tensor([[1., 4.],\n",
       "        [2., 1.],\n",
       "        [3., 5.]])"
      ]
     },
     "execution_count": 47,
     "metadata": {},
     "output_type": "execute_result"
    }
   ],
   "source": [
    "d"
   ]
  },
  {
   "cell_type": "code",
   "execution_count": 146,
   "metadata": {
    "ExecuteTime": {
     "end_time": "2019-04-11T11:38:14.138412Z",
     "start_time": "2019-04-11T11:38:14.129270Z"
    }
   },
   "outputs": [
    {
     "data": {
      "text/plain": [
       " 1.0\n",
       " 4.0\n",
       " 2.0\n",
       " 1.0\n",
       " 3.0\n",
       " 5.0\n",
       "[torch.FloatStorage of size 6]"
      ]
     },
     "execution_count": 146,
     "metadata": {},
     "output_type": "execute_result"
    }
   ],
   "source": [
    "d.storage()"
   ]
  },
  {
   "cell_type": "code",
   "execution_count": 49,
   "metadata": {
    "ExecuteTime": {
     "end_time": "2019-04-11T11:29:32.329904Z",
     "start_time": "2019-04-11T11:29:32.321624Z"
    }
   },
   "outputs": [],
   "source": [
    "e = torch.tensor([[[1.0, 3.0],\n",
    "                   [5.0, 7.0]],\n",
    "                  [[2.0, 4.0],\n",
    "                   [6.0, 8.0]],\n",
    "                 ])"
   ]
  },
  {
   "cell_type": "code",
   "execution_count": 50,
   "metadata": {
    "ExecuteTime": {
     "end_time": "2019-04-11T11:29:32.344002Z",
     "start_time": "2019-04-11T11:29:32.337484Z"
    }
   },
   "outputs": [
    {
     "data": {
      "text/plain": [
       " 1.0\n",
       " 3.0\n",
       " 5.0\n",
       " 7.0\n",
       " 2.0\n",
       " 4.0\n",
       " 6.0\n",
       " 8.0\n",
       "[torch.FloatStorage of size 8]"
      ]
     },
     "execution_count": 50,
     "metadata": {},
     "output_type": "execute_result"
    }
   ],
   "source": [
    "e.storage()"
   ]
  },
  {
   "cell_type": "code",
   "execution_count": 51,
   "metadata": {
    "ExecuteTime": {
     "end_time": "2019-04-11T11:29:32.352907Z",
     "start_time": "2019-04-11T11:29:32.346269Z"
    }
   },
   "outputs": [
    {
     "data": {
      "text/plain": [
       "torch.Size([2, 2, 2])"
      ]
     },
     "execution_count": 51,
     "metadata": {},
     "output_type": "execute_result"
    }
   ],
   "source": [
    "e.shape"
   ]
  },
  {
   "cell_type": "code",
   "execution_count": 52,
   "metadata": {
    "ExecuteTime": {
     "end_time": "2019-04-11T11:29:32.365004Z",
     "start_time": "2019-04-11T11:29:32.357705Z"
    }
   },
   "outputs": [
    {
     "data": {
      "text/plain": [
       "0"
      ]
     },
     "execution_count": 52,
     "metadata": {},
     "output_type": "execute_result"
    }
   ],
   "source": [
    "e.storage_offset()"
   ]
  },
  {
   "cell_type": "code",
   "execution_count": 53,
   "metadata": {
    "ExecuteTime": {
     "end_time": "2019-04-11T11:29:32.378728Z",
     "start_time": "2019-04-11T11:29:32.368061Z"
    }
   },
   "outputs": [
    {
     "data": {
      "text/plain": [
       "(4, 2, 1)"
      ]
     },
     "execution_count": 53,
     "metadata": {},
     "output_type": "execute_result"
    }
   ],
   "source": [
    "e.stride()"
   ]
  },
  {
   "cell_type": "code",
   "execution_count": 54,
   "metadata": {
    "ExecuteTime": {
     "end_time": "2019-04-11T11:29:32.389536Z",
     "start_time": "2019-04-11T11:29:32.382114Z"
    }
   },
   "outputs": [
    {
     "data": {
      "text/plain": [
       "torch.Size([2, 2, 2])"
      ]
     },
     "execution_count": 54,
     "metadata": {},
     "output_type": "execute_result"
    }
   ],
   "source": [
    "e.size()"
   ]
  },
  {
   "cell_type": "code",
   "execution_count": 55,
   "metadata": {
    "ExecuteTime": {
     "end_time": "2019-04-11T11:29:32.399122Z",
     "start_time": "2019-04-11T11:29:32.394267Z"
    }
   },
   "outputs": [],
   "source": [
    "points = torch.tensor([[1.0, 4.0], [2.0, 1.0], [3.0, 5.0]])"
   ]
  },
  {
   "cell_type": "code",
   "execution_count": 56,
   "metadata": {
    "ExecuteTime": {
     "end_time": "2019-04-11T11:29:32.411024Z",
     "start_time": "2019-04-11T11:29:32.402507Z"
    }
   },
   "outputs": [
    {
     "data": {
      "text/plain": [
       "tensor([[1., 4.],\n",
       "        [2., 1.],\n",
       "        [3., 5.]])"
      ]
     },
     "execution_count": 56,
     "metadata": {},
     "output_type": "execute_result"
    }
   ],
   "source": [
    "points"
   ]
  },
  {
   "cell_type": "code",
   "execution_count": 57,
   "metadata": {
    "ExecuteTime": {
     "end_time": "2019-04-11T11:29:32.419901Z",
     "start_time": "2019-04-11T11:29:32.414245Z"
    }
   },
   "outputs": [
    {
     "data": {
      "text/plain": [
       "torch.Size([3, 2])"
      ]
     },
     "execution_count": 57,
     "metadata": {},
     "output_type": "execute_result"
    }
   ],
   "source": [
    "points.size()"
   ]
  },
  {
   "cell_type": "code",
   "execution_count": 58,
   "metadata": {
    "ExecuteTime": {
     "end_time": "2019-04-11T11:29:32.429454Z",
     "start_time": "2019-04-11T11:29:32.423689Z"
    }
   },
   "outputs": [
    {
     "data": {
      "text/plain": [
       "(2, 1)"
      ]
     },
     "execution_count": 58,
     "metadata": {},
     "output_type": "execute_result"
    }
   ],
   "source": [
    "points.stride()"
   ]
  },
  {
   "cell_type": "code",
   "execution_count": 59,
   "metadata": {
    "ExecuteTime": {
     "end_time": "2019-04-11T11:29:32.443921Z",
     "start_time": "2019-04-11T11:29:32.435837Z"
    }
   },
   "outputs": [
    {
     "data": {
      "text/plain": [
       " 1.0\n",
       " 4.0\n",
       " 2.0\n",
       " 1.0\n",
       " 3.0\n",
       " 5.0\n",
       "[torch.FloatStorage of size 6]"
      ]
     },
     "execution_count": 59,
     "metadata": {},
     "output_type": "execute_result"
    }
   ],
   "source": [
    "points.storage()"
   ]
  },
  {
   "cell_type": "markdown",
   "metadata": {},
   "source": [
    "## Subset a Tensor"
   ]
  },
  {
   "cell_type": "code",
   "execution_count": 60,
   "metadata": {
    "ExecuteTime": {
     "end_time": "2019-04-11T11:29:32.452890Z",
     "start_time": "2019-04-11T11:29:32.446708Z"
    }
   },
   "outputs": [
    {
     "data": {
      "text/plain": [
       "tensor([3., 5.])"
      ]
     },
     "execution_count": 60,
     "metadata": {},
     "output_type": "execute_result"
    }
   ],
   "source": [
    "points[2]"
   ]
  },
  {
   "cell_type": "code",
   "execution_count": 61,
   "metadata": {
    "ExecuteTime": {
     "end_time": "2019-04-11T11:29:32.462211Z",
     "start_time": "2019-04-11T11:29:32.455408Z"
    }
   },
   "outputs": [
    {
     "data": {
      "text/plain": [
       "tensor([[1., 4.],\n",
       "        [2., 1.]])"
      ]
     },
     "execution_count": 61,
     "metadata": {},
     "output_type": "execute_result"
    }
   ],
   "source": [
    "points[:2]"
   ]
  },
  {
   "cell_type": "code",
   "execution_count": 62,
   "metadata": {
    "ExecuteTime": {
     "end_time": "2019-04-11T11:29:32.478920Z",
     "start_time": "2019-04-11T11:29:32.467566Z"
    }
   },
   "outputs": [
    {
     "data": {
      "text/plain": [
       "tensor([[2., 1.],\n",
       "        [3., 5.]])"
      ]
     },
     "execution_count": 62,
     "metadata": {},
     "output_type": "execute_result"
    }
   ],
   "source": [
    "points[1:] # all rows but first, implicitly all columns"
   ]
  },
  {
   "cell_type": "code",
   "execution_count": 63,
   "metadata": {
    "ExecuteTime": {
     "end_time": "2019-04-11T11:29:32.488413Z",
     "start_time": "2019-04-11T11:29:32.482029Z"
    }
   },
   "outputs": [
    {
     "data": {
      "text/plain": [
       "tensor([[2., 1.],\n",
       "        [3., 5.]])"
      ]
     },
     "execution_count": 63,
     "metadata": {},
     "output_type": "execute_result"
    }
   ],
   "source": [
    "points[1:, :] # all rows but first, explicitly all columns"
   ]
  },
  {
   "cell_type": "code",
   "execution_count": 64,
   "metadata": {
    "ExecuteTime": {
     "end_time": "2019-04-11T11:29:32.502126Z",
     "start_time": "2019-04-11T11:29:32.491660Z"
    }
   },
   "outputs": [
    {
     "data": {
      "text/plain": [
       "tensor(1.)"
      ]
     },
     "execution_count": 64,
     "metadata": {},
     "output_type": "execute_result"
    }
   ],
   "source": [
    "points[0,0]"
   ]
  },
  {
   "cell_type": "code",
   "execution_count": 65,
   "metadata": {
    "ExecuteTime": {
     "end_time": "2019-04-11T11:29:32.512554Z",
     "start_time": "2019-04-11T11:29:32.506186Z"
    }
   },
   "outputs": [
    {
     "data": {
      "text/plain": [
       "tensor(4.)"
      ]
     },
     "execution_count": 65,
     "metadata": {},
     "output_type": "execute_result"
    }
   ],
   "source": [
    "points[0,1]"
   ]
  },
  {
   "cell_type": "code",
   "execution_count": 66,
   "metadata": {
    "ExecuteTime": {
     "end_time": "2019-04-11T11:29:32.522419Z",
     "start_time": "2019-04-11T11:29:32.516480Z"
    }
   },
   "outputs": [
    {
     "data": {
      "text/plain": [
       "tensor(2.)"
      ]
     },
     "execution_count": 66,
     "metadata": {},
     "output_type": "execute_result"
    }
   ],
   "source": [
    "points[1,0]"
   ]
  },
  {
   "cell_type": "code",
   "execution_count": 67,
   "metadata": {
    "ExecuteTime": {
     "end_time": "2019-04-11T11:29:32.533779Z",
     "start_time": "2019-04-11T11:29:32.526013Z"
    }
   },
   "outputs": [
    {
     "data": {
      "text/plain": [
       "tensor([1., 4.])"
      ]
     },
     "execution_count": 67,
     "metadata": {},
     "output_type": "execute_result"
    }
   ],
   "source": [
    "points[0]"
   ]
  },
  {
   "cell_type": "markdown",
   "metadata": {},
   "source": [
    "**Note the changing the `sub-tensor` extracted (instead of cloned) from the original will change the original tensor**"
   ]
  },
  {
   "cell_type": "code",
   "execution_count": 68,
   "metadata": {
    "ExecuteTime": {
     "end_time": "2019-04-11T11:29:32.540640Z",
     "start_time": "2019-04-11T11:29:32.536223Z"
    }
   },
   "outputs": [],
   "source": [
    "second_points = points[0]"
   ]
  },
  {
   "cell_type": "code",
   "execution_count": 69,
   "metadata": {
    "ExecuteTime": {
     "end_time": "2019-04-11T11:29:32.553316Z",
     "start_time": "2019-04-11T11:29:32.544496Z"
    }
   },
   "outputs": [
    {
     "data": {
      "text/plain": [
       "tensor([1., 4.])"
      ]
     },
     "execution_count": 69,
     "metadata": {},
     "output_type": "execute_result"
    }
   ],
   "source": [
    "second_points"
   ]
  },
  {
   "cell_type": "code",
   "execution_count": 70,
   "metadata": {
    "ExecuteTime": {
     "end_time": "2019-04-11T11:29:32.564566Z",
     "start_time": "2019-04-11T11:29:32.558316Z"
    }
   },
   "outputs": [],
   "source": [
    "second_points[0] = 100.0"
   ]
  },
  {
   "cell_type": "code",
   "execution_count": 71,
   "metadata": {
    "ExecuteTime": {
     "end_time": "2019-04-11T11:29:32.582976Z",
     "start_time": "2019-04-11T11:29:32.570575Z"
    }
   },
   "outputs": [
    {
     "data": {
      "text/plain": [
       "tensor([[100.,   4.],\n",
       "        [  2.,   1.],\n",
       "        [  3.,   5.]])"
      ]
     },
     "execution_count": 71,
     "metadata": {},
     "output_type": "execute_result"
    }
   ],
   "source": [
    "points"
   ]
  },
  {
   "cell_type": "code",
   "execution_count": 72,
   "metadata": {
    "ExecuteTime": {
     "end_time": "2019-04-11T11:29:32.598898Z",
     "start_time": "2019-04-11T11:29:32.588379Z"
    }
   },
   "outputs": [
    {
     "data": {
      "text/plain": [
       "tensor(100.)"
      ]
     },
     "execution_count": 72,
     "metadata": {},
     "output_type": "execute_result"
    }
   ],
   "source": [
    "points[0,0]"
   ]
  },
  {
   "cell_type": "markdown",
   "metadata": {},
   "source": [
    "**If we don't want to change the original tensure when changing the `sub-tensor`, we will need to clone the sub-tensor from the original**"
   ]
  },
  {
   "cell_type": "code",
   "execution_count": 73,
   "metadata": {
    "ExecuteTime": {
     "end_time": "2019-04-11T11:29:32.607994Z",
     "start_time": "2019-04-11T11:29:32.601996Z"
    }
   },
   "outputs": [],
   "source": [
    "a = torch.tensor([[1.0, 4.0], [2.0, 1.0], [3.0, 5.0]])"
   ]
  },
  {
   "cell_type": "code",
   "execution_count": 74,
   "metadata": {
    "ExecuteTime": {
     "end_time": "2019-04-11T11:29:32.614718Z",
     "start_time": "2019-04-11T11:29:32.610305Z"
    }
   },
   "outputs": [],
   "source": [
    "b = a[0].clone()"
   ]
  },
  {
   "cell_type": "code",
   "execution_count": 75,
   "metadata": {
    "ExecuteTime": {
     "end_time": "2019-04-11T11:29:32.627443Z",
     "start_time": "2019-04-11T11:29:32.618901Z"
    }
   },
   "outputs": [
    {
     "data": {
      "text/plain": [
       "tensor([1., 4.])"
      ]
     },
     "execution_count": 75,
     "metadata": {},
     "output_type": "execute_result"
    }
   ],
   "source": [
    "b"
   ]
  },
  {
   "cell_type": "code",
   "execution_count": 76,
   "metadata": {
    "ExecuteTime": {
     "end_time": "2019-04-11T11:29:32.637816Z",
     "start_time": "2019-04-11T11:29:32.632081Z"
    }
   },
   "outputs": [],
   "source": [
    "b[0] = 100.0"
   ]
  },
  {
   "cell_type": "code",
   "execution_count": 77,
   "metadata": {
    "ExecuteTime": {
     "end_time": "2019-04-11T11:29:32.652025Z",
     "start_time": "2019-04-11T11:29:32.641452Z"
    }
   },
   "outputs": [
    {
     "data": {
      "text/plain": [
       "tensor([[1., 4.],\n",
       "        [2., 1.],\n",
       "        [3., 5.]])"
      ]
     },
     "execution_count": 77,
     "metadata": {},
     "output_type": "execute_result"
    }
   ],
   "source": [
    "a"
   ]
  },
  {
   "cell_type": "code",
   "execution_count": 78,
   "metadata": {
    "ExecuteTime": {
     "end_time": "2019-04-11T11:29:32.661456Z",
     "start_time": "2019-04-11T11:29:32.654745Z"
    }
   },
   "outputs": [
    {
     "data": {
      "text/plain": [
       "tensor([100.,   4.])"
      ]
     },
     "execution_count": 78,
     "metadata": {},
     "output_type": "execute_result"
    }
   ],
   "source": [
    "b"
   ]
  },
  {
   "cell_type": "markdown",
   "metadata": {},
   "source": [
    "## Transpose a Tensor"
   ]
  },
  {
   "cell_type": "markdown",
   "metadata": {},
   "source": [
    "### Transposing a matrix"
   ]
  },
  {
   "cell_type": "code",
   "execution_count": 79,
   "metadata": {
    "ExecuteTime": {
     "end_time": "2019-04-11T11:29:32.674571Z",
     "start_time": "2019-04-11T11:29:32.666585Z"
    }
   },
   "outputs": [
    {
     "data": {
      "text/plain": [
       "tensor([[1., 4.],\n",
       "        [2., 1.],\n",
       "        [3., 5.]])"
      ]
     },
     "execution_count": 79,
     "metadata": {},
     "output_type": "execute_result"
    }
   ],
   "source": [
    "a"
   ]
  },
  {
   "cell_type": "code",
   "execution_count": 80,
   "metadata": {
    "ExecuteTime": {
     "end_time": "2019-04-11T11:29:32.681494Z",
     "start_time": "2019-04-11T11:29:32.677805Z"
    }
   },
   "outputs": [],
   "source": [
    "a_t = a.t()"
   ]
  },
  {
   "cell_type": "code",
   "execution_count": 81,
   "metadata": {
    "ExecuteTime": {
     "end_time": "2019-04-11T11:29:32.693876Z",
     "start_time": "2019-04-11T11:29:32.685119Z"
    }
   },
   "outputs": [
    {
     "data": {
      "text/plain": [
       "tensor([[1., 2., 3.],\n",
       "        [4., 1., 5.]])"
      ]
     },
     "execution_count": 81,
     "metadata": {},
     "output_type": "execute_result"
    }
   ],
   "source": [
    "a_t"
   ]
  },
  {
   "cell_type": "code",
   "execution_count": 82,
   "metadata": {
    "ExecuteTime": {
     "end_time": "2019-04-11T11:29:32.711531Z",
     "start_time": "2019-04-11T11:29:32.704387Z"
    }
   },
   "outputs": [
    {
     "data": {
      "text/plain": [
       " 1.0\n",
       " 4.0\n",
       " 2.0\n",
       " 1.0\n",
       " 3.0\n",
       " 5.0\n",
       "[torch.FloatStorage of size 6]"
      ]
     },
     "execution_count": 82,
     "metadata": {},
     "output_type": "execute_result"
    }
   ],
   "source": [
    "a.storage()"
   ]
  },
  {
   "cell_type": "code",
   "execution_count": 83,
   "metadata": {
    "ExecuteTime": {
     "end_time": "2019-04-11T11:29:32.724140Z",
     "start_time": "2019-04-11T11:29:32.715680Z"
    }
   },
   "outputs": [
    {
     "data": {
      "text/plain": [
       " 1.0\n",
       " 4.0\n",
       " 2.0\n",
       " 1.0\n",
       " 3.0\n",
       " 5.0\n",
       "[torch.FloatStorage of size 6]"
      ]
     },
     "execution_count": 83,
     "metadata": {},
     "output_type": "execute_result"
    }
   ],
   "source": [
    "a_t.storage()"
   ]
  },
  {
   "cell_type": "markdown",
   "metadata": {},
   "source": [
    "**Transposing a tensor does not change its storage**"
   ]
  },
  {
   "cell_type": "code",
   "execution_count": 84,
   "metadata": {
    "ExecuteTime": {
     "end_time": "2019-04-11T11:29:32.736772Z",
     "start_time": "2019-04-11T11:29:32.727384Z"
    }
   },
   "outputs": [
    {
     "data": {
      "text/plain": [
       "True"
      ]
     },
     "execution_count": 84,
     "metadata": {},
     "output_type": "execute_result"
    }
   ],
   "source": [
    "id(a.storage()) == id(a_t.storage())"
   ]
  },
  {
   "cell_type": "markdown",
   "metadata": {},
   "source": [
    "### Transposing a Multi-Dimensional Array"
   ]
  },
  {
   "cell_type": "code",
   "execution_count": 85,
   "metadata": {
    "ExecuteTime": {
     "end_time": "2019-04-11T11:29:32.747333Z",
     "start_time": "2019-04-11T11:29:32.740402Z"
    }
   },
   "outputs": [],
   "source": [
    "A = torch.ones(3, 4, 5)"
   ]
  },
  {
   "cell_type": "code",
   "execution_count": 86,
   "metadata": {
    "ExecuteTime": {
     "end_time": "2019-04-11T11:29:32.760001Z",
     "start_time": "2019-04-11T11:29:32.750434Z"
    }
   },
   "outputs": [
    {
     "data": {
      "text/plain": [
       "tensor([[[1., 1., 1., 1., 1.],\n",
       "         [1., 1., 1., 1., 1.],\n",
       "         [1., 1., 1., 1., 1.],\n",
       "         [1., 1., 1., 1., 1.]],\n",
       "\n",
       "        [[1., 1., 1., 1., 1.],\n",
       "         [1., 1., 1., 1., 1.],\n",
       "         [1., 1., 1., 1., 1.],\n",
       "         [1., 1., 1., 1., 1.]],\n",
       "\n",
       "        [[1., 1., 1., 1., 1.],\n",
       "         [1., 1., 1., 1., 1.],\n",
       "         [1., 1., 1., 1., 1.],\n",
       "         [1., 1., 1., 1., 1.]]])"
      ]
     },
     "execution_count": 86,
     "metadata": {},
     "output_type": "execute_result"
    }
   ],
   "source": [
    "A"
   ]
  },
  {
   "cell_type": "markdown",
   "metadata": {},
   "source": [
    "To transpose a multi-dimensional array, the dimension along which the tanspose is performed needs to be specified"
   ]
  },
  {
   "cell_type": "code",
   "execution_count": 87,
   "metadata": {
    "ExecuteTime": {
     "end_time": "2019-04-11T11:29:32.778320Z",
     "start_time": "2019-04-11T11:29:32.765733Z"
    }
   },
   "outputs": [],
   "source": [
    "A_t = A.transpose(0,2)"
   ]
  },
  {
   "cell_type": "code",
   "execution_count": 88,
   "metadata": {
    "ExecuteTime": {
     "end_time": "2019-04-11T11:29:32.793198Z",
     "start_time": "2019-04-11T11:29:32.784055Z"
    }
   },
   "outputs": [
    {
     "data": {
      "text/plain": [
       "torch.Size([3, 4, 5])"
      ]
     },
     "execution_count": 88,
     "metadata": {},
     "output_type": "execute_result"
    }
   ],
   "source": [
    "A.size()"
   ]
  },
  {
   "cell_type": "code",
   "execution_count": 89,
   "metadata": {
    "ExecuteTime": {
     "end_time": "2019-04-11T11:29:32.815398Z",
     "start_time": "2019-04-11T11:29:32.799836Z"
    }
   },
   "outputs": [
    {
     "data": {
      "text/plain": [
       "torch.Size([5, 4, 3])"
      ]
     },
     "execution_count": 89,
     "metadata": {},
     "output_type": "execute_result"
    }
   ],
   "source": [
    "A_t.size()"
   ]
  },
  {
   "cell_type": "code",
   "execution_count": 90,
   "metadata": {
    "ExecuteTime": {
     "end_time": "2019-04-11T11:29:32.838155Z",
     "start_time": "2019-04-11T11:29:32.820193Z"
    }
   },
   "outputs": [
    {
     "data": {
      "text/plain": [
       "(20, 5, 1)"
      ]
     },
     "execution_count": 90,
     "metadata": {},
     "output_type": "execute_result"
    }
   ],
   "source": [
    "A.stride()"
   ]
  },
  {
   "cell_type": "code",
   "execution_count": 91,
   "metadata": {
    "ExecuteTime": {
     "end_time": "2019-04-11T11:29:32.855681Z",
     "start_time": "2019-04-11T11:29:32.844253Z"
    }
   },
   "outputs": [
    {
     "data": {
      "text/plain": [
       "(1, 5, 20)"
      ]
     },
     "execution_count": 91,
     "metadata": {},
     "output_type": "execute_result"
    }
   ],
   "source": [
    "A_t.stride()"
   ]
  },
  {
   "cell_type": "markdown",
   "metadata": {},
   "source": [
    "### Contiguous Tensors"
   ]
  },
  {
   "cell_type": "markdown",
   "metadata": {},
   "source": [
    "A tensor whose values are laid out in the storage starting from the **right-most dimension** onwards (i.e. moving along rows for a 2D tensor), is defined as contiguous"
   ]
  },
  {
   "cell_type": "code",
   "execution_count": 92,
   "metadata": {
    "ExecuteTime": {
     "end_time": "2019-04-11T11:29:32.872545Z",
     "start_time": "2019-04-11T11:29:32.860568Z"
    }
   },
   "outputs": [
    {
     "data": {
      "text/plain": [
       "tensor([[1., 4.],\n",
       "        [2., 1.],\n",
       "        [3., 5.]])"
      ]
     },
     "execution_count": 92,
     "metadata": {},
     "output_type": "execute_result"
    }
   ],
   "source": [
    "a"
   ]
  },
  {
   "cell_type": "code",
   "execution_count": 93,
   "metadata": {
    "ExecuteTime": {
     "end_time": "2019-04-11T11:29:32.885296Z",
     "start_time": "2019-04-11T11:29:32.878757Z"
    }
   },
   "outputs": [
    {
     "data": {
      "text/plain": [
       "True"
      ]
     },
     "execution_count": 93,
     "metadata": {},
     "output_type": "execute_result"
    }
   ],
   "source": [
    "a.is_contiguous()"
   ]
  },
  {
   "cell_type": "code",
   "execution_count": 94,
   "metadata": {
    "ExecuteTime": {
     "end_time": "2019-04-11T11:29:32.897570Z",
     "start_time": "2019-04-11T11:29:32.888734Z"
    }
   },
   "outputs": [
    {
     "data": {
      "text/plain": [
       " 1.0\n",
       " 4.0\n",
       " 2.0\n",
       " 1.0\n",
       " 3.0\n",
       " 5.0\n",
       "[torch.FloatStorage of size 6]"
      ]
     },
     "execution_count": 94,
     "metadata": {},
     "output_type": "execute_result"
    }
   ],
   "source": [
    "a.storage()"
   ]
  },
  {
   "cell_type": "markdown",
   "metadata": {},
   "source": [
    "### Tensor Data Type"
   ]
  },
  {
   "cell_type": "code",
   "execution_count": 95,
   "metadata": {
    "ExecuteTime": {
     "end_time": "2019-04-11T11:29:32.910374Z",
     "start_time": "2019-04-11T11:29:32.902516Z"
    }
   },
   "outputs": [
    {
     "data": {
      "text/plain": [
       "torch.float32"
      ]
     },
     "execution_count": 95,
     "metadata": {},
     "output_type": "execute_result"
    }
   ],
   "source": [
    "a.dtype"
   ]
  },
  {
   "cell_type": "code",
   "execution_count": 96,
   "metadata": {
    "ExecuteTime": {
     "end_time": "2019-04-11T11:29:32.920126Z",
     "start_time": "2019-04-11T11:29:32.913579Z"
    }
   },
   "outputs": [
    {
     "data": {
      "text/plain": [
       "torch.float32"
      ]
     },
     "execution_count": 96,
     "metadata": {},
     "output_type": "execute_result"
    }
   ],
   "source": [
    "A.dtype"
   ]
  },
  {
   "cell_type": "markdown",
   "metadata": {},
   "source": [
    "### Explicitly Specifying a Tensor Type During Creation"
   ]
  },
  {
   "cell_type": "code",
   "execution_count": 97,
   "metadata": {
    "ExecuteTime": {
     "end_time": "2019-04-11T11:29:32.932555Z",
     "start_time": "2019-04-11T11:29:32.923782Z"
    }
   },
   "outputs": [
    {
     "data": {
      "text/plain": [
       "tensor([[0., 0.],\n",
       "        [0., 0.],\n",
       "        [0., 0.]], dtype=torch.float64)"
      ]
     },
     "execution_count": 97,
     "metadata": {},
     "output_type": "execute_result"
    }
   ],
   "source": [
    "torch.zeros(3,2).double()"
   ]
  },
  {
   "cell_type": "code",
   "execution_count": 98,
   "metadata": {
    "ExecuteTime": {
     "end_time": "2019-04-11T11:29:32.947819Z",
     "start_time": "2019-04-11T11:29:32.937477Z"
    }
   },
   "outputs": [
    {
     "data": {
      "text/plain": [
       "tensor([[0., 0., 0.],\n",
       "        [0., 0., 0.]], dtype=torch.float64)"
      ]
     },
     "execution_count": 98,
     "metadata": {},
     "output_type": "execute_result"
    }
   ],
   "source": [
    "torch.zeros(2,3).to(torch.double)"
   ]
  },
  {
   "cell_type": "markdown",
   "metadata": {},
   "source": [
    "### Type Casting"
   ]
  },
  {
   "cell_type": "code",
   "execution_count": 99,
   "metadata": {
    "ExecuteTime": {
     "end_time": "2019-04-11T11:29:32.958373Z",
     "start_time": "2019-04-11T11:29:32.952136Z"
    }
   },
   "outputs": [],
   "source": [
    "random_nums = torch.randn(10, 1)\n",
    "random_nums_short = random_nums.type(torch.short)"
   ]
  },
  {
   "cell_type": "code",
   "execution_count": 100,
   "metadata": {
    "ExecuteTime": {
     "end_time": "2019-04-11T11:29:32.979319Z",
     "start_time": "2019-04-11T11:29:32.961139Z"
    }
   },
   "outputs": [
    {
     "data": {
      "text/plain": [
       "torch.float32"
      ]
     },
     "execution_count": 100,
     "metadata": {},
     "output_type": "execute_result"
    }
   ],
   "source": [
    "random_nums.dtype"
   ]
  },
  {
   "cell_type": "code",
   "execution_count": 101,
   "metadata": {
    "ExecuteTime": {
     "end_time": "2019-04-11T11:29:32.988977Z",
     "start_time": "2019-04-11T11:29:32.982834Z"
    }
   },
   "outputs": [
    {
     "data": {
      "text/plain": [
       "torch.int16"
      ]
     },
     "execution_count": 101,
     "metadata": {},
     "output_type": "execute_result"
    }
   ],
   "source": [
    "random_nums_short.dtype"
   ]
  },
  {
   "cell_type": "markdown",
   "metadata": {},
   "source": [
    "### NumPy Interoperability"
   ]
  },
  {
   "cell_type": "code",
   "execution_count": 102,
   "metadata": {
    "ExecuteTime": {
     "end_time": "2019-04-11T11:29:33.008072Z",
     "start_time": "2019-04-11T11:29:33.001190Z"
    }
   },
   "outputs": [],
   "source": [
    "x = torch.ones(3,3)"
   ]
  },
  {
   "cell_type": "code",
   "execution_count": 103,
   "metadata": {
    "ExecuteTime": {
     "end_time": "2019-04-11T11:29:33.017588Z",
     "start_time": "2019-04-11T11:29:33.010733Z"
    }
   },
   "outputs": [
    {
     "data": {
      "text/plain": [
       "tensor([[1., 1., 1.],\n",
       "        [1., 1., 1.],\n",
       "        [1., 1., 1.]])"
      ]
     },
     "execution_count": 103,
     "metadata": {},
     "output_type": "execute_result"
    }
   ],
   "source": [
    "x"
   ]
  },
  {
   "cell_type": "code",
   "execution_count": 104,
   "metadata": {
    "ExecuteTime": {
     "end_time": "2019-04-11T11:29:33.025877Z",
     "start_time": "2019-04-11T11:29:33.020616Z"
    }
   },
   "outputs": [],
   "source": [
    "x_np = x.numpy()"
   ]
  },
  {
   "cell_type": "code",
   "execution_count": 105,
   "metadata": {
    "ExecuteTime": {
     "end_time": "2019-04-11T11:29:33.038432Z",
     "start_time": "2019-04-11T11:29:33.029073Z"
    }
   },
   "outputs": [
    {
     "data": {
      "text/plain": [
       "torch.float32"
      ]
     },
     "execution_count": 105,
     "metadata": {},
     "output_type": "execute_result"
    }
   ],
   "source": [
    "x.dtype"
   ]
  },
  {
   "cell_type": "code",
   "execution_count": 106,
   "metadata": {
    "ExecuteTime": {
     "end_time": "2019-04-11T11:29:33.047417Z",
     "start_time": "2019-04-11T11:29:33.041523Z"
    }
   },
   "outputs": [
    {
     "data": {
      "text/plain": [
       "dtype('float32')"
      ]
     },
     "execution_count": 106,
     "metadata": {},
     "output_type": "execute_result"
    }
   ],
   "source": [
    "x_np.dtype"
   ]
  },
  {
   "cell_type": "code",
   "execution_count": 107,
   "metadata": {
    "ExecuteTime": {
     "end_time": "2019-04-11T11:29:33.057317Z",
     "start_time": "2019-04-11T11:29:33.050048Z"
    }
   },
   "outputs": [
    {
     "data": {
      "text/plain": [
       "torch.float32"
      ]
     },
     "execution_count": 107,
     "metadata": {},
     "output_type": "execute_result"
    }
   ],
   "source": [
    "x2 = torch.from_numpy(x_np)\n",
    "x2.dtype"
   ]
  },
  {
   "cell_type": "markdown",
   "metadata": {},
   "source": [
    "### Tensor Serialization "
   ]
  },
  {
   "cell_type": "code",
   "execution_count": 108,
   "metadata": {
    "ExecuteTime": {
     "end_time": "2019-04-11T11:29:33.288451Z",
     "start_time": "2019-04-11T11:29:33.066913Z"
    }
   },
   "outputs": [
    {
     "name": "stderr",
     "output_type": "stream",
     "text": [
      "/Users/jeffrey/anaconda2/envs/dl/lib/python3.6/site-packages/h5py/__init__.py:34: FutureWarning: Conversion of the second argument of issubdtype from `float` to `np.floating` is deprecated. In future, it will be treated as `np.float64 == np.dtype(float).type`.\n",
      "  from ._conv import register_converters as _register_converters\n"
     ]
    }
   ],
   "source": [
    "import h5py"
   ]
  },
  {
   "cell_type": "markdown",
   "metadata": {},
   "source": [
    "**A very powerful feature of HDF5 file format is that it allows for indexing datasets on disk and only access the elements of interest. This feature lets you store huge amounts of numerical data, and easily manipulate that data from NumPy.  For reference, see [h5py](https://www.h5py.org/)**"
   ]
  },
  {
   "cell_type": "code",
   "execution_count": 109,
   "metadata": {
    "ExecuteTime": {
     "end_time": "2019-04-11T11:29:33.317170Z",
     "start_time": "2019-04-11T11:29:33.291805Z"
    }
   },
   "outputs": [],
   "source": [
    "f = h5py.File('ourpoints.hdf5', 'w')\n",
    "dset = f.create_dataset('coords', data=x2.numpy())\n",
    "f.close()"
   ]
  },
  {
   "cell_type": "code",
   "execution_count": 110,
   "metadata": {
    "ExecuteTime": {
     "end_time": "2019-04-11T11:29:33.335268Z",
     "start_time": "2019-04-11T11:29:33.320341Z"
    }
   },
   "outputs": [],
   "source": [
    "f = h5py.File('ourpoints.hdf5', 'r')\n",
    "dset = f['coords']\n",
    "last_x2 = dset[1:]"
   ]
  },
  {
   "cell_type": "code",
   "execution_count": 111,
   "metadata": {
    "ExecuteTime": {
     "end_time": "2019-04-11T11:29:33.347978Z",
     "start_time": "2019-04-11T11:29:33.340900Z"
    }
   },
   "outputs": [
    {
     "data": {
      "text/plain": [
       "array([[1., 1., 1.],\n",
       "       [1., 1., 1.]], dtype=float32)"
      ]
     },
     "execution_count": 111,
     "metadata": {},
     "output_type": "execute_result"
    }
   ],
   "source": [
    "last_x2"
   ]
  },
  {
   "cell_type": "code",
   "execution_count": 112,
   "metadata": {
    "ExecuteTime": {
     "end_time": "2019-04-11T11:29:33.397728Z",
     "start_time": "2019-04-11T11:29:33.350830Z"
    }
   },
   "outputs": [
    {
     "data": {
      "text/plain": [
       "tensor([[1., 1., 1.],\n",
       "        [1., 1., 1.]])"
      ]
     },
     "execution_count": 112,
     "metadata": {},
     "output_type": "execute_result"
    }
   ],
   "source": [
    "# Importantly, we can pass the object and obtain a PyTorch tensor directly\n",
    "\n",
    "f = h5py.File('ourpoints.hdf5', 'r')\n",
    "dset = f['coords']\n",
    "#last_x2 = dset[1:]\n",
    "last_x2 = torch.from_numpy(dset[1:])\n",
    "f.close()\n",
    "last_x2"
   ]
  },
  {
   "cell_type": "markdown",
   "metadata": {},
   "source": [
    "### Tensors on GPU"
   ]
  },
  {
   "cell_type": "markdown",
   "metadata": {},
   "source": [
    "We will discuss more about this in the last section of the course"
   ]
  },
  {
   "cell_type": "markdown",
   "metadata": {},
   "source": [
    "```python\n",
    "   matrix_gpu = torch.tensor([[1.0, 4.0], [2.0, 1.0], [3.0, 4.0]], device='cuda')\n",
    "   # transfer a tensor created on the CPU onto GPU using the to method \n",
    "   x2_gpu = x2.to(device='cuda') \n",
    "    \n",
    "   points_gpu = points.to(device='cuda:0') \n",
    "```\n",
    "\n",
    "CPU vs. GPU Performance Comparison \n",
    "```python\n",
    "a = torch.rand(10000,10000)\n",
    "b = torch.rand(10000,10000)\n",
    "a.matmul(b)\n",
    "\n",
    "#Move the tensors to GPU\n",
    "a = a.cuda()\n",
    "b = b.cuda()\n",
    "a.matmul(b)\n",
    "\n",
    "```"
   ]
  },
  {
   "cell_type": "markdown",
   "metadata": {},
   "source": [
    "# Gradient Computation"
   ]
  },
  {
   "cell_type": "markdown",
   "metadata": {},
   "source": [
    "Partial derivative of a function of several variables:\n",
    "\n",
    "$$ \\frac{\\partial f(x_1, x_2, \\dots, x_p)}{\\partial x_i} |_{\\text{other variables constant}}$$"
   ]
  },
  {
   "cell_type": "markdown",
   "metadata": {},
   "source": [
    "* `torch.Tensor`\n",
    "\n",
    "* `torch.autograd` is an engine for computing vector-Jacobian product\n",
    "\n",
    "* `.requires_grad`\n",
    "\n",
    "* `.backward()`\n",
    "\n",
    "* `.grad`\n",
    "\n",
    "* `.detach()`\n",
    "\n",
    "* `with torch.no_grad()`\n",
    "\n",
    "* `Function`\n",
    "\n",
    "* `Tensor` and `Function` are connected and build up an acyclic graph, that encodes a complete history of computation."
   ]
  },
  {
   "cell_type": "markdown",
   "metadata": {},
   "source": [
    "Let's look at a couple of examples:"
   ]
  },
  {
   "cell_type": "markdown",
   "metadata": {
    "ExecuteTime": {
     "end_time": "2019-04-01T04:17:41.830974Z",
     "start_time": "2019-04-01T04:17:41.826578Z"
    }
   },
   "source": [
    "Example 1"
   ]
  },
  {
   "cell_type": "markdown",
   "metadata": {},
   "source": [
    "1. Create a variable and set `.requires_grad` to True"
   ]
  },
  {
   "cell_type": "code",
   "execution_count": 113,
   "metadata": {
    "ExecuteTime": {
     "end_time": "2019-04-11T11:29:33.406356Z",
     "start_time": "2019-04-11T11:29:33.400386Z"
    }
   },
   "outputs": [],
   "source": [
    "import torch\n",
    "x = torch.ones(5,requires_grad=True)\n",
    "\n",
    "#from torch.autograd import Variable\n",
    "#x = Variable(torch.ones(5),requires_grad=True)"
   ]
  },
  {
   "cell_type": "code",
   "execution_count": 114,
   "metadata": {
    "ExecuteTime": {
     "end_time": "2019-04-11T11:29:33.417053Z",
     "start_time": "2019-04-11T11:29:33.408845Z"
    }
   },
   "outputs": [
    {
     "data": {
      "text/plain": [
       "tensor([1., 1., 1., 1., 1.], requires_grad=True)"
      ]
     },
     "execution_count": 114,
     "metadata": {},
     "output_type": "execute_result"
    }
   ],
   "source": [
    "x"
   ]
  },
  {
   "cell_type": "code",
   "execution_count": 115,
   "metadata": {
    "ExecuteTime": {
     "end_time": "2019-04-11T11:29:33.427653Z",
     "start_time": "2019-04-11T11:29:33.420036Z"
    }
   },
   "outputs": [
    {
     "data": {
      "text/plain": [
       "<function Tensor.type>"
      ]
     },
     "execution_count": 115,
     "metadata": {},
     "output_type": "execute_result"
    }
   ],
   "source": [
    "x.type"
   ]
  },
  {
   "cell_type": "code",
   "execution_count": 116,
   "metadata": {
    "ExecuteTime": {
     "end_time": "2019-04-11T11:29:33.438431Z",
     "start_time": "2019-04-11T11:29:33.431854Z"
    }
   },
   "outputs": [],
   "source": [
    "x.grad"
   ]
  },
  {
   "cell_type": "markdown",
   "metadata": {},
   "source": [
    "Note that at this point, `x.grad` does not output anything because there is no operation performed on the tensor `x` yet. However, let's create another tensor `y` by performing a few operations (i.e. taking the mean) on the original tensor `x`."
   ]
  },
  {
   "cell_type": "code",
   "execution_count": 117,
   "metadata": {
    "ExecuteTime": {
     "end_time": "2019-04-11T11:29:33.446686Z",
     "start_time": "2019-04-11T11:29:33.440901Z"
    }
   },
   "outputs": [],
   "source": [
    "y = x + 2\n",
    "z = y.mean()"
   ]
  },
  {
   "cell_type": "code",
   "execution_count": 118,
   "metadata": {
    "ExecuteTime": {
     "end_time": "2019-04-11T11:29:33.456583Z",
     "start_time": "2019-04-11T11:29:33.449916Z"
    }
   },
   "outputs": [
    {
     "data": {
      "text/plain": [
       "<function Tensor.type>"
      ]
     },
     "execution_count": 118,
     "metadata": {},
     "output_type": "execute_result"
    }
   ],
   "source": [
    "z.type"
   ]
  },
  {
   "cell_type": "code",
   "execution_count": 119,
   "metadata": {
    "ExecuteTime": {
     "end_time": "2019-04-11T11:29:33.470709Z",
     "start_time": "2019-04-11T11:29:33.460308Z"
    }
   },
   "outputs": [
    {
     "data": {
      "text/plain": [
       "tensor(3., grad_fn=<MeanBackward1>)"
      ]
     },
     "execution_count": 119,
     "metadata": {},
     "output_type": "execute_result"
    }
   ],
   "source": [
    "z"
   ]
  },
  {
   "cell_type": "code",
   "execution_count": 120,
   "metadata": {
    "ExecuteTime": {
     "end_time": "2019-04-11T11:29:33.482575Z",
     "start_time": "2019-04-11T11:29:33.474854Z"
    }
   },
   "outputs": [
    {
     "data": {
      "text/plain": [
       "tensor([0.2000, 0.2000, 0.2000, 0.2000, 0.2000])"
      ]
     },
     "execution_count": 120,
     "metadata": {},
     "output_type": "execute_result"
    }
   ],
   "source": [
    "z.backward()\n",
    "x.grad"
   ]
  },
  {
   "cell_type": "code",
   "execution_count": 121,
   "metadata": {
    "ExecuteTime": {
     "end_time": "2019-04-11T11:29:33.490354Z",
     "start_time": "2019-04-11T11:29:33.485864Z"
    }
   },
   "outputs": [],
   "source": [
    "x.grad_fn"
   ]
  },
  {
   "cell_type": "code",
   "execution_count": 122,
   "metadata": {
    "ExecuteTime": {
     "end_time": "2019-04-11T11:29:33.501959Z",
     "start_time": "2019-04-11T11:29:33.494304Z"
    }
   },
   "outputs": [
    {
     "data": {
      "text/plain": [
       "tensor([1., 1., 1., 1., 1.])"
      ]
     },
     "execution_count": 122,
     "metadata": {},
     "output_type": "execute_result"
    }
   ],
   "source": [
    "x.data"
   ]
  },
  {
   "cell_type": "code",
   "execution_count": 123,
   "metadata": {
    "ExecuteTime": {
     "end_time": "2019-04-11T11:29:33.514155Z",
     "start_time": "2019-04-11T11:29:33.506444Z"
    }
   },
   "outputs": [
    {
     "data": {
      "text/plain": [
       "<AddBackward0 at 0x10c24b898>"
      ]
     },
     "execution_count": 123,
     "metadata": {},
     "output_type": "execute_result"
    }
   ],
   "source": [
    "y.grad_fn"
   ]
  },
  {
   "cell_type": "code",
   "execution_count": 124,
   "metadata": {
    "ExecuteTime": {
     "end_time": "2019-04-11T11:29:33.525243Z",
     "start_time": "2019-04-11T11:29:33.517111Z"
    }
   },
   "outputs": [
    {
     "data": {
      "text/plain": [
       "<MeanBackward1 at 0x10c24b9b0>"
      ]
     },
     "execution_count": 124,
     "metadata": {},
     "output_type": "execute_result"
    }
   ],
   "source": [
    "z.grad_fn"
   ]
  },
  {
   "cell_type": "markdown",
   "metadata": {
    "ExecuteTime": {
     "end_time": "2019-04-01T03:46:19.809686Z",
     "start_time": "2019-04-01T03:46:19.804980Z"
    }
   },
   "source": [
    "Example 2"
   ]
  },
  {
   "cell_type": "code",
   "execution_count": 125,
   "metadata": {
    "ExecuteTime": {
     "end_time": "2019-04-11T11:29:33.535585Z",
     "start_time": "2019-04-11T11:29:33.528580Z"
    }
   },
   "outputs": [],
   "source": [
    "x = torch.ones(2, 2, requires_grad=True)\n",
    "y = x + 5\n",
    "z = 2 * y * y  # 2*(x+5)^2\n",
    "h = z.mean()"
   ]
  },
  {
   "cell_type": "code",
   "execution_count": 126,
   "metadata": {
    "ExecuteTime": {
     "end_time": "2019-04-11T11:29:33.547395Z",
     "start_time": "2019-04-11T11:29:33.538984Z"
    }
   },
   "outputs": [
    {
     "data": {
      "text/plain": [
       "tensor([[72., 72.],\n",
       "        [72., 72.]], grad_fn=<MulBackward0>)"
      ]
     },
     "execution_count": 126,
     "metadata": {},
     "output_type": "execute_result"
    }
   ],
   "source": [
    "z"
   ]
  },
  {
   "cell_type": "code",
   "execution_count": 127,
   "metadata": {
    "ExecuteTime": {
     "end_time": "2019-04-11T11:29:33.557543Z",
     "start_time": "2019-04-11T11:29:33.550502Z"
    }
   },
   "outputs": [
    {
     "data": {
      "text/plain": [
       "torch.Size([2, 2])"
      ]
     },
     "execution_count": 127,
     "metadata": {},
     "output_type": "execute_result"
    }
   ],
   "source": [
    "z.shape"
   ]
  },
  {
   "cell_type": "code",
   "execution_count": 128,
   "metadata": {
    "ExecuteTime": {
     "end_time": "2019-04-11T11:29:33.573284Z",
     "start_time": "2019-04-11T11:29:33.561798Z"
    }
   },
   "outputs": [
    {
     "data": {
      "text/plain": [
       "torch.Size([])"
      ]
     },
     "execution_count": 128,
     "metadata": {},
     "output_type": "execute_result"
    }
   ],
   "source": [
    "h.shape"
   ]
  },
  {
   "cell_type": "code",
   "execution_count": 129,
   "metadata": {
    "ExecuteTime": {
     "end_time": "2019-04-11T11:29:33.585880Z",
     "start_time": "2019-04-11T11:29:33.577968Z"
    }
   },
   "outputs": [
    {
     "data": {
      "text/plain": [
       "tensor(72., grad_fn=<MeanBackward1>)"
      ]
     },
     "execution_count": 129,
     "metadata": {},
     "output_type": "execute_result"
    }
   ],
   "source": [
    "h"
   ]
  },
  {
   "cell_type": "code",
   "execution_count": 130,
   "metadata": {
    "ExecuteTime": {
     "end_time": "2019-04-11T11:29:33.596381Z",
     "start_time": "2019-04-11T11:29:33.589088Z"
    }
   },
   "outputs": [],
   "source": [
    "h.backward()"
   ]
  },
  {
   "cell_type": "code",
   "execution_count": 131,
   "metadata": {
    "ExecuteTime": {
     "end_time": "2019-04-11T11:29:33.612458Z",
     "start_time": "2019-04-11T11:29:33.606896Z"
    }
   },
   "outputs": [
    {
     "name": "stdout",
     "output_type": "stream",
     "text": [
      "tensor([[6., 6.],\n",
      "        [6., 6.]])\n"
     ]
    }
   ],
   "source": [
    "print(x.grad)"
   ]
  },
  {
   "cell_type": "code",
   "execution_count": 132,
   "metadata": {
    "ExecuteTime": {
     "end_time": "2019-04-11T11:29:33.626014Z",
     "start_time": "2019-04-11T11:29:33.617921Z"
    }
   },
   "outputs": [
    {
     "data": {
      "text/plain": [
       "tensor([[1., 1.],\n",
       "        [1., 1.]], requires_grad=True)"
      ]
     },
     "execution_count": 132,
     "metadata": {},
     "output_type": "execute_result"
    }
   ],
   "source": [
    "x"
   ]
  },
  {
   "cell_type": "code",
   "execution_count": null,
   "metadata": {
    "ExecuteTime": {
     "end_time": "2019-04-01T03:44:34.884072Z",
     "start_time": "2019-04-01T03:44:34.877649Z"
    }
   },
   "outputs": [],
   "source": []
  },
  {
   "cell_type": "code",
   "execution_count": null,
   "metadata": {},
   "outputs": [],
   "source": []
  },
  {
   "cell_type": "markdown",
   "metadata": {},
   "source": [
    "# Some notations on a simple feed-forward network"
   ]
  },
  {
   "cell_type": "markdown",
   "metadata": {},
   "source": [
    "## A Simple Neural Network Architeture"
   ]
  },
  {
   "cell_type": "markdown",
   "metadata": {},
   "source": [
    "The input layer contains $d$ nodes that transmit the $d$ features $\\mathbf{X} = \\{x_1, \\dots, x_d, 1 \\}$ with edges of weights $\\mathbf{W} = \\{w_1, \\dots, w_d, b \\}$ to an output node.\n",
    "\n",
    "Linear function (or linear mapping of data): $\\mathbf{W} \\cdot \\mathbf{X} + b = b + \\sum_{i=1}^d w_i x_i $\n",
    "\n",
    "$ y = b + \\sum_{i=1}^d w_i x_i $ where $w$'s and $b$ are parameters to be learned"
   ]
  },
  {
   "cell_type": "code",
   "execution_count": null,
   "metadata": {},
   "outputs": [],
   "source": []
  },
  {
   "cell_type": "code",
   "execution_count": null,
   "metadata": {},
   "outputs": [],
   "source": []
  },
  {
   "cell_type": "code",
   "execution_count": null,
   "metadata": {},
   "outputs": [],
   "source": []
  },
  {
   "cell_type": "markdown",
   "metadata": {
    "heading_collapsed": true
   },
   "source": [
    "## Create data"
   ]
  },
  {
   "cell_type": "code",
   "execution_count": 133,
   "metadata": {
    "ExecuteTime": {
     "end_time": "2019-04-11T11:29:33.646750Z",
     "start_time": "2019-04-11T11:29:33.630483Z"
    },
    "hidden": true
   },
   "outputs": [],
   "source": [
    "def get_data():\n",
    "    train_X = np.asarray([3.3,4.4,5.5,6.71,6.93,4.168,9.779,6.182,7.59,2.167,\n",
    "                          7.042,10.791,5.313,7.997,5.654,9.27,3.1])\n",
    "    train_Y = np.asarray([1.7,2.76,2.09,3.19,1.694,1.573,3.366,2.596,2.53,1.221,\n",
    "                          2.827,3.465,1.65,2.904,2.42,2.94,1.3])\n",
    "    dtype = torch.FloatTensor\n",
    "    X = Variable(torch.from_numpy(train_X).type(dtype),requires_grad=False).view(17 ,1)\n",
    "    y = Variable(torch.from_numpy(train_Y).type(dtype),requires_grad=False)\n",
    "    \n",
    "    return X, y, train_X, train_Y"
   ]
  },
  {
   "cell_type": "markdown",
   "metadata": {
    "heading_collapsed": true
   },
   "source": [
    "## Create (and Initialize) parameters"
   ]
  },
  {
   "cell_type": "code",
   "execution_count": 134,
   "metadata": {
    "ExecuteTime": {
     "end_time": "2019-04-11T11:29:33.657470Z",
     "start_time": "2019-04-11T11:29:33.650227Z"
    },
    "hidden": true
   },
   "outputs": [],
   "source": [
    "def get_weights():\n",
    "    w = Variable(torch.randn(1),requires_grad = True)\n",
    "    b = Variable(torch.randn(1),requires_grad=True)\n",
    "    return w,b"
   ]
  },
  {
   "cell_type": "markdown",
   "metadata": {
    "heading_collapsed": true
   },
   "source": [
    "## Visualize the data"
   ]
  },
  {
   "cell_type": "code",
   "execution_count": 136,
   "metadata": {
    "ExecuteTime": {
     "end_time": "2019-04-11T11:30:03.459027Z",
     "start_time": "2019-04-11T11:30:03.441846Z"
    },
    "hidden": true
   },
   "outputs": [
    {
     "ename": "NameError",
     "evalue": "name 'Variable' is not defined",
     "output_type": "error",
     "traceback": [
      "\u001b[0;31m---------------------------------------------------------------------------\u001b[0m",
      "\u001b[0;31mNameError\u001b[0m                                 Traceback (most recent call last)",
      "\u001b[0;32m<ipython-input-136-c667126bf3c5>\u001b[0m in \u001b[0;36m<module>\u001b[0;34m()\u001b[0m\n\u001b[1;32m      1\u001b[0m \u001b[0;31m# Get the data\u001b[0m\u001b[0;34m\u001b[0m\u001b[0;34m\u001b[0m\u001b[0;34m\u001b[0m\u001b[0m\n\u001b[0;32m----> 2\u001b[0;31m \u001b[0mX\u001b[0m\u001b[0;34m,\u001b[0m \u001b[0my\u001b[0m\u001b[0;34m,\u001b[0m \u001b[0mX_np\u001b[0m\u001b[0;34m,\u001b[0m \u001b[0my_np\u001b[0m \u001b[0;34m=\u001b[0m \u001b[0mget_data\u001b[0m\u001b[0;34m(\u001b[0m\u001b[0;34m)\u001b[0m\u001b[0;34m\u001b[0m\u001b[0;34m\u001b[0m\u001b[0m\n\u001b[0m",
      "\u001b[0;32m<ipython-input-133-74e74fbbc7cb>\u001b[0m in \u001b[0;36mget_data\u001b[0;34m()\u001b[0m\n\u001b[1;32m      5\u001b[0m                           2.827,3.465,1.65,2.904,2.42,2.94,1.3])\n\u001b[1;32m      6\u001b[0m     \u001b[0mdtype\u001b[0m \u001b[0;34m=\u001b[0m \u001b[0mtorch\u001b[0m\u001b[0;34m.\u001b[0m\u001b[0mFloatTensor\u001b[0m\u001b[0;34m\u001b[0m\u001b[0;34m\u001b[0m\u001b[0m\n\u001b[0;32m----> 7\u001b[0;31m     \u001b[0mX\u001b[0m \u001b[0;34m=\u001b[0m \u001b[0mVariable\u001b[0m\u001b[0;34m(\u001b[0m\u001b[0mtorch\u001b[0m\u001b[0;34m.\u001b[0m\u001b[0mfrom_numpy\u001b[0m\u001b[0;34m(\u001b[0m\u001b[0mtrain_X\u001b[0m\u001b[0;34m)\u001b[0m\u001b[0;34m.\u001b[0m\u001b[0mtype\u001b[0m\u001b[0;34m(\u001b[0m\u001b[0mdtype\u001b[0m\u001b[0;34m)\u001b[0m\u001b[0;34m,\u001b[0m\u001b[0mrequires_grad\u001b[0m\u001b[0;34m=\u001b[0m\u001b[0;32mFalse\u001b[0m\u001b[0;34m)\u001b[0m\u001b[0;34m.\u001b[0m\u001b[0mview\u001b[0m\u001b[0;34m(\u001b[0m\u001b[0;36m17\u001b[0m \u001b[0;34m,\u001b[0m\u001b[0;36m1\u001b[0m\u001b[0;34m)\u001b[0m\u001b[0;34m\u001b[0m\u001b[0;34m\u001b[0m\u001b[0m\n\u001b[0m\u001b[1;32m      8\u001b[0m     \u001b[0my\u001b[0m \u001b[0;34m=\u001b[0m \u001b[0mVariable\u001b[0m\u001b[0;34m(\u001b[0m\u001b[0mtorch\u001b[0m\u001b[0;34m.\u001b[0m\u001b[0mfrom_numpy\u001b[0m\u001b[0;34m(\u001b[0m\u001b[0mtrain_Y\u001b[0m\u001b[0;34m)\u001b[0m\u001b[0;34m.\u001b[0m\u001b[0mtype\u001b[0m\u001b[0;34m(\u001b[0m\u001b[0mdtype\u001b[0m\u001b[0;34m)\u001b[0m\u001b[0;34m,\u001b[0m\u001b[0mrequires_grad\u001b[0m\u001b[0;34m=\u001b[0m\u001b[0;32mFalse\u001b[0m\u001b[0;34m)\u001b[0m\u001b[0;34m\u001b[0m\u001b[0;34m\u001b[0m\u001b[0m\n\u001b[1;32m      9\u001b[0m \u001b[0;34m\u001b[0m\u001b[0m\n",
      "\u001b[0;31mNameError\u001b[0m: name 'Variable' is not defined"
     ]
    }
   ],
   "source": [
    "# Get the data\n",
    "X, y, X_np, y_np = get_data()"
   ]
  },
  {
   "cell_type": "code",
   "execution_count": null,
   "metadata": {
    "ExecuteTime": {
     "end_time": "2019-04-11T11:29:33.704746Z",
     "start_time": "2019-04-11T11:29:32.361Z"
    },
    "hidden": true
   },
   "outputs": [],
   "source": [
    "import matplotlib.pyplot as plt\n",
    "from matplotlib.pyplot import figure\n",
    "\n",
    "figure(num=None, figsize=(8, 6), dpi=100, facecolor='w', edgecolor='k')\n",
    "\n",
    "plt.scatter(X_np,y_np)\n",
    "plt.show()"
   ]
  },
  {
   "cell_type": "markdown",
   "metadata": {
    "heading_collapsed": true
   },
   "source": [
    "## Network Implementation"
   ]
  },
  {
   "cell_type": "code",
   "execution_count": null,
   "metadata": {
    "ExecuteTime": {
     "end_time": "2019-04-11T11:29:33.707290Z",
     "start_time": "2019-04-11T11:29:32.367Z"
    },
    "hidden": true
   },
   "outputs": [],
   "source": [
    "def simple_network(x):\n",
    "    y_pred = torch.matmul(x,w)+b\n",
    "    return y_pred"
   ]
  },
  {
   "cell_type": "markdown",
   "metadata": {
    "hidden": true
   },
   "source": [
    "We do not need to implement a neural network model manually.\n",
    "\n",
    "PyTorch provides a higher-level abstraction in `torch.nn` called **layers**, which will take care of most of these underlying initialization and operations associated with most of the common techniques available in the neural network"
   ]
  },
  {
   "cell_type": "markdown",
   "metadata": {
    "heading_collapsed": true
   },
   "source": [
    "## Common Activation Functions"
   ]
  },
  {
   "cell_type": "markdown",
   "metadata": {
    "hidden": true
   },
   "source": [
    "* **Sigmoid**: $\\frac{1}{1 + exp(-x)}$\n",
    "\n",
    "\n",
    "* **Tanh**: $\\frac{e^x - e^{-x}}{e^x + e^{-x}}$\n",
    "\n",
    "\n",
    "* **ReLU**: $max(0,x) + negative_slope∗min(0,x)$\n",
    "\n",
    "\n",
    "* **LeakyReLU(x)**: $max(0,x) + negative_slope∗min(0,x)$\n",
    "\n",
    "\n",
    "Reference: [Many more activation functions in PyTorch](https://pytorch.org/docs/stable/nn.html?highlight=activation%20function)"
   ]
  },
  {
   "cell_type": "markdown",
   "metadata": {
    "ExecuteTime": {
     "end_time": "2019-03-04T03:29:27.954079Z",
     "start_time": "2019-03-04T03:29:27.943558Z"
    },
    "heading_collapsed": true
   },
   "source": [
    "## Define a loss function"
   ]
  },
  {
   "cell_type": "code",
   "execution_count": null,
   "metadata": {
    "ExecuteTime": {
     "end_time": "2019-04-11T11:29:33.709600Z",
     "start_time": "2019-04-11T11:29:32.378Z"
    },
    "hidden": true
   },
   "outputs": [],
   "source": [
    "def loss_fn(y,y_pred):\n",
    "    loss = (y_pred-y).pow(2).sum()\n",
    "    for param in [w,b]:\n",
    "        if not param.grad is None: param.grad.data.zero_()\n",
    "    loss.backward()\n",
    "    return loss.data[0]"
   ]
  },
  {
   "cell_type": "markdown",
   "metadata": {
    "heading_collapsed": true
   },
   "source": [
    "## Optimize the network"
   ]
  },
  {
   "cell_type": "code",
   "execution_count": null,
   "metadata": {
    "ExecuteTime": {
     "end_time": "2019-04-11T11:29:33.711871Z",
     "start_time": "2019-04-11T11:29:32.383Z"
    },
    "hidden": true
   },
   "outputs": [],
   "source": [
    "def optimize(learning_rate):\n",
    "    w.data -= learning_rate * w.grad.data\n",
    "    b.data -= learning_rate * b.grad.data"
   ]
  },
  {
   "cell_type": "code",
   "execution_count": null,
   "metadata": {
    "ExecuteTime": {
     "end_time": "2019-04-11T11:29:33.713249Z",
     "start_time": "2019-04-11T11:29:32.387Z"
    },
    "hidden": true,
    "scrolled": true
   },
   "outputs": [],
   "source": [
    "learning_rate = 0.0001\n",
    "x,y,x_np,y_np = get_data()  # x - represents training data,y - represents target variables\n",
    "w,b = get_weights()         # w,b - Learnable parameters\n",
    "for i in range(500):\n",
    "    y_pred = simple_network(x) # function which computes wx + b\n",
    "    loss = loss_fn(y,y_pred)   # calculates sum of the squared differences of y and y_pred\n",
    "    if i % 50 == 0: \n",
    "        print(loss)\n",
    "    optimize(learning_rate)    # Adjust w,b to minimize the loss"
   ]
  },
  {
   "cell_type": "markdown",
   "metadata": {},
   "source": [
    "# Lab 1"
   ]
  },
  {
   "cell_type": "code",
   "execution_count": 147,
   "metadata": {
    "ExecuteTime": {
     "end_time": "2019-04-11T13:07:50.137165Z",
     "start_time": "2019-04-11T13:07:50.131218Z"
    }
   },
   "outputs": [],
   "source": [
    "# Create a tensor of 20 random numbers from the uniform [0,1) distribution\n",
    "# YOUR CODE HERE (1 line)\n",
    "import torch\n",
    "z = torch.rand(20)"
   ]
  },
  {
   "cell_type": "code",
   "execution_count": 149,
   "metadata": {
    "ExecuteTime": {
     "end_time": "2019-04-11T13:07:59.770973Z",
     "start_time": "2019-04-11T13:07:59.764426Z"
    }
   },
   "outputs": [
    {
     "data": {
      "text/plain": [
       "tensor([0.2434, 0.6054, 0.1450, 0.6477, 0.7905, 0.9136, 0.0360, 0.9904, 0.8072,\n",
       "        0.8981, 0.8879, 0.1083, 0.8493, 0.5312, 0.6046, 0.1991, 0.1792, 0.7555,\n",
       "        0.8419, 0.6337])"
      ]
     },
     "execution_count": 149,
     "metadata": {},
     "output_type": "execute_result"
    }
   ],
   "source": [
    "z"
   ]
  },
  {
   "cell_type": "code",
   "execution_count": 152,
   "metadata": {
    "ExecuteTime": {
     "end_time": "2019-04-11T13:08:22.747643Z",
     "start_time": "2019-04-11T13:08:22.737948Z"
    }
   },
   "outputs": [
    {
     "name": "stdout",
     "output_type": "stream",
     "text": [
      "tensor(0.0360) tensor(0.9904)\n"
     ]
    }
   ],
   "source": [
    "print(z.min(),z.max())"
   ]
  },
  {
   "cell_type": "code",
   "execution_count": null,
   "metadata": {},
   "outputs": [],
   "source": []
  },
  {
   "cell_type": "code",
   "execution_count": 156,
   "metadata": {
    "ExecuteTime": {
     "end_time": "2019-04-11T13:09:50.398861Z",
     "start_time": "2019-04-11T13:09:50.387968Z"
    }
   },
   "outputs": [
    {
     "data": {
      "text/plain": [
       "tensor(1., grad_fn=<MeanBackward1>)"
      ]
     },
     "execution_count": 156,
     "metadata": {},
     "output_type": "execute_result"
    }
   ],
   "source": [
    "# What is the mean of these numbers?\n",
    "import numpy as np\n",
    "# YOUR CODE HERE (1 line)\n",
    "#np.mean(x.detach().numpy())\n",
    "x.mean()"
   ]
  },
  {
   "cell_type": "code",
   "execution_count": 157,
   "metadata": {
    "ExecuteTime": {
     "end_time": "2019-04-11T13:10:01.852498Z",
     "start_time": "2019-04-11T13:10:01.846753Z"
    }
   },
   "outputs": [],
   "source": [
    "# Create a tensor of 5 zeros\n",
    "# YOUR CODE HERE (1 line)\n",
    "b = torch.zeros(5)"
   ]
  },
  {
   "cell_type": "code",
   "execution_count": 158,
   "metadata": {
    "ExecuteTime": {
     "end_time": "2019-04-11T13:10:07.162710Z",
     "start_time": "2019-04-11T13:10:07.151166Z"
    }
   },
   "outputs": [
    {
     "data": {
      "text/plain": [
       "tensor([0., 0., 0., 0., 0.])"
      ]
     },
     "execution_count": 158,
     "metadata": {},
     "output_type": "execute_result"
    }
   ],
   "source": [
    "b"
   ]
  },
  {
   "cell_type": "code",
   "execution_count": 159,
   "metadata": {
    "ExecuteTime": {
     "end_time": "2019-04-11T13:10:17.553107Z",
     "start_time": "2019-04-11T13:10:17.547455Z"
    }
   },
   "outputs": [],
   "source": [
    "# Create a tensor of 5 ones\n",
    "# YOUR CODE HERE (1 line)\n",
    "a = torch.ones(5)"
   ]
  },
  {
   "cell_type": "code",
   "execution_count": 160,
   "metadata": {
    "ExecuteTime": {
     "end_time": "2019-04-11T13:10:21.641712Z",
     "start_time": "2019-04-11T13:10:21.633453Z"
    }
   },
   "outputs": [
    {
     "data": {
      "text/plain": [
       "tensor([1., 1., 1., 1., 1.])"
      ]
     },
     "execution_count": 160,
     "metadata": {},
     "output_type": "execute_result"
    }
   ],
   "source": [
    "a"
   ]
  },
  {
   "cell_type": "code",
   "execution_count": 162,
   "metadata": {
    "ExecuteTime": {
     "end_time": "2019-04-11T13:11:34.150798Z",
     "start_time": "2019-04-11T13:11:34.141824Z"
    }
   },
   "outputs": [
    {
     "name": "stdout",
     "output_type": "stream",
     "text": [
      "tensor([[0.1206, 0.4019, 0.4587, 0.0922],\n",
      "        [0.6525, 0.7174, 0.4609, 0.0976],\n",
      "        [0.1531, 0.5413, 0.0588, 0.0830],\n",
      "        [0.2472, 0.8975, 0.6882, 0.2628]])\n",
      "tensor([[0.1206, 0.4019],\n",
      "        [0.6525, 0.7174]])\n"
     ]
    }
   ],
   "source": [
    "# Given the follow tensor, subset the first 2 rows and first 2 columns of this tensor.\n",
    "A = torch.rand(4,4) # uniform[0,1)\n",
    "# YOUR CODE HERE (1 line)\n",
    "print(A)\n",
    "print(A[:2,:2])"
   ]
  },
  {
   "cell_type": "code",
   "execution_count": 163,
   "metadata": {
    "ExecuteTime": {
     "end_time": "2019-04-11T13:12:44.507731Z",
     "start_time": "2019-04-11T13:12:44.501336Z"
    }
   },
   "outputs": [
    {
     "data": {
      "text/plain": [
       "torch.Size([2, 5, 5])"
      ]
     },
     "execution_count": 163,
     "metadata": {},
     "output_type": "execute_result"
    }
   ],
   "source": [
    "# What is the shape of the following tensor?\n",
    "X = torch.randint(0, 10, (2, 5, 5))\n",
    "# YOUR CODE HERE (1 line)\n",
    "X.shape"
   ]
  },
  {
   "cell_type": "code",
   "execution_count": 164,
   "metadata": {
    "ExecuteTime": {
     "end_time": "2019-04-11T13:12:47.138261Z",
     "start_time": "2019-04-11T13:12:47.131271Z"
    }
   },
   "outputs": [
    {
     "data": {
      "text/plain": [
       "tensor([[[0, 8, 3, 1, 0],\n",
       "         [8, 7, 8, 4, 9],\n",
       "         [8, 1, 5, 9, 6],\n",
       "         [3, 9, 7, 8, 4],\n",
       "         [3, 4, 6, 0, 7]],\n",
       "\n",
       "        [[7, 7, 5, 7, 2],\n",
       "         [2, 7, 3, 1, 3],\n",
       "         [2, 1, 3, 7, 5],\n",
       "         [7, 6, 6, 1, 8],\n",
       "         [6, 2, 7, 6, 3]]])"
      ]
     },
     "execution_count": 164,
     "metadata": {},
     "output_type": "execute_result"
    }
   ],
   "source": [
    "X"
   ]
  },
  {
   "cell_type": "code",
   "execution_count": 166,
   "metadata": {
    "ExecuteTime": {
     "end_time": "2019-04-11T13:13:58.417658Z",
     "start_time": "2019-04-11T13:13:58.410758Z"
    }
   },
   "outputs": [],
   "source": [
    "# Consider the following tensor.\n",
    "# What are the gradients after the operations?\n",
    "\n",
    "p = torch.ones(10, requires_grad=True) \n",
    "q = p + 2\n",
    "r = q.mean()\n",
    "\n",
    "# YOUR CODE HERE (2 lines)"
   ]
  },
  {
   "cell_type": "code",
   "execution_count": 167,
   "metadata": {
    "ExecuteTime": {
     "end_time": "2019-04-11T13:13:58.922057Z",
     "start_time": "2019-04-11T13:13:58.910973Z"
    }
   },
   "outputs": [
    {
     "data": {
      "text/plain": [
       "tensor([0.1000, 0.1000, 0.1000, 0.1000, 0.1000, 0.1000, 0.1000, 0.1000, 0.1000,\n",
       "        0.1000])"
      ]
     },
     "execution_count": 167,
     "metadata": {},
     "output_type": "execute_result"
    }
   ],
   "source": [
    "r.backward()\n",
    "p.grad"
   ]
  },
  {
   "cell_type": "code",
   "execution_count": null,
   "metadata": {},
   "outputs": [],
   "source": []
  }
 ],
 "metadata": {
  "kernelspec": {
   "display_name": "Python [conda env:dl]",
   "language": "python",
   "name": "conda-env-dl-py"
  },
  "language_info": {
   "codemirror_mode": {
    "name": "ipython",
    "version": 3
   },
   "file_extension": ".py",
   "mimetype": "text/x-python",
   "name": "python",
   "nbconvert_exporter": "python",
   "pygments_lexer": "ipython3",
   "version": "3.6.7"
  },
  "toc": {
   "base_numbering": 1,
   "nav_menu": {},
   "number_sections": true,
   "sideBar": true,
   "skip_h1_title": false,
   "title_cell": "Table of Contents",
   "title_sidebar": "Contents",
   "toc_cell": false,
   "toc_position": {},
   "toc_section_display": true,
   "toc_window_display": false
  },
  "varInspector": {
   "cols": {
    "lenName": 16,
    "lenType": 16,
    "lenVar": 40
   },
   "kernels_config": {
    "python": {
     "delete_cmd_postfix": "",
     "delete_cmd_prefix": "del ",
     "library": "var_list.py",
     "varRefreshCmd": "print(var_dic_list())"
    },
    "r": {
     "delete_cmd_postfix": ") ",
     "delete_cmd_prefix": "rm(",
     "library": "var_list.r",
     "varRefreshCmd": "cat(var_dic_list()) "
    }
   },
   "types_to_exclude": [
    "module",
    "function",
    "builtin_function_or_method",
    "instance",
    "_Feature"
   ],
   "window_display": false
  }
 },
 "nbformat": 4,
 "nbformat_minor": 2
}
