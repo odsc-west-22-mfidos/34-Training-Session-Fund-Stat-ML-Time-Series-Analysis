{
 "cells": [
  {
   "cell_type": "markdown",
   "metadata": {},
   "source": [
    "<div class=\"alert alert-block alert-info\">\n",
    "<font size=\"6\"><b><center> Section 1</font></center>\n",
    "<br>\n",
    "<font size=\"6\"><b><center> Introduction to PyTorch </font></center>\n",
    "</div>"
   ]
  },
  {
   "cell_type": "markdown",
   "metadata": {},
   "source": [
    "# Fundamental Building Blocks"
   ]
  },
  {
   "cell_type": "markdown",
   "metadata": {},
   "source": [
    "* Tensor and Tensor Operations\n",
    "\n",
    "* PyTorch’s Tensor Libraries\n",
    "\n",
    "* Computational Graph\n",
    "\n",
    "* Gradient Computation\n",
    "\n",
    "* Linear Mapping\n",
    "\n",
    "* PyTorch’s non-linear activation functions:\n",
    "    * Sigmoid, tanh, ReLU, Leaky ReLU\n",
    "\n",
    "* Loss Function\n",
    "\n",
    "* Optimization algorithms used in training deep learning models"
   ]
  },
  {
   "cell_type": "markdown",
   "metadata": {},
   "source": [
    "# A 2-Layer Feed-Forward Neural Network Architecture"
   ]
  },
  {
   "cell_type": "markdown",
   "metadata": {},
   "source": [
    "## Some notations on a simple feed-forward network"
   ]
  },
  {
   "cell_type": "markdown",
   "metadata": {},
   "source": [
    "$\\bar{\\mathbf{X}} = \\{X_1, X_2, \\dots, X_K, 1 \\}$ is a $n \\times K$ matrix of $K$ input features from $n$ training examples\n",
    "\n",
    "$X_k$ $ (k = 1,\\dots,K) $ is a $n \\times 1$ vector of n examples corresponding to feature $k$\n",
    "\n",
    "$\\bar{\\mathbf{W}}_{Xh} = \\{w_1, w_2 \\dots, w_p \\}$\n",
    "\n",
    "$\\bar{\\mathbf{W}}_{Xh}$ of size $PK$ \n",
    "\n",
    "where $P$ is the number of units in the hidden layer 1 \n",
    "\n",
    "and K is the number of input features\n",
    "\n",
    "$\\mathbf{b}$ bias\n",
    "\n"
   ]
  },
  {
   "cell_type": "markdown",
   "metadata": {},
   "source": [
    "## A Simple Neural Network Architeture"
   ]
  },
  {
   "cell_type": "markdown",
   "metadata": {},
   "source": [
    "The input layer contains $d$ nodes that transmit the $d$ features $\\mathbf{X} = \\{x_1, \\dots, x_d, 1 \\}$ with edges of weights $\\mathbf{W} = \\{w_1, \\dots, w_d, b \\}$ to an output node.\n",
    "\n",
    "Linear function (or linear mapping of data): $\\mathbf{W} \\cdot \\mathbf{X} + b = b + \\sum_{i=1}^d w_i x_i $\n",
    "\n",
    "$ y = b + \\sum_{i=1}^d w_i x_i $ where $w$'s and $b$ are parameters to be learned"
   ]
  },
  {
   "cell_type": "markdown",
   "metadata": {},
   "source": [
    "# Tensor and Tensor Operations"
   ]
  },
  {
   "cell_type": "markdown",
   "metadata": {},
   "source": [
    "There are many types of tensor operations, and we will not cover all of them in this introduction. We will focus on operations that can help us start developing deep learning models immediately.\n",
    "\n",
    "The official documentation provides a comprehensive list: [pytorch.org](https://pytorch.org/docs/stable/torch.html#tensors)\n",
    "\n",
    "\n",
    "  * Creation ops: functions for constructing a tensor, like ones and from_numpy \n",
    "  \n",
    "  * Indexing, slicing, joining, mutating ops: functions for changing the shape, stride or content a tensor, like transpose\n",
    "\n",
    "  * Math ops: functions for manipulating the content of the tensor through computations\n",
    "\n",
    "    * Pointwise ops: functions for obtaining a new tensor by applying a function to each element independently, like abs and cos\n",
    "\n",
    "    * Reduction ops: functions for computing aggregate values by iterating through tensors, like mean, std and norm\n",
    "\n",
    "    * Comparison ops: functions for evaluating numerical predicates over tensors, like equal and max\n",
    "\n",
    "    * Spectral ops: functions for transforming in and operating in the frequency domain, like stft and hamming_window\n",
    "\n",
    "    * Other operations: special functions operating on vectors, like cross, or matrices, like trace \n",
    "  \n",
    "    * BLAS and LAPACK operations: functions following the BLAS (Basic Linear Algebra Subprograms) specification for scalar, vector-vector, matrix-vector and matrix-matrix operations \n",
    "  \n",
    "  * Random sampling: functions for generating values by drawing randomly from probability distributions, like randn and normal\n",
    "\n",
    "  * Serialization: functions for saving and loading tensors, like load and save\n",
    "\n",
    "  * Parallelism: functions for controlling the number of threads for parallel CPU execution, like set_num_threads\n",
    "\n"
   ]
  },
  {
   "cell_type": "code",
   "execution_count": 1,
   "metadata": {
    "ExecuteTime": {
     "end_time": "2019-04-11T05:00:02.478463Z",
     "start_time": "2019-04-11T05:00:01.811775Z"
    }
   },
   "outputs": [
    {
     "data": {
      "text/plain": [
       "'1.0.1.post2'"
      ]
     },
     "execution_count": 1,
     "metadata": {},
     "output_type": "execute_result"
    }
   ],
   "source": [
    "# Import torch module\n",
    "import torch\n",
    "torch.version.__version__"
   ]
  },
  {
   "cell_type": "markdown",
   "metadata": {},
   "source": [
    "## Creating Tensors and Examining tensors"
   ]
  },
  {
   "cell_type": "markdown",
   "metadata": {},
   "source": [
    "* `rand()`\n",
    "\n",
    "* `randn()`\n",
    "\n",
    "* `zeros()`\n",
    "\n",
    "* `ones()`\n",
    "\n",
    "* using a `Python list`"
   ]
  },
  {
   "cell_type": "markdown",
   "metadata": {},
   "source": [
    "### Create a 1-D Tensor"
   ]
  },
  {
   "cell_type": "markdown",
   "metadata": {},
   "source": [
    "  - PyTorch provides methods to create random or zero-filled tensors\n",
    "  - Use case: to initialize weights and bias for a NN model"
   ]
  },
  {
   "cell_type": "code",
   "execution_count": 2,
   "metadata": {
    "ExecuteTime": {
     "end_time": "2019-04-11T05:00:07.176349Z",
     "start_time": "2019-04-11T05:00:07.172935Z"
    }
   },
   "outputs": [],
   "source": [
    "import torch"
   ]
  },
  {
   "cell_type": "markdown",
   "metadata": {
    "ExecuteTime": {
     "end_time": "2019-03-31T03:35:22.947948Z",
     "start_time": "2019-03-31T03:35:22.942129Z"
    }
   },
   "source": [
    "`torch.rand()` returns a tensor of random numbers from a uniform [0,1) distribution\n",
    "                                                                                                        \n",
    "[Source: Torch's random sampling](https://pytorch.org/docs/stable/torch.html#random-sampling)"
   ]
  },
  {
   "cell_type": "markdown",
   "metadata": {
    "ExecuteTime": {
     "end_time": "2019-03-31T03:26:56.247037Z",
     "start_time": "2019-03-31T03:26:56.242225Z"
    }
   },
   "source": [
    "Draw a sequence of 10 random numbers"
   ]
  },
  {
   "cell_type": "code",
   "execution_count": 3,
   "metadata": {
    "ExecuteTime": {
     "end_time": "2019-04-11T05:00:08.521144Z",
     "start_time": "2019-04-11T05:00:08.517672Z"
    }
   },
   "outputs": [],
   "source": [
    "x = torch.rand(10)"
   ]
  },
  {
   "cell_type": "code",
   "execution_count": 4,
   "metadata": {
    "ExecuteTime": {
     "end_time": "2019-04-11T05:00:10.148177Z",
     "start_time": "2019-04-11T05:00:10.142873Z"
    }
   },
   "outputs": [
    {
     "data": {
      "text/plain": [
       "torch.Tensor"
      ]
     },
     "execution_count": 4,
     "metadata": {},
     "output_type": "execute_result"
    }
   ],
   "source": [
    "type(x)"
   ]
  },
  {
   "cell_type": "code",
   "execution_count": 5,
   "metadata": {
    "ExecuteTime": {
     "end_time": "2019-04-11T05:00:11.077307Z",
     "start_time": "2019-04-11T05:00:11.072574Z"
    }
   },
   "outputs": [
    {
     "data": {
      "text/plain": [
       "torch.Size([10])"
      ]
     },
     "execution_count": 5,
     "metadata": {},
     "output_type": "execute_result"
    }
   ],
   "source": [
    "x.size()"
   ]
  },
  {
   "cell_type": "code",
   "execution_count": 6,
   "metadata": {
    "ExecuteTime": {
     "end_time": "2019-04-11T05:00:12.899435Z",
     "start_time": "2019-04-11T05:00:12.892058Z"
    }
   },
   "outputs": [
    {
     "name": "stdout",
     "output_type": "stream",
     "text": [
      "tensor(0.0871) tensor(0.9805)\n"
     ]
    }
   ],
   "source": [
    "print(x.min(), x.max())"
   ]
  },
  {
   "cell_type": "markdown",
   "metadata": {
    "ExecuteTime": {
     "end_time": "2019-03-31T03:36:57.788977Z",
     "start_time": "2019-03-31T03:36:57.784137Z"
    }
   },
   "source": [
    "Draw a matrix of size (10,3) random numbers"
   ]
  },
  {
   "cell_type": "code",
   "execution_count": 7,
   "metadata": {
    "ExecuteTime": {
     "end_time": "2019-04-11T05:00:16.677009Z",
     "start_time": "2019-04-11T05:00:16.673515Z"
    }
   },
   "outputs": [],
   "source": [
    "W = torch.rand(10,3)"
   ]
  },
  {
   "cell_type": "code",
   "execution_count": 8,
   "metadata": {
    "ExecuteTime": {
     "end_time": "2019-04-11T05:00:20.214419Z",
     "start_time": "2019-04-11T05:00:20.209512Z"
    }
   },
   "outputs": [
    {
     "data": {
      "text/plain": [
       "torch.Tensor"
      ]
     },
     "execution_count": 8,
     "metadata": {},
     "output_type": "execute_result"
    }
   ],
   "source": [
    "type(W)"
   ]
  },
  {
   "cell_type": "code",
   "execution_count": 9,
   "metadata": {
    "ExecuteTime": {
     "end_time": "2019-04-11T05:00:21.064960Z",
     "start_time": "2019-04-11T05:00:21.060195Z"
    }
   },
   "outputs": [
    {
     "data": {
      "text/plain": [
       "torch.Size([10, 3])"
      ]
     },
     "execution_count": 9,
     "metadata": {},
     "output_type": "execute_result"
    }
   ],
   "source": [
    "W.size()"
   ]
  },
  {
   "cell_type": "code",
   "execution_count": 10,
   "metadata": {
    "ExecuteTime": {
     "end_time": "2019-04-11T05:00:25.497937Z",
     "start_time": "2019-04-11T05:00:25.492559Z"
    }
   },
   "outputs": [
    {
     "data": {
      "text/plain": [
       "tensor([[0.8023, 0.8515, 0.6985],\n",
       "        [0.0254, 0.1127, 0.4799],\n",
       "        [0.2139, 0.6708, 0.2788],\n",
       "        [0.8478, 0.1009, 0.4761],\n",
       "        [0.0333, 0.2757, 0.4947],\n",
       "        [0.5543, 0.5343, 0.1781],\n",
       "        [0.0983, 0.4569, 0.3328],\n",
       "        [0.5928, 0.4178, 0.9665],\n",
       "        [0.5063, 0.2328, 0.6569],\n",
       "        [0.8985, 0.7854, 0.1830]])"
      ]
     },
     "execution_count": 10,
     "metadata": {},
     "output_type": "execute_result"
    }
   ],
   "source": [
    "W"
   ]
  },
  {
   "cell_type": "markdown",
   "metadata": {},
   "source": [
    "Another common random sampling is to generate random number from the standard normal distribution"
   ]
  },
  {
   "cell_type": "markdown",
   "metadata": {},
   "source": [
    "`torch.randn()` returns a tensor of random numbers from a standard normal distribution (i.e. a normal distribution with mean 0 and variance 1)\n",
    "\n",
    "[Source: Torch's random sampling](https://pytorch.org/docs/stable/torch.html#random-sampling)"
   ]
  },
  {
   "cell_type": "code",
   "execution_count": 11,
   "metadata": {
    "ExecuteTime": {
     "end_time": "2019-04-11T05:00:33.892953Z",
     "start_time": "2019-04-11T05:00:33.889868Z"
    }
   },
   "outputs": [],
   "source": [
    "W2 = torch.randn(10,3)"
   ]
  },
  {
   "cell_type": "code",
   "execution_count": 12,
   "metadata": {
    "ExecuteTime": {
     "end_time": "2019-04-11T05:00:34.482381Z",
     "start_time": "2019-04-11T05:00:34.478089Z"
    }
   },
   "outputs": [
    {
     "data": {
      "text/plain": [
       "torch.Tensor"
      ]
     },
     "execution_count": 12,
     "metadata": {},
     "output_type": "execute_result"
    }
   ],
   "source": [
    "type(W2)"
   ]
  },
  {
   "cell_type": "code",
   "execution_count": 13,
   "metadata": {
    "ExecuteTime": {
     "end_time": "2019-04-11T05:00:34.980158Z",
     "start_time": "2019-04-11T05:00:34.975467Z"
    }
   },
   "outputs": [
    {
     "data": {
      "text/plain": [
       "torch.float32"
      ]
     },
     "execution_count": 13,
     "metadata": {},
     "output_type": "execute_result"
    }
   ],
   "source": [
    "W2.dtype"
   ]
  },
  {
   "cell_type": "code",
   "execution_count": 14,
   "metadata": {
    "ExecuteTime": {
     "end_time": "2019-04-11T05:00:35.368156Z",
     "start_time": "2019-04-11T05:00:35.363275Z"
    }
   },
   "outputs": [
    {
     "data": {
      "text/plain": [
       "torch.Size([10, 3])"
      ]
     },
     "execution_count": 14,
     "metadata": {},
     "output_type": "execute_result"
    }
   ],
   "source": [
    "W2.shape"
   ]
  },
  {
   "cell_type": "code",
   "execution_count": 15,
   "metadata": {
    "ExecuteTime": {
     "end_time": "2019-04-11T05:00:35.799041Z",
     "start_time": "2019-04-11T05:00:35.792099Z"
    }
   },
   "outputs": [
    {
     "data": {
      "text/plain": [
       "tensor([[ 2.2086e-01,  4.9590e-01,  3.7365e-01],\n",
       "        [-1.0951e-03,  4.8973e-01,  3.1280e-02],\n",
       "        [ 5.4028e-01,  6.2714e-01,  1.5654e+00],\n",
       "        [-5.5031e-01,  1.1058e+00,  8.4683e-01],\n",
       "        [ 1.3243e+00,  2.4414e-01,  3.8790e-01],\n",
       "        [ 3.0149e-01,  7.6200e-01, -1.5412e+00],\n",
       "        [-1.1484e+00,  1.1065e+00, -1.1306e+00],\n",
       "        [ 5.1871e-01,  1.4679e+00, -1.2691e+00],\n",
       "        [ 2.4426e-01, -1.1024e+00, -5.5799e-01],\n",
       "        [ 1.4822e+00,  1.1925e+00, -1.5295e+00]])"
      ]
     },
     "execution_count": 15,
     "metadata": {},
     "output_type": "execute_result"
    }
   ],
   "source": [
    "W2"
   ]
  },
  {
   "cell_type": "markdown",
   "metadata": {},
   "source": [
    "**Note: Though it looks like it is similar to a list of number objects, it is not. A tensor stores its data as unboxed numeric values, so they are not Python objects but C numeric types - 32-bit (4 bytes) float**"
   ]
  },
  {
   "cell_type": "markdown",
   "metadata": {},
   "source": [
    "`torch.zeros()` can be used to initialize the `bias`"
   ]
  },
  {
   "cell_type": "code",
   "execution_count": 16,
   "metadata": {
    "ExecuteTime": {
     "end_time": "2019-04-11T05:00:40.193233Z",
     "start_time": "2019-04-11T05:00:40.189983Z"
    }
   },
   "outputs": [],
   "source": [
    "b = torch.zeros(10)"
   ]
  },
  {
   "cell_type": "code",
   "execution_count": 17,
   "metadata": {
    "ExecuteTime": {
     "end_time": "2019-04-11T05:00:40.567874Z",
     "start_time": "2019-04-11T05:00:40.562657Z"
    }
   },
   "outputs": [
    {
     "data": {
      "text/plain": [
       "torch.Tensor"
      ]
     },
     "execution_count": 17,
     "metadata": {},
     "output_type": "execute_result"
    }
   ],
   "source": [
    "type(b)"
   ]
  },
  {
   "cell_type": "code",
   "execution_count": 18,
   "metadata": {
    "ExecuteTime": {
     "end_time": "2019-04-11T05:00:41.017399Z",
     "start_time": "2019-04-11T05:00:41.011549Z"
    }
   },
   "outputs": [
    {
     "data": {
      "text/plain": [
       "torch.Size([10])"
      ]
     },
     "execution_count": 18,
     "metadata": {},
     "output_type": "execute_result"
    }
   ],
   "source": [
    "b.shape"
   ]
  },
  {
   "cell_type": "code",
   "execution_count": 19,
   "metadata": {
    "ExecuteTime": {
     "end_time": "2019-04-11T05:00:41.453842Z",
     "start_time": "2019-04-11T05:00:41.446658Z"
    }
   },
   "outputs": [
    {
     "data": {
      "text/plain": [
       "tensor([0., 0., 0., 0., 0., 0., 0., 0., 0., 0.])"
      ]
     },
     "execution_count": 19,
     "metadata": {},
     "output_type": "execute_result"
    }
   ],
   "source": [
    "b"
   ]
  },
  {
   "cell_type": "markdown",
   "metadata": {},
   "source": [
    "Likewise, `torch.ones()` can be used to create a tensor filled with 1"
   ]
  },
  {
   "cell_type": "code",
   "execution_count": 20,
   "metadata": {
    "ExecuteTime": {
     "end_time": "2019-04-11T05:00:43.570673Z",
     "start_time": "2019-04-11T05:00:43.566575Z"
    }
   },
   "outputs": [],
   "source": [
    "a = torch.ones(3)"
   ]
  },
  {
   "cell_type": "code",
   "execution_count": 21,
   "metadata": {
    "ExecuteTime": {
     "end_time": "2019-04-11T05:00:45.055429Z",
     "start_time": "2019-04-11T05:00:45.050926Z"
    }
   },
   "outputs": [
    {
     "data": {
      "text/plain": [
       "torch.Tensor"
      ]
     },
     "execution_count": 21,
     "metadata": {},
     "output_type": "execute_result"
    }
   ],
   "source": [
    "type(a)"
   ]
  },
  {
   "cell_type": "code",
   "execution_count": 22,
   "metadata": {
    "ExecuteTime": {
     "end_time": "2019-04-11T05:00:45.404787Z",
     "start_time": "2019-04-11T05:00:45.399374Z"
    }
   },
   "outputs": [
    {
     "data": {
      "text/plain": [
       "torch.Size([3])"
      ]
     },
     "execution_count": 22,
     "metadata": {},
     "output_type": "execute_result"
    }
   ],
   "source": [
    "a.shape"
   ]
  },
  {
   "cell_type": "code",
   "execution_count": 23,
   "metadata": {
    "ExecuteTime": {
     "end_time": "2019-04-11T05:00:47.101013Z",
     "start_time": "2019-04-11T05:00:47.094470Z"
    }
   },
   "outputs": [
    {
     "data": {
      "text/plain": [
       "tensor([1., 1., 1.])"
      ]
     },
     "execution_count": 23,
     "metadata": {},
     "output_type": "execute_result"
    }
   ],
   "source": [
    "a"
   ]
  },
  {
   "cell_type": "code",
   "execution_count": 24,
   "metadata": {
    "ExecuteTime": {
     "end_time": "2019-04-11T05:00:49.045243Z",
     "start_time": "2019-04-11T05:00:49.039312Z"
    }
   },
   "outputs": [],
   "source": [
    "A = torch.ones((3,3,3))"
   ]
  },
  {
   "cell_type": "code",
   "execution_count": 25,
   "metadata": {
    "ExecuteTime": {
     "end_time": "2019-04-11T05:00:49.787151Z",
     "start_time": "2019-04-11T05:00:49.778735Z"
    }
   },
   "outputs": [
    {
     "data": {
      "text/plain": [
       "tensor([[[1., 1., 1.],\n",
       "         [1., 1., 1.],\n",
       "         [1., 1., 1.]],\n",
       "\n",
       "        [[1., 1., 1.],\n",
       "         [1., 1., 1.],\n",
       "         [1., 1., 1.]],\n",
       "\n",
       "        [[1., 1., 1.],\n",
       "         [1., 1., 1.],\n",
       "         [1., 1., 1.]]])"
      ]
     },
     "execution_count": 25,
     "metadata": {},
     "output_type": "execute_result"
    }
   ],
   "source": [
    "A"
   ]
  },
  {
   "cell_type": "markdown",
   "metadata": {},
   "source": [
    "Convert a Python list to a tensor"
   ]
  },
  {
   "cell_type": "code",
   "execution_count": 26,
   "metadata": {
    "ExecuteTime": {
     "end_time": "2019-04-11T05:01:06.138642Z",
     "start_time": "2019-04-11T05:01:06.132102Z"
    }
   },
   "outputs": [
    {
     "data": {
      "text/plain": [
       "torch.Size([3, 3, 3])"
      ]
     },
     "execution_count": 26,
     "metadata": {},
     "output_type": "execute_result"
    }
   ],
   "source": [
    "A.shape"
   ]
  },
  {
   "cell_type": "code",
   "execution_count": 27,
   "metadata": {
    "ExecuteTime": {
     "end_time": "2019-04-11T05:01:07.410408Z",
     "start_time": "2019-04-11T05:01:07.402866Z"
    }
   },
   "outputs": [
    {
     "data": {
      "text/plain": [
       "tensor([1., 4., 2., 1., 3., 5.])"
      ]
     },
     "execution_count": 27,
     "metadata": {},
     "output_type": "execute_result"
    }
   ],
   "source": [
    "l = [1.0, 4.0, 2.0, 1.0, 3.0, 5.0]\n",
    "torch.tensor(l)"
   ]
  },
  {
   "cell_type": "markdown",
   "metadata": {},
   "source": [
    "Subsetting a tensor: extract the first 2 elements of a 1-D tensor"
   ]
  },
  {
   "cell_type": "code",
   "execution_count": 28,
   "metadata": {
    "ExecuteTime": {
     "end_time": "2019-04-11T05:01:14.418815Z",
     "start_time": "2019-04-11T05:01:14.412090Z"
    }
   },
   "outputs": [
    {
     "data": {
      "text/plain": [
       "tensor([1., 4.])"
      ]
     },
     "execution_count": 28,
     "metadata": {},
     "output_type": "execute_result"
    }
   ],
   "source": [
    "torch.tensor([1.0, 4.0, 2.0, 1.0, 3.0, 5.0])[:2]"
   ]
  },
  {
   "cell_type": "markdown",
   "metadata": {},
   "source": [
    "### Create a 2-D Tensor"
   ]
  },
  {
   "cell_type": "code",
   "execution_count": 29,
   "metadata": {
    "ExecuteTime": {
     "end_time": "2019-04-11T05:01:17.105709Z",
     "start_time": "2019-04-11T05:01:17.101799Z"
    }
   },
   "outputs": [],
   "source": [
    "a = torch.ones(3,3)"
   ]
  },
  {
   "cell_type": "code",
   "execution_count": 30,
   "metadata": {
    "ExecuteTime": {
     "end_time": "2019-04-11T05:01:17.653454Z",
     "start_time": "2019-04-11T05:01:17.645896Z"
    }
   },
   "outputs": [
    {
     "data": {
      "text/plain": [
       "tensor([[1., 1., 1.],\n",
       "        [1., 1., 1.],\n",
       "        [1., 1., 1.]])"
      ]
     },
     "execution_count": 30,
     "metadata": {},
     "output_type": "execute_result"
    }
   ],
   "source": [
    "a"
   ]
  },
  {
   "cell_type": "code",
   "execution_count": 31,
   "metadata": {
    "ExecuteTime": {
     "end_time": "2019-04-11T05:01:18.250575Z",
     "start_time": "2019-04-11T05:01:18.245663Z"
    }
   },
   "outputs": [
    {
     "data": {
      "text/plain": [
       "torch.Size([3, 3])"
      ]
     },
     "execution_count": 31,
     "metadata": {},
     "output_type": "execute_result"
    }
   ],
   "source": [
    "a.size()"
   ]
  },
  {
   "cell_type": "code",
   "execution_count": 32,
   "metadata": {
    "ExecuteTime": {
     "end_time": "2019-04-11T05:01:18.796691Z",
     "start_time": "2019-04-11T05:01:18.793827Z"
    }
   },
   "outputs": [],
   "source": [
    "b = torch.ones(3,3)"
   ]
  },
  {
   "cell_type": "code",
   "execution_count": 33,
   "metadata": {
    "ExecuteTime": {
     "end_time": "2019-04-11T05:01:19.281051Z",
     "start_time": "2019-04-11T05:01:19.276645Z"
    }
   },
   "outputs": [
    {
     "data": {
      "text/plain": [
       "torch.Tensor"
      ]
     },
     "execution_count": 33,
     "metadata": {},
     "output_type": "execute_result"
    }
   ],
   "source": [
    "type(b)"
   ]
  },
  {
   "cell_type": "markdown",
   "metadata": {
    "ExecuteTime": {
     "end_time": "2019-03-02T22:16:09.851110Z",
     "start_time": "2019-03-02T22:16:09.844453Z"
    }
   },
   "source": [
    "Simple addition"
   ]
  },
  {
   "cell_type": "code",
   "execution_count": 34,
   "metadata": {
    "ExecuteTime": {
     "end_time": "2019-04-11T05:01:21.797812Z",
     "start_time": "2019-04-11T05:01:21.794454Z"
    }
   },
   "outputs": [],
   "source": [
    "c = a + b"
   ]
  },
  {
   "cell_type": "code",
   "execution_count": 35,
   "metadata": {
    "ExecuteTime": {
     "end_time": "2019-04-11T05:01:22.131733Z",
     "start_time": "2019-04-11T05:01:22.127744Z"
    }
   },
   "outputs": [
    {
     "data": {
      "text/plain": [
       "torch.Tensor"
      ]
     },
     "execution_count": 35,
     "metadata": {},
     "output_type": "execute_result"
    }
   ],
   "source": [
    "type(c)"
   ]
  },
  {
   "cell_type": "code",
   "execution_count": 36,
   "metadata": {
    "ExecuteTime": {
     "end_time": "2019-04-11T05:01:22.432302Z",
     "start_time": "2019-04-11T05:01:22.427871Z"
    }
   },
   "outputs": [
    {
     "data": {
      "text/plain": [
       "'torch.FloatTensor'"
      ]
     },
     "execution_count": 36,
     "metadata": {},
     "output_type": "execute_result"
    }
   ],
   "source": [
    "c.type()"
   ]
  },
  {
   "cell_type": "code",
   "execution_count": 37,
   "metadata": {
    "ExecuteTime": {
     "end_time": "2019-04-11T05:01:22.824732Z",
     "start_time": "2019-04-11T05:01:22.819900Z"
    }
   },
   "outputs": [
    {
     "data": {
      "text/plain": [
       "torch.Size([3, 3])"
      ]
     },
     "execution_count": 37,
     "metadata": {},
     "output_type": "execute_result"
    }
   ],
   "source": [
    "c.size()"
   ]
  },
  {
   "cell_type": "markdown",
   "metadata": {},
   "source": [
    "Create a 2-D tensor by passing a list of lists to the constructor"
   ]
  },
  {
   "cell_type": "code",
   "execution_count": 38,
   "metadata": {
    "ExecuteTime": {
     "end_time": "2019-04-11T05:01:23.701430Z",
     "start_time": "2019-04-11T05:01:23.698440Z"
    }
   },
   "outputs": [],
   "source": [
    "d = torch.tensor([[1.0, 4.0], [2.0, 1.0], [3.0, 5.0]])"
   ]
  },
  {
   "cell_type": "code",
   "execution_count": 39,
   "metadata": {
    "ExecuteTime": {
     "end_time": "2019-04-11T05:01:23.953229Z",
     "start_time": "2019-04-11T05:01:23.946678Z"
    }
   },
   "outputs": [
    {
     "data": {
      "text/plain": [
       "tensor([[1., 4.],\n",
       "        [2., 1.],\n",
       "        [3., 5.]])"
      ]
     },
     "execution_count": 39,
     "metadata": {},
     "output_type": "execute_result"
    }
   ],
   "source": [
    "d"
   ]
  },
  {
   "cell_type": "code",
   "execution_count": 40,
   "metadata": {
    "ExecuteTime": {
     "end_time": "2019-04-11T05:01:24.157250Z",
     "start_time": "2019-04-11T05:01:24.152046Z"
    }
   },
   "outputs": [
    {
     "data": {
      "text/plain": [
       "torch.Size([3, 2])"
      ]
     },
     "execution_count": 40,
     "metadata": {},
     "output_type": "execute_result"
    }
   ],
   "source": [
    "d.size()"
   ]
  },
  {
   "cell_type": "code",
   "execution_count": 41,
   "metadata": {
    "ExecuteTime": {
     "end_time": "2019-04-11T05:01:24.333716Z",
     "start_time": "2019-04-11T05:01:24.329442Z"
    }
   },
   "outputs": [
    {
     "data": {
      "text/plain": [
       "torch.Size([3, 2])"
      ]
     },
     "execution_count": 41,
     "metadata": {},
     "output_type": "execute_result"
    }
   ],
   "source": [
    "# We will obtain the same result by using `shape`\n",
    "d.shape"
   ]
  },
  {
   "cell_type": "markdown",
   "metadata": {},
   "source": [
    "$[3,2]$ indicates the size of the tensor along each of its 2 dimensions"
   ]
  },
  {
   "cell_type": "code",
   "execution_count": 42,
   "metadata": {
    "ExecuteTime": {
     "end_time": "2019-04-11T05:01:25.005938Z",
     "start_time": "2019-04-11T05:01:25.000441Z"
    }
   },
   "outputs": [
    {
     "data": {
      "text/plain": [
       "tensor([1., 4.])"
      ]
     },
     "execution_count": 42,
     "metadata": {},
     "output_type": "execute_result"
    }
   ],
   "source": [
    "# Using the 0th-dimension index to get the 1st dimension of the 2-D tensor. \n",
    "# Note that this is not a new tensor; this is just a different (partial) view of the original tensor\n",
    "d[0]"
   ]
  },
  {
   "cell_type": "code",
   "execution_count": 43,
   "metadata": {
    "ExecuteTime": {
     "end_time": "2019-04-11T05:01:26.077687Z",
     "start_time": "2019-04-11T05:01:26.071979Z"
    }
   },
   "outputs": [
    {
     "data": {
      "text/plain": [
       "tensor([[1., 4.],\n",
       "        [2., 1.],\n",
       "        [3., 5.]])"
      ]
     },
     "execution_count": 43,
     "metadata": {},
     "output_type": "execute_result"
    }
   ],
   "source": [
    "d"
   ]
  },
  {
   "cell_type": "code",
   "execution_count": 44,
   "metadata": {
    "ExecuteTime": {
     "end_time": "2019-04-11T05:01:33.436540Z",
     "start_time": "2019-04-11T05:01:33.429747Z"
    }
   },
   "outputs": [
    {
     "data": {
      "text/plain": [
       " 1.0\n",
       " 4.0\n",
       " 2.0\n",
       " 1.0\n",
       " 3.0\n",
       " 5.0\n",
       "[torch.FloatStorage of size 6]"
      ]
     },
     "execution_count": 44,
     "metadata": {},
     "output_type": "execute_result"
    }
   ],
   "source": [
    "d.storage()"
   ]
  },
  {
   "cell_type": "code",
   "execution_count": 45,
   "metadata": {
    "ExecuteTime": {
     "end_time": "2019-04-11T05:01:34.276451Z",
     "start_time": "2019-04-11T05:01:34.271544Z"
    }
   },
   "outputs": [],
   "source": [
    "e = torch.tensor([[[1.0, 3.0],\n",
    "                   [5.0, 7.0]],\n",
    "                  [[2.0, 4.0],\n",
    "                   [6.0, 8.0]],\n",
    "                 ])"
   ]
  },
  {
   "cell_type": "code",
   "execution_count": 46,
   "metadata": {
    "ExecuteTime": {
     "end_time": "2019-04-11T05:01:34.770373Z",
     "start_time": "2019-04-11T05:01:34.765129Z"
    }
   },
   "outputs": [
    {
     "data": {
      "text/plain": [
       " 1.0\n",
       " 3.0\n",
       " 5.0\n",
       " 7.0\n",
       " 2.0\n",
       " 4.0\n",
       " 6.0\n",
       " 8.0\n",
       "[torch.FloatStorage of size 8]"
      ]
     },
     "execution_count": 46,
     "metadata": {},
     "output_type": "execute_result"
    }
   ],
   "source": [
    "e.storage()"
   ]
  },
  {
   "cell_type": "code",
   "execution_count": 47,
   "metadata": {
    "ExecuteTime": {
     "end_time": "2019-04-11T05:01:35.357265Z",
     "start_time": "2019-04-11T05:01:35.349646Z"
    }
   },
   "outputs": [
    {
     "data": {
      "text/plain": [
       "torch.Size([2, 2, 2])"
      ]
     },
     "execution_count": 47,
     "metadata": {},
     "output_type": "execute_result"
    }
   ],
   "source": [
    "e.shape"
   ]
  },
  {
   "cell_type": "code",
   "execution_count": 48,
   "metadata": {
    "ExecuteTime": {
     "end_time": "2019-04-11T05:01:37.189583Z",
     "start_time": "2019-04-11T05:01:37.183901Z"
    }
   },
   "outputs": [
    {
     "data": {
      "text/plain": [
       "0"
      ]
     },
     "execution_count": 48,
     "metadata": {},
     "output_type": "execute_result"
    }
   ],
   "source": [
    "e.storage_offset()"
   ]
  },
  {
   "cell_type": "code",
   "execution_count": 49,
   "metadata": {
    "ExecuteTime": {
     "end_time": "2019-04-11T05:01:37.406115Z",
     "start_time": "2019-04-11T05:01:37.400013Z"
    }
   },
   "outputs": [
    {
     "data": {
      "text/plain": [
       "(4, 2, 1)"
      ]
     },
     "execution_count": 49,
     "metadata": {},
     "output_type": "execute_result"
    }
   ],
   "source": [
    "e.stride()"
   ]
  },
  {
   "cell_type": "code",
   "execution_count": 50,
   "metadata": {
    "ExecuteTime": {
     "end_time": "2019-04-11T05:01:37.573196Z",
     "start_time": "2019-04-11T05:01:37.567654Z"
    }
   },
   "outputs": [
    {
     "data": {
      "text/plain": [
       "torch.Size([2, 2, 2])"
      ]
     },
     "execution_count": 50,
     "metadata": {},
     "output_type": "execute_result"
    }
   ],
   "source": [
    "e.size()"
   ]
  },
  {
   "cell_type": "code",
   "execution_count": 85,
   "metadata": {
    "ExecuteTime": {
     "end_time": "2019-04-11T05:04:59.766573Z",
     "start_time": "2019-04-11T05:04:59.760239Z"
    }
   },
   "outputs": [],
   "source": [
    "inputs = torch.tensor([[1.0, 4.0], [2.0, 1.0], [3.0, 5.0]])"
   ]
  },
  {
   "cell_type": "code",
   "execution_count": 86,
   "metadata": {
    "ExecuteTime": {
     "end_time": "2019-04-11T05:05:00.158883Z",
     "start_time": "2019-04-11T05:05:00.151979Z"
    }
   },
   "outputs": [
    {
     "data": {
      "text/plain": [
       "tensor([[1., 4.],\n",
       "        [2., 1.],\n",
       "        [3., 5.]])"
      ]
     },
     "execution_count": 86,
     "metadata": {},
     "output_type": "execute_result"
    }
   ],
   "source": [
    "inputs"
   ]
  },
  {
   "cell_type": "code",
   "execution_count": 87,
   "metadata": {
    "ExecuteTime": {
     "end_time": "2019-04-11T05:05:00.610340Z",
     "start_time": "2019-04-11T05:05:00.604669Z"
    }
   },
   "outputs": [
    {
     "data": {
      "text/plain": [
       "torch.Size([3, 2])"
      ]
     },
     "execution_count": 87,
     "metadata": {},
     "output_type": "execute_result"
    }
   ],
   "source": [
    "inputs.size()"
   ]
  },
  {
   "cell_type": "code",
   "execution_count": 88,
   "metadata": {
    "ExecuteTime": {
     "end_time": "2019-04-11T05:05:00.932630Z",
     "start_time": "2019-04-11T05:05:00.926929Z"
    }
   },
   "outputs": [
    {
     "data": {
      "text/plain": [
       "(2, 1)"
      ]
     },
     "execution_count": 88,
     "metadata": {},
     "output_type": "execute_result"
    }
   ],
   "source": [
    "inputs.stride()"
   ]
  },
  {
   "cell_type": "code",
   "execution_count": 89,
   "metadata": {
    "ExecuteTime": {
     "end_time": "2019-04-11T05:05:01.162842Z",
     "start_time": "2019-04-11T05:05:01.156865Z"
    }
   },
   "outputs": [
    {
     "data": {
      "text/plain": [
       " 1.0\n",
       " 4.0\n",
       " 2.0\n",
       " 1.0\n",
       " 3.0\n",
       " 5.0\n",
       "[torch.FloatStorage of size 6]"
      ]
     },
     "execution_count": 89,
     "metadata": {},
     "output_type": "execute_result"
    }
   ],
   "source": [
    "inputs.storage()"
   ]
  },
  {
   "cell_type": "markdown",
   "metadata": {},
   "source": [
    "## Subset a Tensor"
   ]
  },
  {
   "cell_type": "code",
   "execution_count": 90,
   "metadata": {
    "ExecuteTime": {
     "end_time": "2019-04-11T05:05:01.675874Z",
     "start_time": "2019-04-11T05:05:01.668713Z"
    }
   },
   "outputs": [
    {
     "data": {
      "text/plain": [
       "tensor([3., 5.])"
      ]
     },
     "execution_count": 90,
     "metadata": {},
     "output_type": "execute_result"
    }
   ],
   "source": [
    "inputs[2]"
   ]
  },
  {
   "cell_type": "code",
   "execution_count": 91,
   "metadata": {
    "ExecuteTime": {
     "end_time": "2019-04-11T05:05:01.869836Z",
     "start_time": "2019-04-11T05:05:01.859459Z"
    }
   },
   "outputs": [
    {
     "data": {
      "text/plain": [
       "tensor([[1., 4.],\n",
       "        [2., 1.]])"
      ]
     },
     "execution_count": 91,
     "metadata": {},
     "output_type": "execute_result"
    }
   ],
   "source": [
    "inputs[:2]"
   ]
  },
  {
   "cell_type": "code",
   "execution_count": 92,
   "metadata": {
    "ExecuteTime": {
     "end_time": "2019-04-11T05:05:02.164010Z",
     "start_time": "2019-04-11T05:05:02.158143Z"
    }
   },
   "outputs": [
    {
     "data": {
      "text/plain": [
       "tensor([[2., 1.],\n",
       "        [3., 5.]])"
      ]
     },
     "execution_count": 92,
     "metadata": {},
     "output_type": "execute_result"
    }
   ],
   "source": [
    "inputs[1:] # all rows but first, implicitly all columns"
   ]
  },
  {
   "cell_type": "code",
   "execution_count": 93,
   "metadata": {
    "ExecuteTime": {
     "end_time": "2019-04-11T05:05:02.353480Z",
     "start_time": "2019-04-11T05:05:02.346614Z"
    }
   },
   "outputs": [
    {
     "data": {
      "text/plain": [
       "tensor([[2., 1.],\n",
       "        [3., 5.]])"
      ]
     },
     "execution_count": 93,
     "metadata": {},
     "output_type": "execute_result"
    }
   ],
   "source": [
    "inputs[1:, :] # all rows but first, explicitly all columns"
   ]
  },
  {
   "cell_type": "code",
   "execution_count": 94,
   "metadata": {
    "ExecuteTime": {
     "end_time": "2019-04-11T05:05:02.527532Z",
     "start_time": "2019-04-11T05:05:02.521750Z"
    }
   },
   "outputs": [
    {
     "data": {
      "text/plain": [
       "tensor(1.)"
      ]
     },
     "execution_count": 94,
     "metadata": {},
     "output_type": "execute_result"
    }
   ],
   "source": [
    "inputs[0,0]"
   ]
  },
  {
   "cell_type": "code",
   "execution_count": 95,
   "metadata": {
    "ExecuteTime": {
     "end_time": "2019-04-11T05:05:02.703026Z",
     "start_time": "2019-04-11T05:05:02.697208Z"
    }
   },
   "outputs": [
    {
     "data": {
      "text/plain": [
       "tensor(4.)"
      ]
     },
     "execution_count": 95,
     "metadata": {},
     "output_type": "execute_result"
    }
   ],
   "source": [
    "inputs[0,1]"
   ]
  },
  {
   "cell_type": "code",
   "execution_count": 96,
   "metadata": {
    "ExecuteTime": {
     "end_time": "2019-04-11T05:05:02.867984Z",
     "start_time": "2019-04-11T05:05:02.861740Z"
    }
   },
   "outputs": [
    {
     "data": {
      "text/plain": [
       "tensor(2.)"
      ]
     },
     "execution_count": 96,
     "metadata": {},
     "output_type": "execute_result"
    }
   ],
   "source": [
    "inputs[1,0]"
   ]
  },
  {
   "cell_type": "code",
   "execution_count": 97,
   "metadata": {
    "ExecuteTime": {
     "end_time": "2019-04-11T05:05:03.043910Z",
     "start_time": "2019-04-11T05:05:03.037434Z"
    }
   },
   "outputs": [
    {
     "data": {
      "text/plain": [
       "tensor([1., 4.])"
      ]
     },
     "execution_count": 97,
     "metadata": {},
     "output_type": "execute_result"
    }
   ],
   "source": [
    "inputs[0]"
   ]
  },
  {
   "cell_type": "markdown",
   "metadata": {},
   "source": [
    "**Note the changing the `sub-tensor` extracted (instead of cloned) from the original will change the original tensor**"
   ]
  },
  {
   "cell_type": "code",
   "execution_count": 98,
   "metadata": {
    "ExecuteTime": {
     "end_time": "2019-04-11T05:05:03.377837Z",
     "start_time": "2019-04-11T05:05:03.374103Z"
    }
   },
   "outputs": [],
   "source": [
    "second_inputs = inputs[0]"
   ]
  },
  {
   "cell_type": "code",
   "execution_count": 99,
   "metadata": {
    "ExecuteTime": {
     "end_time": "2019-04-11T05:05:03.555091Z",
     "start_time": "2019-04-11T05:05:03.549053Z"
    }
   },
   "outputs": [
    {
     "data": {
      "text/plain": [
       "tensor([1., 4.])"
      ]
     },
     "execution_count": 99,
     "metadata": {},
     "output_type": "execute_result"
    }
   ],
   "source": [
    "second_inputs"
   ]
  },
  {
   "cell_type": "code",
   "execution_count": 100,
   "metadata": {
    "ExecuteTime": {
     "end_time": "2019-04-11T05:05:04.029621Z",
     "start_time": "2019-04-11T05:05:04.026620Z"
    }
   },
   "outputs": [],
   "source": [
    "second_inputs[0] = 100.0"
   ]
  },
  {
   "cell_type": "code",
   "execution_count": 101,
   "metadata": {
    "ExecuteTime": {
     "end_time": "2019-04-11T05:05:04.239375Z",
     "start_time": "2019-04-11T05:05:04.232986Z"
    }
   },
   "outputs": [
    {
     "data": {
      "text/plain": [
       "tensor([[100.,   4.],\n",
       "        [  2.,   1.],\n",
       "        [  3.,   5.]])"
      ]
     },
     "execution_count": 101,
     "metadata": {},
     "output_type": "execute_result"
    }
   ],
   "source": [
    "inputs"
   ]
  },
  {
   "cell_type": "code",
   "execution_count": 102,
   "metadata": {
    "ExecuteTime": {
     "end_time": "2019-04-11T05:05:04.581447Z",
     "start_time": "2019-04-11T05:05:04.575158Z"
    }
   },
   "outputs": [
    {
     "data": {
      "text/plain": [
       "tensor(100.)"
      ]
     },
     "execution_count": 102,
     "metadata": {},
     "output_type": "execute_result"
    }
   ],
   "source": [
    "inputs[0,0]"
   ]
  },
  {
   "cell_type": "markdown",
   "metadata": {},
   "source": [
    "**If we don't want to change the original tensure when changing the `sub-tensor`, we will need to clone the sub-tensor from the original**"
   ]
  },
  {
   "cell_type": "code",
   "execution_count": 103,
   "metadata": {
    "ExecuteTime": {
     "end_time": "2019-04-11T05:05:06.474838Z",
     "start_time": "2019-04-11T05:05:06.471013Z"
    }
   },
   "outputs": [],
   "source": [
    "a = torch.tensor([[1.0, 4.0], [2.0, 1.0], [3.0, 5.0]])"
   ]
  },
  {
   "cell_type": "code",
   "execution_count": 104,
   "metadata": {
    "ExecuteTime": {
     "end_time": "2019-04-11T05:05:06.635823Z",
     "start_time": "2019-04-11T05:05:06.630622Z"
    }
   },
   "outputs": [],
   "source": [
    "b = a[0].clone()"
   ]
  },
  {
   "cell_type": "code",
   "execution_count": 105,
   "metadata": {
    "ExecuteTime": {
     "end_time": "2019-04-11T05:05:06.793080Z",
     "start_time": "2019-04-11T05:05:06.788492Z"
    }
   },
   "outputs": [],
   "source": [
    "b[0] = 100.0"
   ]
  },
  {
   "cell_type": "markdown",
   "metadata": {},
   "source": [
    "## Transpose a Tensor"
   ]
  },
  {
   "cell_type": "markdown",
   "metadata": {},
   "source": [
    "### Transposing a matrix"
   ]
  },
  {
   "cell_type": "code",
   "execution_count": 106,
   "metadata": {
    "ExecuteTime": {
     "end_time": "2019-04-11T05:05:07.321805Z",
     "start_time": "2019-04-11T05:05:07.316410Z"
    }
   },
   "outputs": [
    {
     "data": {
      "text/plain": [
       "tensor([[1., 4.],\n",
       "        [2., 1.],\n",
       "        [3., 5.]])"
      ]
     },
     "execution_count": 106,
     "metadata": {},
     "output_type": "execute_result"
    }
   ],
   "source": [
    "a"
   ]
  },
  {
   "cell_type": "code",
   "execution_count": 107,
   "metadata": {
    "ExecuteTime": {
     "end_time": "2019-04-11T05:05:07.490659Z",
     "start_time": "2019-04-11T05:05:07.487918Z"
    }
   },
   "outputs": [],
   "source": [
    "a_t = a.t()"
   ]
  },
  {
   "cell_type": "code",
   "execution_count": 108,
   "metadata": {
    "ExecuteTime": {
     "end_time": "2019-04-11T05:05:07.857951Z",
     "start_time": "2019-04-11T05:05:07.851694Z"
    }
   },
   "outputs": [
    {
     "data": {
      "text/plain": [
       "tensor([[1., 2., 3.],\n",
       "        [4., 1., 5.]])"
      ]
     },
     "execution_count": 108,
     "metadata": {},
     "output_type": "execute_result"
    }
   ],
   "source": [
    "a_t"
   ]
  },
  {
   "cell_type": "code",
   "execution_count": 109,
   "metadata": {
    "ExecuteTime": {
     "end_time": "2019-04-11T05:05:08.103920Z",
     "start_time": "2019-04-11T05:05:08.099344Z"
    }
   },
   "outputs": [
    {
     "data": {
      "text/plain": [
       " 1.0\n",
       " 4.0\n",
       " 2.0\n",
       " 1.0\n",
       " 3.0\n",
       " 5.0\n",
       "[torch.FloatStorage of size 6]"
      ]
     },
     "execution_count": 109,
     "metadata": {},
     "output_type": "execute_result"
    }
   ],
   "source": [
    "a.storage()"
   ]
  },
  {
   "cell_type": "code",
   "execution_count": 110,
   "metadata": {
    "ExecuteTime": {
     "end_time": "2019-04-11T05:05:08.339558Z",
     "start_time": "2019-04-11T05:05:08.334929Z"
    }
   },
   "outputs": [
    {
     "data": {
      "text/plain": [
       " 1.0\n",
       " 4.0\n",
       " 2.0\n",
       " 1.0\n",
       " 3.0\n",
       " 5.0\n",
       "[torch.FloatStorage of size 6]"
      ]
     },
     "execution_count": 110,
     "metadata": {},
     "output_type": "execute_result"
    }
   ],
   "source": [
    "a_t.storage()"
   ]
  },
  {
   "cell_type": "markdown",
   "metadata": {},
   "source": [
    "**Transposing a tensor does not change its storage**"
   ]
  },
  {
   "cell_type": "code",
   "execution_count": 111,
   "metadata": {
    "ExecuteTime": {
     "end_time": "2019-04-11T05:05:09.119332Z",
     "start_time": "2019-04-11T05:05:09.114719Z"
    }
   },
   "outputs": [
    {
     "data": {
      "text/plain": [
       "True"
      ]
     },
     "execution_count": 111,
     "metadata": {},
     "output_type": "execute_result"
    }
   ],
   "source": [
    "id(a.storage()) == id(a_t.storage())"
   ]
  },
  {
   "cell_type": "markdown",
   "metadata": {},
   "source": [
    "### Transposing a Multi-Dimensional Array"
   ]
  },
  {
   "cell_type": "code",
   "execution_count": 112,
   "metadata": {
    "ExecuteTime": {
     "end_time": "2019-04-11T05:05:10.829774Z",
     "start_time": "2019-04-11T05:05:10.827088Z"
    }
   },
   "outputs": [],
   "source": [
    "A = torch.ones(3, 4, 5)"
   ]
  },
  {
   "cell_type": "code",
   "execution_count": 113,
   "metadata": {
    "ExecuteTime": {
     "end_time": "2019-04-11T05:05:11.033519Z",
     "start_time": "2019-04-11T05:05:11.026007Z"
    }
   },
   "outputs": [
    {
     "data": {
      "text/plain": [
       "tensor([[[1., 1., 1., 1., 1.],\n",
       "         [1., 1., 1., 1., 1.],\n",
       "         [1., 1., 1., 1., 1.],\n",
       "         [1., 1., 1., 1., 1.]],\n",
       "\n",
       "        [[1., 1., 1., 1., 1.],\n",
       "         [1., 1., 1., 1., 1.],\n",
       "         [1., 1., 1., 1., 1.],\n",
       "         [1., 1., 1., 1., 1.]],\n",
       "\n",
       "        [[1., 1., 1., 1., 1.],\n",
       "         [1., 1., 1., 1., 1.],\n",
       "         [1., 1., 1., 1., 1.],\n",
       "         [1., 1., 1., 1., 1.]]])"
      ]
     },
     "execution_count": 113,
     "metadata": {},
     "output_type": "execute_result"
    }
   ],
   "source": [
    "A"
   ]
  },
  {
   "cell_type": "markdown",
   "metadata": {},
   "source": [
    "To transpose a multi-dimensional array, the dimension along which the tanspose is performed needs to be specified"
   ]
  },
  {
   "cell_type": "code",
   "execution_count": 114,
   "metadata": {
    "ExecuteTime": {
     "end_time": "2019-04-11T05:05:11.410903Z",
     "start_time": "2019-04-11T05:05:11.407321Z"
    }
   },
   "outputs": [],
   "source": [
    "A_t = A.transpose(0,2)"
   ]
  },
  {
   "cell_type": "code",
   "execution_count": 115,
   "metadata": {
    "ExecuteTime": {
     "end_time": "2019-04-11T05:05:11.590188Z",
     "start_time": "2019-04-11T05:05:11.584603Z"
    }
   },
   "outputs": [
    {
     "data": {
      "text/plain": [
       "torch.Size([3, 4, 5])"
      ]
     },
     "execution_count": 115,
     "metadata": {},
     "output_type": "execute_result"
    }
   ],
   "source": [
    "A.size()"
   ]
  },
  {
   "cell_type": "code",
   "execution_count": 116,
   "metadata": {
    "ExecuteTime": {
     "end_time": "2019-04-11T05:05:11.776296Z",
     "start_time": "2019-04-11T05:05:11.770998Z"
    }
   },
   "outputs": [
    {
     "data": {
      "text/plain": [
       "torch.Size([5, 4, 3])"
      ]
     },
     "execution_count": 116,
     "metadata": {},
     "output_type": "execute_result"
    }
   ],
   "source": [
    "A_t.size()"
   ]
  },
  {
   "cell_type": "code",
   "execution_count": 117,
   "metadata": {
    "ExecuteTime": {
     "end_time": "2019-04-11T05:05:12.139226Z",
     "start_time": "2019-04-11T05:05:12.133195Z"
    }
   },
   "outputs": [
    {
     "data": {
      "text/plain": [
       "(20, 5, 1)"
      ]
     },
     "execution_count": 117,
     "metadata": {},
     "output_type": "execute_result"
    }
   ],
   "source": [
    "A.stride()"
   ]
  },
  {
   "cell_type": "code",
   "execution_count": 118,
   "metadata": {
    "ExecuteTime": {
     "end_time": "2019-04-11T05:05:13.607218Z",
     "start_time": "2019-04-11T05:05:13.601040Z"
    }
   },
   "outputs": [
    {
     "data": {
      "text/plain": [
       "(1, 5, 20)"
      ]
     },
     "execution_count": 118,
     "metadata": {},
     "output_type": "execute_result"
    }
   ],
   "source": [
    "A_t.stride()"
   ]
  },
  {
   "cell_type": "markdown",
   "metadata": {},
   "source": [
    "### NumPy Interoperability"
   ]
  },
  {
   "cell_type": "code",
   "execution_count": 119,
   "metadata": {
    "ExecuteTime": {
     "end_time": "2019-04-11T05:05:14.170454Z",
     "start_time": "2019-04-11T05:05:14.167229Z"
    }
   },
   "outputs": [],
   "source": [
    "x = torch.ones(3,3)"
   ]
  },
  {
   "cell_type": "code",
   "execution_count": 120,
   "metadata": {
    "ExecuteTime": {
     "end_time": "2019-04-11T05:05:14.439045Z",
     "start_time": "2019-04-11T05:05:14.433161Z"
    }
   },
   "outputs": [
    {
     "data": {
      "text/plain": [
       "tensor([[1., 1., 1.],\n",
       "        [1., 1., 1.],\n",
       "        [1., 1., 1.]])"
      ]
     },
     "execution_count": 120,
     "metadata": {},
     "output_type": "execute_result"
    }
   ],
   "source": [
    "x"
   ]
  },
  {
   "cell_type": "code",
   "execution_count": 121,
   "metadata": {
    "ExecuteTime": {
     "end_time": "2019-04-11T05:05:14.631745Z",
     "start_time": "2019-04-11T05:05:14.627423Z"
    }
   },
   "outputs": [],
   "source": [
    "x_np = x.numpy()"
   ]
  },
  {
   "cell_type": "code",
   "execution_count": 122,
   "metadata": {
    "ExecuteTime": {
     "end_time": "2019-04-11T05:05:14.823808Z",
     "start_time": "2019-04-11T05:05:14.818330Z"
    }
   },
   "outputs": [
    {
     "data": {
      "text/plain": [
       "torch.float32"
      ]
     },
     "execution_count": 122,
     "metadata": {},
     "output_type": "execute_result"
    }
   ],
   "source": [
    "x.dtype"
   ]
  },
  {
   "cell_type": "code",
   "execution_count": 123,
   "metadata": {
    "ExecuteTime": {
     "end_time": "2019-04-11T05:05:14.964935Z",
     "start_time": "2019-04-11T05:05:14.958415Z"
    }
   },
   "outputs": [
    {
     "data": {
      "text/plain": [
       "dtype('float32')"
      ]
     },
     "execution_count": 123,
     "metadata": {},
     "output_type": "execute_result"
    }
   ],
   "source": [
    "x_np.dtype"
   ]
  },
  {
   "cell_type": "code",
   "execution_count": 124,
   "metadata": {
    "ExecuteTime": {
     "end_time": "2019-04-11T05:05:15.233426Z",
     "start_time": "2019-04-11T05:05:15.227273Z"
    }
   },
   "outputs": [
    {
     "data": {
      "text/plain": [
       "torch.float32"
      ]
     },
     "execution_count": 124,
     "metadata": {},
     "output_type": "execute_result"
    }
   ],
   "source": [
    "x2 = torch.from_numpy(x_np)\n",
    "x2.dtype"
   ]
  },
  {
   "cell_type": "markdown",
   "metadata": {},
   "source": [
    "### Tensors on GPU"
   ]
  },
  {
   "cell_type": "markdown",
   "metadata": {},
   "source": [
    "We will discuss more about this in the last section of the course"
   ]
  },
  {
   "cell_type": "markdown",
   "metadata": {},
   "source": [
    "```python\n",
    "   matrix_gpu = torch.tensor([[1.0, 4.0], [2.0, 1.0], [3.0, 4.0]], device='cuda')\n",
    "   # transfer a tensor created on the CPU onto GPU using the to method \n",
    "   x2_gpu = x2.to(device='cuda') \n",
    "    \n",
    "   points_gpu = points.to(device='cuda:0') \n",
    "```\n",
    "\n",
    "CPU vs. GPU Performance Comparison \n",
    "```python\n",
    "a = torch.rand(10000,10000)\n",
    "b = torch.rand(10000,10000)\n",
    "a.matmul(b)\n",
    "\n",
    "#Move the tensors to GPU\n",
    "a = a.cuda()\n",
    "b = b.cuda()\n",
    "a.matmul(b)\n",
    "\n",
    "```"
   ]
  },
  {
   "cell_type": "markdown",
   "metadata": {},
   "source": [
    "# Gradient Computation"
   ]
  },
  {
   "cell_type": "markdown",
   "metadata": {},
   "source": [
    "Partial derivative of a function of several variables:\n",
    "\n",
    "$$ \\frac{\\partial f(x_1, x_2, \\dots, x_p)}{\\partial x_i} |_{\\text{other variables constant}}$$"
   ]
  },
  {
   "cell_type": "markdown",
   "metadata": {},
   "source": [
    "* `torch.Tensor`\n",
    "\n",
    "* `torch.autograd` is an engine for computing vector-Jacobian product\n",
    "\n",
    "* `.requires_grad`\n",
    "\n",
    "* `.backward()`\n",
    "\n",
    "* `.grad`\n",
    "\n",
    "* `.detach()`\n",
    "\n",
    "* `with torch.no_grad()`\n",
    "\n",
    "* `Function`\n",
    "\n",
    "* `Tensor` and `Function` are connected and build up an acyclic graph, that encodes a complete history of computation."
   ]
  },
  {
   "cell_type": "markdown",
   "metadata": {},
   "source": [
    "Let's look at a couple of examples:"
   ]
  },
  {
   "cell_type": "markdown",
   "metadata": {
    "ExecuteTime": {
     "end_time": "2019-04-01T04:17:41.830974Z",
     "start_time": "2019-04-01T04:17:41.826578Z"
    }
   },
   "source": [
    "Example 1"
   ]
  },
  {
   "cell_type": "markdown",
   "metadata": {},
   "source": [
    "1. Create a variable and set `.requires_grad` to True"
   ]
  },
  {
   "cell_type": "code",
   "execution_count": 125,
   "metadata": {
    "ExecuteTime": {
     "end_time": "2019-04-11T05:05:28.500776Z",
     "start_time": "2019-04-11T05:05:28.497791Z"
    }
   },
   "outputs": [],
   "source": [
    "import torch\n",
    "x = torch.ones(5,requires_grad=True)"
   ]
  },
  {
   "cell_type": "code",
   "execution_count": 126,
   "metadata": {
    "ExecuteTime": {
     "end_time": "2019-04-11T05:05:28.931596Z",
     "start_time": "2019-04-11T05:05:28.926184Z"
    }
   },
   "outputs": [
    {
     "data": {
      "text/plain": [
       "tensor([1., 1., 1., 1., 1.], requires_grad=True)"
      ]
     },
     "execution_count": 126,
     "metadata": {},
     "output_type": "execute_result"
    }
   ],
   "source": [
    "x"
   ]
  },
  {
   "cell_type": "code",
   "execution_count": 127,
   "metadata": {
    "ExecuteTime": {
     "end_time": "2019-04-11T05:05:29.462547Z",
     "start_time": "2019-04-11T05:05:29.457240Z"
    }
   },
   "outputs": [
    {
     "data": {
      "text/plain": [
       "<function Tensor.type>"
      ]
     },
     "execution_count": 127,
     "metadata": {},
     "output_type": "execute_result"
    }
   ],
   "source": [
    "x.type"
   ]
  },
  {
   "cell_type": "code",
   "execution_count": 128,
   "metadata": {
    "ExecuteTime": {
     "end_time": "2019-04-11T05:05:29.906469Z",
     "start_time": "2019-04-11T05:05:29.903450Z"
    }
   },
   "outputs": [],
   "source": [
    "x.grad"
   ]
  },
  {
   "cell_type": "markdown",
   "metadata": {},
   "source": [
    "Note that at this point, `x.grad` does not output anything because there is no operation performed on the tensor `x` yet. However, let's create another tensor `y` by performing a few operations (i.e. taking the mean) on the original tensor `x`."
   ]
  },
  {
   "cell_type": "code",
   "execution_count": 129,
   "metadata": {
    "ExecuteTime": {
     "end_time": "2019-04-11T05:05:31.218907Z",
     "start_time": "2019-04-11T05:05:31.214076Z"
    }
   },
   "outputs": [],
   "source": [
    "y = x + 2\n",
    "z = y.mean()"
   ]
  },
  {
   "cell_type": "code",
   "execution_count": 130,
   "metadata": {
    "ExecuteTime": {
     "end_time": "2019-04-11T05:05:31.705235Z",
     "start_time": "2019-04-11T05:05:31.699272Z"
    }
   },
   "outputs": [
    {
     "data": {
      "text/plain": [
       "<function Tensor.type>"
      ]
     },
     "execution_count": 130,
     "metadata": {},
     "output_type": "execute_result"
    }
   ],
   "source": [
    "z.type"
   ]
  },
  {
   "cell_type": "code",
   "execution_count": 131,
   "metadata": {
    "ExecuteTime": {
     "end_time": "2019-04-11T05:05:32.101603Z",
     "start_time": "2019-04-11T05:05:32.094230Z"
    }
   },
   "outputs": [
    {
     "data": {
      "text/plain": [
       "tensor(3., grad_fn=<MeanBackward1>)"
      ]
     },
     "execution_count": 131,
     "metadata": {},
     "output_type": "execute_result"
    }
   ],
   "source": [
    "z"
   ]
  },
  {
   "cell_type": "code",
   "execution_count": 132,
   "metadata": {
    "ExecuteTime": {
     "end_time": "2019-04-11T05:05:32.295005Z",
     "start_time": "2019-04-11T05:05:32.288562Z"
    }
   },
   "outputs": [
    {
     "data": {
      "text/plain": [
       "tensor([0.2000, 0.2000, 0.2000, 0.2000, 0.2000])"
      ]
     },
     "execution_count": 132,
     "metadata": {},
     "output_type": "execute_result"
    }
   ],
   "source": [
    "z.backward()\n",
    "x.grad"
   ]
  },
  {
   "cell_type": "code",
   "execution_count": 133,
   "metadata": {
    "ExecuteTime": {
     "end_time": "2019-04-11T05:05:32.793573Z",
     "start_time": "2019-04-11T05:05:32.790669Z"
    }
   },
   "outputs": [],
   "source": [
    "x.grad_fn"
   ]
  },
  {
   "cell_type": "code",
   "execution_count": 134,
   "metadata": {
    "ExecuteTime": {
     "end_time": "2019-04-11T05:05:32.951351Z",
     "start_time": "2019-04-11T05:05:32.945821Z"
    }
   },
   "outputs": [
    {
     "data": {
      "text/plain": [
       "tensor([1., 1., 1., 1., 1.])"
      ]
     },
     "execution_count": 134,
     "metadata": {},
     "output_type": "execute_result"
    }
   ],
   "source": [
    "x.data"
   ]
  },
  {
   "cell_type": "code",
   "execution_count": 135,
   "metadata": {
    "ExecuteTime": {
     "end_time": "2019-04-11T05:05:33.134166Z",
     "start_time": "2019-04-11T05:05:33.128460Z"
    }
   },
   "outputs": [
    {
     "data": {
      "text/plain": [
       "<AddBackward0 at 0x117b0b6d8>"
      ]
     },
     "execution_count": 135,
     "metadata": {},
     "output_type": "execute_result"
    }
   ],
   "source": [
    "y.grad_fn"
   ]
  },
  {
   "cell_type": "code",
   "execution_count": 136,
   "metadata": {
    "ExecuteTime": {
     "end_time": "2019-04-11T05:05:33.310302Z",
     "start_time": "2019-04-11T05:05:33.305537Z"
    }
   },
   "outputs": [
    {
     "data": {
      "text/plain": [
       "<MeanBackward1 at 0x117b0b8d0>"
      ]
     },
     "execution_count": 136,
     "metadata": {},
     "output_type": "execute_result"
    }
   ],
   "source": [
    "z.grad_fn"
   ]
  },
  {
   "cell_type": "markdown",
   "metadata": {
    "ExecuteTime": {
     "end_time": "2019-04-01T03:46:19.809686Z",
     "start_time": "2019-04-01T03:46:19.804980Z"
    }
   },
   "source": [
    "Example 2"
   ]
  },
  {
   "cell_type": "code",
   "execution_count": 137,
   "metadata": {
    "ExecuteTime": {
     "end_time": "2019-04-11T05:05:33.640692Z",
     "start_time": "2019-04-11T05:05:33.635891Z"
    }
   },
   "outputs": [],
   "source": [
    "x = torch.ones(2, 2, requires_grad=True)\n",
    "y = x + 5\n",
    "z = 2 * y * y  # 2*(x+5)^2\n",
    "h = z.mean()"
   ]
  },
  {
   "cell_type": "code",
   "execution_count": 138,
   "metadata": {
    "ExecuteTime": {
     "end_time": "2019-04-11T05:05:35.209242Z",
     "start_time": "2019-04-11T05:05:35.202717Z"
    }
   },
   "outputs": [
    {
     "data": {
      "text/plain": [
       "tensor([[72., 72.],\n",
       "        [72., 72.]], grad_fn=<MulBackward0>)"
      ]
     },
     "execution_count": 138,
     "metadata": {},
     "output_type": "execute_result"
    }
   ],
   "source": [
    "z"
   ]
  },
  {
   "cell_type": "code",
   "execution_count": 139,
   "metadata": {
    "ExecuteTime": {
     "end_time": "2019-04-11T05:05:35.719273Z",
     "start_time": "2019-04-11T05:05:35.714109Z"
    }
   },
   "outputs": [
    {
     "data": {
      "text/plain": [
       "torch.Size([2, 2])"
      ]
     },
     "execution_count": 139,
     "metadata": {},
     "output_type": "execute_result"
    }
   ],
   "source": [
    "z.shape"
   ]
  },
  {
   "cell_type": "code",
   "execution_count": 140,
   "metadata": {
    "ExecuteTime": {
     "end_time": "2019-04-11T05:05:36.450043Z",
     "start_time": "2019-04-11T05:05:36.442445Z"
    }
   },
   "outputs": [
    {
     "data": {
      "text/plain": [
       "torch.Size([])"
      ]
     },
     "execution_count": 140,
     "metadata": {},
     "output_type": "execute_result"
    }
   ],
   "source": [
    "h.shape"
   ]
  },
  {
   "cell_type": "code",
   "execution_count": 141,
   "metadata": {
    "ExecuteTime": {
     "end_time": "2019-04-11T05:05:38.689565Z",
     "start_time": "2019-04-11T05:05:38.683624Z"
    }
   },
   "outputs": [
    {
     "data": {
      "text/plain": [
       "tensor(72., grad_fn=<MeanBackward1>)"
      ]
     },
     "execution_count": 141,
     "metadata": {},
     "output_type": "execute_result"
    }
   ],
   "source": [
    "h"
   ]
  },
  {
   "cell_type": "code",
   "execution_count": 142,
   "metadata": {
    "ExecuteTime": {
     "end_time": "2019-04-11T05:05:39.413949Z",
     "start_time": "2019-04-11T05:05:39.408329Z"
    }
   },
   "outputs": [],
   "source": [
    "h.backward()"
   ]
  },
  {
   "cell_type": "code",
   "execution_count": 143,
   "metadata": {
    "ExecuteTime": {
     "end_time": "2019-04-11T05:05:39.962889Z",
     "start_time": "2019-04-11T05:05:39.956775Z"
    }
   },
   "outputs": [
    {
     "name": "stdout",
     "output_type": "stream",
     "text": [
      "tensor([[6., 6.],\n",
      "        [6., 6.]])\n"
     ]
    }
   ],
   "source": [
    "print(x.grad)"
   ]
  },
  {
   "cell_type": "markdown",
   "metadata": {},
   "source": [
    "# Lab 1"
   ]
  },
  {
   "cell_type": "code",
   "execution_count": null,
   "metadata": {
    "ExecuteTime": {
     "end_time": "2019-04-11T04:23:59.258960Z",
     "start_time": "2019-04-11T04:23:59.254922Z"
    }
   },
   "outputs": [],
   "source": [
    "# Create a tensor of 20 random numbers from the uniform [0,1) distribution\n",
    "# YOUR CODE HERE (1 line)\n",
    "import torch\n",
    "z = torch.rand(20)"
   ]
  },
  {
   "cell_type": "code",
   "execution_count": null,
   "metadata": {
    "ExecuteTime": {
     "end_time": "2019-04-11T04:24:02.114162Z",
     "start_time": "2019-04-11T04:24:02.104165Z"
    }
   },
   "outputs": [],
   "source": [
    "# What is the mean of these numbers?\n",
    "import numpy as np\n",
    "# YOUR CODE HERE (1 line)\n",
    "np.mean(x.numpy())"
   ]
  },
  {
   "cell_type": "code",
   "execution_count": null,
   "metadata": {
    "ExecuteTime": {
     "end_time": "2019-04-11T04:25:45.433527Z",
     "start_time": "2019-04-11T04:25:45.430172Z"
    }
   },
   "outputs": [],
   "source": [
    "# Create a tensor of 5 zeros\n",
    "# YOUR CODE HERE (1 line)\n",
    "b = torch.zeros(5)"
   ]
  },
  {
   "cell_type": "code",
   "execution_count": null,
   "metadata": {
    "ExecuteTime": {
     "end_time": "2019-04-11T04:25:39.007889Z",
     "start_time": "2019-04-11T04:25:39.002160Z"
    }
   },
   "outputs": [],
   "source": [
    "# Create a tensor of 5 ones\n",
    "# YOUR CODE HERE (1 line)\n",
    "a = torch.ones(5)"
   ]
  },
  {
   "cell_type": "code",
   "execution_count": null,
   "metadata": {
    "ExecuteTime": {
     "end_time": "2019-04-11T04:31:13.810565Z",
     "start_time": "2019-04-11T04:31:13.795624Z"
    }
   },
   "outputs": [],
   "source": [
    "# Given the follow tensor, subset the first 2 rows and first 2 columns of this tensor.\n",
    "A = torch.rand(4,4)\n",
    "# YOUR CODE HERE (1 line)\n",
    "A[:2,:2]"
   ]
  },
  {
   "cell_type": "code",
   "execution_count": null,
   "metadata": {
    "ExecuteTime": {
     "end_time": "2019-04-11T04:34:25.671767Z",
     "start_time": "2019-04-11T04:34:25.664658Z"
    }
   },
   "outputs": [],
   "source": [
    "# What is the shape of the following tensor?\n",
    "X = torch.randint(0, 10, (2, 5, 5))\n",
    "# YOUR CODE HERE (1 line)\n",
    "X.shape"
   ]
  },
  {
   "cell_type": "code",
   "execution_count": null,
   "metadata": {
    "ExecuteTime": {
     "end_time": "2019-04-11T04:57:42.150398Z",
     "start_time": "2019-04-11T04:57:42.144984Z"
    }
   },
   "outputs": [],
   "source": [
    "# Consider the following tensor.\n",
    "# What are the gradients after the operation?\n",
    "\n",
    "p = torch.ones(10, requires_grad=True) \n",
    "q = p + 2\n",
    "r = q.mean()\n",
    "\n",
    "# YOUR CODE HERE (2 lines)"
   ]
  },
  {
   "cell_type": "code",
   "execution_count": null,
   "metadata": {
    "ExecuteTime": {
     "end_time": "2019-04-11T04:48:44.017224Z",
     "start_time": "2019-04-11T04:48:44.008479Z"
    }
   },
   "outputs": [],
   "source": [
    "r.backward()\n",
    "p.grad"
   ]
  }
 ],
 "metadata": {
  "kernelspec": {
   "display_name": "Python [conda env:dl]",
   "language": "python",
   "name": "conda-env-dl-py"
  },
  "language_info": {
   "codemirror_mode": {
    "name": "ipython",
    "version": 3
   },
   "file_extension": ".py",
   "mimetype": "text/x-python",
   "name": "python",
   "nbconvert_exporter": "python",
   "pygments_lexer": "ipython3",
   "version": "3.6.7"
  },
  "toc": {
   "base_numbering": 1,
   "nav_menu": {},
   "number_sections": true,
   "sideBar": true,
   "skip_h1_title": false,
   "title_cell": "Table of Contents",
   "title_sidebar": "Contents",
   "toc_cell": false,
   "toc_position": {},
   "toc_section_display": true,
   "toc_window_display": false
  },
  "varInspector": {
   "cols": {
    "lenName": 16,
    "lenType": 16,
    "lenVar": 40
   },
   "kernels_config": {
    "python": {
     "delete_cmd_postfix": "",
     "delete_cmd_prefix": "del ",
     "library": "var_list.py",
     "varRefreshCmd": "print(var_dic_list())"
    },
    "r": {
     "delete_cmd_postfix": ") ",
     "delete_cmd_prefix": "rm(",
     "library": "var_list.r",
     "varRefreshCmd": "cat(var_dic_list()) "
    }
   },
   "types_to_exclude": [
    "module",
    "function",
    "builtin_function_or_method",
    "instance",
    "_Feature"
   ],
   "window_display": false
  }
 },
 "nbformat": 4,
 "nbformat_minor": 2
}
