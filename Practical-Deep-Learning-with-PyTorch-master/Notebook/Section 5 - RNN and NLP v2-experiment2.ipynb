{
 "cells": [
  {
   "cell_type": "markdown",
   "metadata": {},
   "source": [
    "<div class=\"alert alert-block alert-info\">\n",
    "<font size=\"5\"><b><center> Section 5</font></center>\n",
    "<br>\n",
    "<font size=\"5\"><b><center>Recurrent Neural Network in PyTorch with an Introduction to Natural Language Processing</font></center>\n",
    "</div>"
   ]
  },
  {
   "cell_type": "markdown",
   "metadata": {},
   "source": [
    "Credit: This example is obtained from the following book:\n",
    "\n",
    "Subramanian, Vishnu. 2018. \"*Deep Learning with PyTorch: A Practical Approach to Building Neural Network Models Using PyTorch.*\" Birmingham, U.K., Packt Publishing."
   ]
  },
  {
   "cell_type": "markdown",
   "metadata": {},
   "source": [
    "# Simple Text Processing"
   ]
  },
  {
   "cell_type": "markdown",
   "metadata": {},
   "source": [
    "## Typically Data Preprocessing Steps before Modeling Training for NLP Applications\n",
    "\n",
    "* Read the data from disk\n",
    "* Tokenize the text\n",
    "* Create a mapping from word to a unique integer\n",
    "* Convert the text into lists of integers\n",
    "* Load the data in whatever format your deep learning framework requires\n",
    "* Pad the text so that all the sequences are the same length, so you can process them in batch"
   ]
  },
  {
   "cell_type": "markdown",
   "metadata": {},
   "source": [
    "## Word Embedding"
   ]
  },
  {
   "cell_type": "markdown",
   "metadata": {},
   "source": [
    "Word embedding is a very popular way of representing text data in problems that are solved by deep learning algorithms\n",
    "\n",
    "Word embedding provides a dense representation of a word filled with floating numbers. \n",
    "\n",
    "It drastically reduces the dimension of the dictionary\n",
    "\n"
   ]
  },
  {
   "cell_type": "markdown",
   "metadata": {
    "heading_collapsed": true
   },
   "source": [
    "###  `Torchtext` and Training word embedding by building a sentiment classifier"
   ]
  },
  {
   "cell_type": "markdown",
   "metadata": {
    "hidden": true
   },
   "source": [
    "Torchtext takes a declarative approach to loading its data: \n",
    "\n",
    "  * you tell torchtext how you want the data to look like, and torchtext handles it for you\n",
    "  \n",
    "  * Declaring a Field: The Field specifies how you want a certain field to be processed\n",
    "  \n",
    "The `Field` class is a fundamental component of torchtext and is what makes preprocessing very easy\n",
    "\n"
   ]
  },
  {
   "cell_type": "markdown",
   "metadata": {},
   "source": [
    "### Load `torchtext.datasets`"
   ]
  },
  {
   "cell_type": "markdown",
   "metadata": {},
   "source": [
    "# Use LSTM for Sentiment Classification"
   ]
  },
  {
   "cell_type": "markdown",
   "metadata": {},
   "source": [
    "1. Preparing the data\n",
    "2. Creating the batches \n",
    "3. Creating the network \n",
    "4. Training the model"
   ]
  },
  {
   "cell_type": "code",
   "execution_count": 1,
   "metadata": {
    "ExecuteTime": {
     "end_time": "2019-04-08T22:42:54.266651Z",
     "start_time": "2019-04-08T22:42:15.332306Z"
    }
   },
   "outputs": [],
   "source": [
    "from torchtext import data, datasets\n",
    "from torchtext.vocab import GloVe,FastText,CharNGram\n",
    "\n",
    "TEXT = data.Field(lower=True, fix_length=100,batch_first=False)\n",
    "LABEL = data.Field(sequential=False,)\n",
    "\n",
    "train, test = datasets.imdb.IMDB.splits(TEXT, LABEL)\n",
    "\n",
    "TEXT.build_vocab(train, vectors=GloVe(name='6B', dim=300),max_size=10000,min_freq=10)\n",
    "LABEL.build_vocab(train,)"
   ]
  },
  {
   "cell_type": "code",
   "execution_count": 2,
   "metadata": {
    "ExecuteTime": {
     "end_time": "2019-04-08T22:44:03.691481Z",
     "start_time": "2019-04-08T22:44:03.675373Z"
    }
   },
   "outputs": [
    {
     "data": {
      "text/plain": [
       "10002"
      ]
     },
     "execution_count": 2,
     "metadata": {},
     "output_type": "execute_result"
    }
   ],
   "source": [
    "len(TEXT.vocab.vectors)"
   ]
  },
  {
   "cell_type": "code",
   "execution_count": 3,
   "metadata": {
    "ExecuteTime": {
     "end_time": "2019-04-08T22:44:05.098565Z",
     "start_time": "2019-04-08T22:44:05.088897Z"
    }
   },
   "outputs": [
    {
     "name": "stderr",
     "output_type": "stream",
     "text": [
      "The `device` argument should be set by using `torch.device` or passing a string as an argument. This behavior will be deprecated soon and currently defaults to cpu.\n",
      "The `device` argument should be set by using `torch.device` or passing a string as an argument. This behavior will be deprecated soon and currently defaults to cpu.\n"
     ]
    }
   ],
   "source": [
    "train_iter, test_iter = data.BucketIterator.splits((train, test), batch_size=32, device=-1)\n",
    "train_iter.repeat = False\n",
    "test_iter.repeat = False"
   ]
  },
  {
   "cell_type": "code",
   "execution_count": 4,
   "metadata": {
    "ExecuteTime": {
     "end_time": "2019-04-08T22:44:06.275137Z",
     "start_time": "2019-04-08T22:44:06.270580Z"
    }
   },
   "outputs": [],
   "source": [
    "import torch.nn as nn\n",
    "import torch.optim as optim\n",
    "import torch.nn.functional as F\n",
    "from torch.autograd import Variable"
   ]
  },
  {
   "cell_type": "code",
   "execution_count": 5,
   "metadata": {
    "ExecuteTime": {
     "end_time": "2019-04-08T22:44:07.313294Z",
     "start_time": "2019-04-08T22:44:07.298139Z"
    }
   },
   "outputs": [],
   "source": [
    "class IMDBRnn(nn.Module):\n",
    "    \n",
    "    def __init__(self,vocab,hidden_size,n_cat,bs=1,nl=2):\n",
    "        super().__init__()\n",
    "        self.hidden_size = hidden_size\n",
    "        self.bs = bs\n",
    "        self.nl = nl\n",
    "        self.e = nn.Embedding(n_vocab,hidden_size)\n",
    "        self.rnn = nn.LSTM(hidden_size,hidden_size,nl)\n",
    "        self.fc2 = nn.Linear(hidden_size,n_cat)\n",
    "        self.softmax = nn.LogSoftmax(dim=-1)\n",
    "\n",
    "    def forward(self,inp):\n",
    "        bs = inp.size()[1]\n",
    "        if bs != self.bs:\n",
    "            self.bs = bs\n",
    "        e_out = self.e(inp)\n",
    "        h0 = c0 = Variable(e_out.data.new(*(self.nl,self.bs,self.hidden_size)).zero_())\n",
    "        rnn_o,_ = self.rnn(e_out,(h0,c0))\n",
    "        rnn_o = rnn_o[-1]\n",
    "        fc = F.dropout(self.fc2(rnn_o),p=0.8)\n",
    "        return self.softmax(fc)"
   ]
  },
  {
   "cell_type": "code",
   "execution_count": 6,
   "metadata": {
    "ExecuteTime": {
     "end_time": "2019-04-08T22:44:08.565456Z",
     "start_time": "2019-04-08T22:44:08.560302Z"
    }
   },
   "outputs": [],
   "source": [
    "n_vocab = len(TEXT.vocab)\n",
    "n_hidden = 100"
   ]
  },
  {
   "cell_type": "code",
   "execution_count": 7,
   "metadata": {
    "ExecuteTime": {
     "end_time": "2019-04-08T22:44:12.310520Z",
     "start_time": "2019-04-08T22:44:12.271214Z"
    },
    "code_folding": []
   },
   "outputs": [],
   "source": [
    "model = IMDBRnn(n_vocab,n_hidden,n_cat=3,bs=32)\n",
    "#model = model.cuda()\n",
    "\n",
    "optimizer = optim.Adam(model.parameters(),lr=1e-3)\n",
    "\n",
    "def fit(epoch,model,data_loader,phase='training',volatile=False):\n",
    "    if phase == 'training':\n",
    "        model.train()\n",
    "    if phase == 'validation':\n",
    "        model.eval()\n",
    "        volatile=True\n",
    "    running_loss = 0.0\n",
    "    running_correct = 0\n",
    "    for batch_idx , batch in enumerate(data_loader):\n",
    "        text , target = batch.text , batch.label\n",
    "#         if is_cuda:\n",
    "#             text,target = text.cuda(),target.cuda()\n",
    "        \n",
    "        if phase == 'training':\n",
    "            optimizer.zero_grad()\n",
    "        output = model(text)\n",
    "        loss = F.nll_loss(output,target)\n",
    "        \n",
    "        #running_loss += F.nll_loss(output,target,size_average=False).data[0]\n",
    "        running_loss += F.nll_loss(output,target,size_average=False).data\n",
    "        preds = output.data.max(dim=1,keepdim=True)[1]\n",
    "        running_correct += preds.eq(target.data.view_as(preds)).cpu().sum()\n",
    "        if phase == 'training':\n",
    "            loss.backward()\n",
    "            optimizer.step()\n",
    "    \n",
    "    loss = running_loss/len(data_loader.dataset)\n",
    "    accuracy = 100. * running_correct/len(data_loader.dataset)\n",
    "    print(\"epoch: \", epoch, \"loss: \", loss, \"accuracy: \", accuracy)\n",
    "    #print(f'{phase} loss is {loss:{5}.{2}} and {phase} accuracy is {running_correct}/{len(data_loader.dataset)}{accuracy:{10}.{4}}')\n",
    "    return loss,accuracy"
   ]
  },
  {
   "cell_type": "code",
   "execution_count": 8,
   "metadata": {
    "ExecuteTime": {
     "end_time": "2019-04-08T23:54:32.198000Z",
     "start_time": "2019-04-08T22:45:14.817732Z"
    }
   },
   "outputs": [
    {
     "name": "stderr",
     "output_type": "stream",
     "text": [
      "/Users/jeffrey/anaconda2/envs/dl/lib/python3.6/site-packages/torch/nn/_reduction.py:49: UserWarning: size_average and reduce args will be deprecated, please use reduction='sum' instead.\n",
      "  warnings.warn(warning.format(ret))\n"
     ]
    },
    {
     "name": "stdout",
     "output_type": "stream",
     "text": [
      "epoch:  1 loss:  tensor(1.0033) accuracy:  tensor(49)\n",
      "epoch:  1 loss:  tensor(1.0032) accuracy:  tensor(49)\n",
      "epoch:  2 loss:  tensor(0.9953) accuracy:  tensor(50)\n",
      "epoch:  2 loss:  tensor(1.0013) accuracy:  tensor(50)\n",
      "epoch:  3 loss:  tensor(1.0006) accuracy:  tensor(50)\n",
      "epoch:  3 loss:  tensor(1.0029) accuracy:  tensor(49)\n",
      "epoch:  4 loss:  tensor(1.0017) accuracy:  tensor(49)\n",
      "epoch:  4 loss:  tensor(1.0013) accuracy:  tensor(50)\n",
      "epoch:  5 loss:  tensor(0.9996) accuracy:  tensor(49)\n",
      "epoch:  5 loss:  tensor(1.0014) accuracy:  tensor(49)\n",
      "epoch:  6 loss:  tensor(1.0021) accuracy:  tensor(49)\n",
      "epoch:  6 loss:  tensor(0.9967) accuracy:  tensor(50)\n",
      "epoch:  7 loss:  tensor(0.9996) accuracy:  tensor(50)\n",
      "epoch:  7 loss:  tensor(1.0007) accuracy:  tensor(50)\n",
      "epoch:  8 loss:  tensor(0.9939) accuracy:  tensor(51)\n",
      "epoch:  8 loss:  tensor(0.9715) accuracy:  tensor(54)\n",
      "epoch:  9 loss:  tensor(0.9452) accuracy:  tensor(57)\n",
      "epoch:  9 loss:  tensor(0.9408) accuracy:  tensor(57)\n",
      "epoch:  10 loss:  tensor(0.9110) accuracy:  tensor(59)\n",
      "epoch:  10 loss:  tensor(0.9207) accuracy:  tensor(58)\n",
      "epoch:  11 loss:  tensor(0.8968) accuracy:  tensor(61)\n",
      "epoch:  11 loss:  tensor(0.9228) accuracy:  tensor(59)\n",
      "epoch:  12 loss:  tensor(0.8757) accuracy:  tensor(62)\n",
      "epoch:  12 loss:  tensor(0.9147) accuracy:  tensor(60)\n",
      "epoch:  13 loss:  tensor(0.8700) accuracy:  tensor(62)\n",
      "epoch:  13 loss:  tensor(0.9154) accuracy:  tensor(59)\n",
      "epoch:  14 loss:  tensor(0.8537) accuracy:  tensor(63)\n",
      "epoch:  14 loss:  tensor(0.9107) accuracy:  tensor(60)\n",
      "epoch:  15 loss:  tensor(0.8455) accuracy:  tensor(63)\n",
      "epoch:  15 loss:  tensor(0.9230) accuracy:  tensor(60)\n",
      "epoch:  16 loss:  tensor(0.8319) accuracy:  tensor(64)\n",
      "epoch:  16 loss:  tensor(0.9202) accuracy:  tensor(60)\n",
      "epoch:  17 loss:  tensor(0.8274) accuracy:  tensor(64)\n",
      "epoch:  17 loss:  tensor(0.9392) accuracy:  tensor(60)\n",
      "epoch:  18 loss:  tensor(0.8199) accuracy:  tensor(65)\n",
      "epoch:  18 loss:  tensor(0.9498) accuracy:  tensor(60)\n",
      "epoch:  19 loss:  tensor(0.8122) accuracy:  tensor(65)\n",
      "epoch:  19 loss:  tensor(0.9666) accuracy:  tensor(60)\n",
      "69.28943564891816\n",
      "Execution Time:  69.3 minutes\n"
     ]
    }
   ],
   "source": [
    "import time\n",
    "start = time.time()\n",
    "\n",
    "train_losses , train_accuracy = [],[]\n",
    "val_losses , val_accuracy = [],[]\n",
    "\n",
    "for epoch in range(1,20):\n",
    "\n",
    "    epoch_loss, epoch_accuracy = fit(epoch,model,train_iter,phase='training')\n",
    "    val_epoch_loss , val_epoch_accuracy = fit(epoch,model,test_iter,phase='validation')\n",
    "    train_losses.append(epoch_loss)\n",
    "    train_accuracy.append(epoch_accuracy)\n",
    "    val_losses.append(val_epoch_loss)\n",
    "    val_accuracy.append(val_epoch_accuracy)\n",
    "    \n",
    "end = time.time()\n",
    "print((end-start)/60)\n",
    "print(\"Execution Time: \", round(((end-start)/60),1), \"minutes\")"
   ]
  },
  {
   "cell_type": "code",
   "execution_count": 9,
   "metadata": {
    "ExecuteTime": {
     "end_time": "2019-04-09T00:34:59.546310Z",
     "start_time": "2019-04-09T00:34:58.418822Z"
    }
   },
   "outputs": [
    {
     "data": {
      "text/plain": [
       "<matplotlib.legend.Legend at 0x149e1f5c0>"
      ]
     },
     "execution_count": 9,
     "metadata": {},
     "output_type": "execute_result"
    },
    {
     "data": {
      "image/png": "[encoded data removed]",
      "text/plain": [
       "<Figure size 432x288 with 1 Axes>"
      ]
     },
     "metadata": {},
     "output_type": "display_data"
    }
   ],
   "source": [
    "import matplotlib.pyplot as plt\n",
    "%matplotlib inline\n",
    "\n",
    "plt.plot(range(1,len(train_losses)+1),train_losses,'bo',label = 'training loss')\n",
    "plt.plot(range(1,len(val_losses)+1),val_losses,'r',label = 'validation loss')\n",
    "plt.legend()"
   ]
  },
  {
   "cell_type": "code",
   "execution_count": 10,
   "metadata": {
    "ExecuteTime": {
     "end_time": "2019-04-09T00:34:59.840977Z",
     "start_time": "2019-04-09T00:34:59.638075Z"
    }
   },
   "outputs": [
    {
     "data": {
      "text/plain": [
       "<matplotlib.legend.Legend at 0x149e91208>"
      ]
     },
     "execution_count": 10,
     "metadata": {},
     "output_type": "execute_result"
    },
    {
     "data": {
      "image/png": "[encoded data removed]",
      "text/plain": [
       "<Figure size 432x288 with 1 Axes>"
      ]
     },
     "metadata": {},
     "output_type": "display_data"
    }
   ],
   "source": [
    "plt.plot(range(1,len(train_accuracy)+1),train_accuracy,'bo',label = 'train accuracy')\n",
    "plt.plot(range(1,len(val_accuracy)+1),val_accuracy,'r',label = 'val accuracy')\n",
    "plt.legend()"
   ]
  },
  {
   "cell_type": "code",
   "execution_count": null,
   "metadata": {},
   "outputs": [],
   "source": []
  }
 ],
 "metadata": {
  "kernelspec": {
   "display_name": "Python [conda env:dl]",
   "language": "python",
   "name": "conda-env-dl-py"
  },
  "language_info": {
   "codemirror_mode": {
    "name": "ipython",
    "version": 3
   },
   "file_extension": ".py",
   "mimetype": "text/x-python",
   "name": "python",
   "nbconvert_exporter": "python",
   "pygments_lexer": "ipython3",
   "version": "3.6.7"
  },
  "toc": {
   "base_numbering": 1,
   "nav_menu": {},
   "number_sections": true,
   "sideBar": true,
   "skip_h1_title": false,
   "title_cell": "Table of Contents",
   "title_sidebar": "Contents",
   "toc_cell": false,
   "toc_position": {},
   "toc_section_display": true,
   "toc_window_display": false
  },
  "varInspector": {
   "cols": {
    "lenName": 16,
    "lenType": 16,
    "lenVar": 40
   },
   "kernels_config": {
    "python": {
     "delete_cmd_postfix": "",
     "delete_cmd_prefix": "del ",
     "library": "var_list.py",
     "varRefreshCmd": "print(var_dic_list())"
    },
    "r": {
     "delete_cmd_postfix": ") ",
     "delete_cmd_prefix": "rm(",
     "library": "var_list.r",
     "varRefreshCmd": "cat(var_dic_list()) "
    }
   },
   "types_to_exclude": [
    "module",
    "function",
    "builtin_function_or_method",
    "instance",
    "_Feature"
   ],
   "window_display": false
  }
 },
 "nbformat": 4,
 "nbformat_minor": 2
}
